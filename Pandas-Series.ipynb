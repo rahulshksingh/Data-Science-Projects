{
 "cells": [
  {
   "cell_type": "markdown",
   "metadata": {},
   "source": [
    "# Pandas Data Structures - Series<br>\n",
    "1. Series <br>\n",
    "It is a 1-d array of data (similar to an array/list/column in a table) with an associated labeled index. <br>\n",
    "It can be created in the same way as a NumPy array is created <br>\n",
    "Creating a Series from arrays, lists, dicts, tuples <br>\n",
    "    >a. Attributes <br>\n",
    "    >b. Subsetting <br>\n",
    "    >c. Methods\n",
    "2. Syntax: series(data=, index=, dtype=, name=)\n"
   ]
  },
  {
   "cell_type": "code",
   "execution_count": 9,
   "metadata": {
    "collapsed": false
   },
   "outputs": [],
   "source": [
    "import numpy as np\n",
    "import pandas as pd\n",
    "#from pandas import Series\n",
    "pd.Series?"
   ]
  },
  {
   "cell_type": "markdown",
   "metadata": {},
   "source": [
    "# How to create Series?"
   ]
  },
  {
   "cell_type": "code",
   "execution_count": 13,
   "metadata": {
    "collapsed": false
   },
   "outputs": [
    {
     "name": "stdout",
     "output_type": "stream",
     "text": [
      "[ 0.46703475 -0.14096726 -0.59425859 -0.25579921 -0.35098542]\n",
      "0    0.467035\n",
      "1   -0.140967\n",
      "2   -0.594259\n",
      "3   -0.255799\n",
      "4   -0.350985\n",
      "dtype: float64\n"
     ]
    }
   ],
   "source": [
    "#Creating a series using an Array\n",
    "#1. Creating an array\n",
    "x_random = np.random.randn(5)\n",
    "print x_random\n",
    "\n",
    "#2. Converting array into series\n",
    "my_series = pd.Series(x_random)\n",
    "print my_series"
   ]
  },
  {
   "cell_type": "code",
   "execution_count": null,
   "metadata": {
    "collapsed": false
   },
   "outputs": [],
   "source": [
    "print dir(my_series),"
   ]
  },
  {
   "cell_type": "code",
   "execution_count": null,
   "metadata": {
    "collapsed": true
   },
   "outputs": [],
   "source": [
    "#Series with Explicit Index\n",
    "my_series_with_explicit_index = pd.Series(x_random.round(2), index=list('abcde'))\n",
    "print my_series_with_explicit_index, '\\n'\n",
    "print my_series_with_explicit_index.values, '\\n'\n",
    "print my_series_with_explicit_index.index, '\\n'"
   ]
  },
  {
   "cell_type": "code",
   "execution_count": 16,
   "metadata": {
    "collapsed": false
   },
   "outputs": [
    {
     "data": {
      "text/plain": [
       "X    1.0\n",
       "Y    2.0\n",
       "Z    3.0\n",
       "Name: Series_1, dtype: float64"
      ]
     },
     "execution_count": 16,
     "metadata": {},
     "output_type": "execute_result"
    }
   ],
   "source": [
    "#Creating Series using a list, tuple or dict\n",
    "# From a list\n",
    "pd.Series([1, 2, 3], index=list('XYZ'), name='Series_1', dtype=float)"
   ]
  },
  {
   "cell_type": "code",
   "execution_count": null,
   "metadata": {
    "collapsed": true
   },
   "outputs": [],
   "source": [
    "# From a tuple\n",
    "pd.Series((1, 2, 3), index=list('abc'), name='Series_1', dtype=float)"
   ]
  },
  {
   "cell_type": "code",
   "execution_count": null,
   "metadata": {
    "collapsed": true
   },
   "outputs": [],
   "source": [
    "# From a dict\n",
    "pd.Series({'a': 1, 'b': 2, 'c':3}, dtype=float, name='Series_from_dict')"
   ]
  },
  {
   "cell_type": "code",
   "execution_count": 20,
   "metadata": {
    "collapsed": false
   },
   "outputs": [
    {
     "name": "stdout",
     "output_type": "stream",
     "text": [
      "Chennai    450.0\n",
      "Delhi      100.0\n",
      "Lucknow      NaN\n",
      "Mumbai     700.0\n",
      "Nagpur       NaN\n",
      "Pune       600.0\n",
      "dtype: float64\n"
     ]
    }
   ],
   "source": [
    "city_dict = {'Delhi': 100, 'Nagpur': None, 'Pune': 600, \n",
    "                    'Mumbai': 700, 'Chennai': 450, 'Lucknow': None}\n",
    "\n",
    "cities = pd.Series(city_dict)\n",
    "print cities"
   ]
  },
  {
   "cell_type": "code",
   "execution_count": 22,
   "metadata": {
    "collapsed": false
   },
   "outputs": [
    {
     "data": {
      "text/plain": [
       "Index([u'Chennai', u'Delhi', u'Lucknow', u'Mumbai', u'Nagpur', u'Pune'], dtype='object')"
      ]
     },
     "execution_count": 22,
     "metadata": {},
     "output_type": "execute_result"
    }
   ],
   "source": [
    "cities.index"
   ]
  },
  {
   "cell_type": "markdown",
   "metadata": {},
   "source": [
    "---\n",
    "## Series Attributes\n",
    "\n",
    "- An attribute contains METADATA about the data structure\n",
    "- accessed using the dot operator `my_series.<attr-name>`"
   ]
  },
  {
   "cell_type": "code",
   "execution_count": null,
   "metadata": {
    "collapsed": true
   },
   "outputs": [],
   "source": [
    "print my_series\n",
    "print\n",
    "type(my_series)\n",
    "print\n",
    "print my_series.values\n",
    "print\n",
    "print my_series.index\n",
    "print\n",
    "print type(my_series.values)\n",
    "print\n",
    "print type(my_series.index)\n",
    "print\n",
    "print my_series.shape\n",
    "print\n",
    "print my_series.nbytes\n",
    "print"
   ]
  },
  {
   "cell_type": "markdown",
   "metadata": {},
   "source": [
    "### From Series to dictionary, list"
   ]
  },
  {
   "cell_type": "code",
   "execution_count": 23,
   "metadata": {
    "collapsed": false
   },
   "outputs": [
    {
     "data": {
      "text/plain": [
       "[0.46703475262642785,\n",
       " -0.14096725652312447,\n",
       " -0.594258594742233,\n",
       " -0.25579920981191817,\n",
       " -0.3509854238838949]"
      ]
     },
     "execution_count": 23,
     "metadata": {},
     "output_type": "execute_result"
    }
   ],
   "source": [
    "my_series.tolist()"
   ]
  },
  {
   "cell_type": "code",
   "execution_count": null,
   "metadata": {
    "collapsed": true
   },
   "outputs": [],
   "source": [
    "my_series.to_dict()"
   ]
  },
  {
   "cell_type": "code",
   "execution_count": null,
   "metadata": {
    "collapsed": true
   },
   "outputs": [],
   "source": [
    "my_series_with_explicit_index.tolist()"
   ]
  },
  {
   "cell_type": "code",
   "execution_count": null,
   "metadata": {
    "collapsed": true
   },
   "outputs": [],
   "source": [
    "my_series_with_explicit_index.to_dict()"
   ]
  },
  {
   "cell_type": "code",
   "execution_count": null,
   "metadata": {
    "collapsed": true
   },
   "outputs": [],
   "source": []
  },
  {
   "cell_type": "markdown",
   "metadata": {},
   "source": [
    "## Subsetting a Series"
   ]
  },
  {
   "cell_type": "markdown",
   "metadata": {},
   "source": [
    "We can use \n",
    "- label-based indexing by passing index labels associated with the values\n",
    "> - Single/list of labels <br>\n",
    "> - Slice of labels <br>\n",
    "> - Positional slicing <br>\n",
    "> - Reversing the series <br>\n",
    "- Fancy indexing using methods like loc, iloc, ix, at, iat \n",
    "> - .loc() for label based subsetting <br>\n",
    "> - .iloc() for integer based subsetting <br>\n",
    "> - .ix() and .at(), .iat() exist, but they serve the same purpose like loc and iloc <br>\n",
    "- Boolean indexing for subsetting with logical arrays\n",
    "> - boolean indexing works in the same way as it does for subsetting NumPy arrays. We create a boolean of the same length as the Series, (using the same Series), and then pass the boolean to the squre bracket subsetter <br>\n",
    "\n",
    "This is mostly similar to numPy array slicing except the returned values have the index associated."
   ]
  },
  {
   "cell_type": "code",
   "execution_count": null,
   "metadata": {
    "collapsed": true
   },
   "outputs": [],
   "source": [
    "my_series = pd.Series(np.random.randn(5), index = list('abcde')).round(2)\n",
    "my_series"
   ]
  },
  {
   "cell_type": "code",
   "execution_count": null,
   "metadata": {
    "collapsed": true
   },
   "outputs": [],
   "source": [
    "# One Label\n",
    "print my_series['a']\n",
    "print\n",
    "\n",
    "# List of Labels\n",
    "print my_series[['b','c','e']] \n",
    "print\n",
    "\n",
    "# Label Slice\n",
    "print my_series['a':'e']\n",
    "print\n",
    "print my_series[:'b']\n",
    "print\n",
    "\n",
    "# Positional Slicing\n",
    "print my_series[0:3] \n",
    "print\n",
    "print my_series[:2]\n",
    "print\n",
    "\n",
    "#Reverse the series\n",
    "print my_series[::-1]\n",
    "print\n"
   ]
  },
  {
   "cell_type": "code",
   "execution_count": null,
   "metadata": {
    "collapsed": true
   },
   "outputs": [],
   "source": [
    "#Series Slicing using methods like loc, iloc, ix\n",
    "# LABEL BASED INDEXER METHOD\n",
    "#.loc() for label based subsetting \n",
    "#.iloc() for integer based subsetting\n",
    "# my_series.loc?\n",
    "\n",
    "#%timeit my_series.loc[['a', 'c', 'e']]\n",
    "print my_series.loc[['a', 'c', 'e']] \n",
    "print\n",
    "\n",
    "#%timeit my_series[['a', 'c', 'e']]\n",
    "print my_series[['a', 'c', 'e']]\n",
    "print\n",
    "\n",
    "# INTEGER BASED INDEXED METHOD\n",
    "#my_series.iloc?\n",
    "\n",
    "print my_series.iloc[0:2]\n",
    "print \n",
    "\n",
    "print my_series.loc[:-3]\n",
    "print \n",
    "\n",
    "# MIXED LABELS and INTEGERS BASED INDEXER METHOD\n",
    "#.ix[] supports mixed integer and label based access. It is primarily label based, but will fall back to integer positional access\n",
    "#my_series.ix?\n",
    "\n",
    "print my_series.ix['a':'c']\n",
    "print \n",
    "\n",
    "print my_series.ix[0:2]\n",
    "print "
   ]
  },
  {
   "cell_type": "markdown",
   "metadata": {},
   "source": [
    "## Boolean Series and Indexing\n",
    "- Use conditional operators to create an equal-length Boolean series\n",
    "- Subset the series using this boolean inside square brackets"
   ]
  },
  {
   "cell_type": "code",
   "execution_count": 27,
   "metadata": {
    "collapsed": false
   },
   "outputs": [
    {
     "name": "stdout",
     "output_type": "stream",
     "text": [
      "A   -1.09\n",
      "B    0.80\n",
      "C    0.59\n",
      "A    1.32\n",
      "B    0.23\n",
      "C   -0.49\n",
      "A    1.29\n",
      "B   -0.85\n",
      "C    0.09\n",
      "A   -0.87\n",
      "B   -0.09\n",
      "C    0.31\n",
      "A    0.41\n",
      "B    0.57\n",
      "C    0.91\n",
      "dtype: float64\n"
     ]
    }
   ],
   "source": [
    "my_series = pd.Series(np.random.randn(15).round(2), index=list('ABC'*5))\n",
    "print my_series"
   ]
  },
  {
   "cell_type": "code",
   "execution_count": null,
   "metadata": {
    "collapsed": true
   },
   "outputs": [],
   "source": [
    "my_series.loc['A':'C']"
   ]
  },
  {
   "cell_type": "code",
   "execution_count": 28,
   "metadata": {
    "collapsed": false
   },
   "outputs": [
    {
     "data": {
      "text/plain": [
       "A    False\n",
       "B     True\n",
       "C     True\n",
       "A     True\n",
       "B     True\n",
       "C    False\n",
       "A     True\n",
       "B    False\n",
       "C     True\n",
       "A    False\n",
       "B    False\n",
       "C     True\n",
       "A     True\n",
       "B     True\n",
       "C     True\n",
       "dtype: bool"
      ]
     },
     "execution_count": 28,
     "metadata": {},
     "output_type": "execute_result"
    }
   ],
   "source": [
    "my_series > 0"
   ]
  },
  {
   "cell_type": "code",
   "execution_count": 29,
   "metadata": {
    "collapsed": false
   },
   "outputs": [
    {
     "data": {
      "text/plain": [
       "B    0.80\n",
       "C    0.59\n",
       "A    1.32\n",
       "B    0.23\n",
       "A    1.29\n",
       "C    0.09\n",
       "C    0.31\n",
       "A    0.41\n",
       "B    0.57\n",
       "C    0.91\n",
       "dtype: float64"
      ]
     },
     "execution_count": 29,
     "metadata": {},
     "output_type": "execute_result"
    }
   ],
   "source": [
    "my_series[my_series > 0]"
   ]
  },
  {
   "cell_type": "code",
   "execution_count": null,
   "metadata": {
    "collapsed": true
   },
   "outputs": [],
   "source": [
    "#subsetting using combination of methods\n",
    "print my_series.max()\n",
    "print my_series.idxmax()\n",
    "# Subsetting with 'ix'\n",
    "    # Select the biggest value in a Series\n",
    "print my_series.ix[my_series.idxmax()]"
   ]
  },
  {
   "cell_type": "markdown",
   "metadata": {},
   "source": [
    "## Data Wrangling Tasks\n",
    "\n",
    "- Peaking the data: \n",
    "> head and tail  are used to view a small sample of a Series or DataFrame object, use the head() and tail() methods. The default number of elements to display is five, but you may pass a custom number.\n",
    "- Array Operations on a Series <br>\n",
    "> Array operations on the Series preserves the index-value links <br>\n",
    "> Alignment in Arithmetic Operations <br>\n",
    "> Series with different indexes will be automatically aligned, and NaNs induced in locations where data is not found. <br>\n",
    "> The indexes are _unioned_. <br>\n",
    "> Think of binary operations as outer joins.\n",
    "- Series in a list/dict comprehension <br>\n",
    "- Checking values belonging to a list: \n",
    "> isin produces a boolean by comparing each element of the Series against the provided list. It takes True if the element belongs to the list. This boolean may then be used for subsetting the Series. \n",
    "- Reindexing <br>\n",
    "- Type Conversion: \n",
    "> astype explicitly convert dtypes from one to another <br>\n",
    "- Treating Outliers: \n",
    ">clip_upper, clip_lower can be used to clip outliers at a threshold value. All values lower than the one supplied to clip_lower , or higher than the one supplied to clip_upper will be replaced by that value. <br>\n",
    "> This function is especially useful in treating outliers when used in conjunction with .quantile() <br>\n",
    "> ( Note: In data wrangling, we generally clip values at the 1st-99th Percentile (or the 5th-95th \tpercentile)) <br>\n",
    "- Replacing Values: \n",
    "> replace is an effective way to replace source values with target values by suppling a dictionary with the required substitutions\n",
    "- Finding uniques and their frequency: unique, nunique, value_counts \n",
    "> These methods are used to find the array of distinct values in a categorical Series, to count the number of distinct items, and to create a frequency table respectively. <br>\n",
    "- Dealing with Duplicates: duplicated \n",
    "> Duplicated produces a boolean that marks every instance of a value after its first occurrence as True. drop_duplicates returns the Series with the duplicates removed. If you want to drop duplicated permanently, pass the inplace=True argument. <br>\n",
    "- Finding the largest/smallest values: idxmax, idxmin, nlargest, nsmallest \n",
    "> As their names imply, these methods help in finding the largest, smallest, n-largest and n-smallest respectively. Note that the index label is returned with these values, and this can be especially helpful in many cases.<br>\n",
    "- Sorting the data: \n",
    "> sort_values , sort_index help in sorting a Series by values or by index. Note: that in order to make the sorting permanent, we need to pass an inplace=True argument.\n",
    "- Mathematical Summaries:  \n",
    "> mean, median, std, quantile, describe are mathematical methods employed to find the measures of central tendency for a given set of data points. quantile finds the requested percentiles, whereas describe produces the summary statistics for the data. <br> \n",
    "- Dealing with missing data: \n",
    "> isnull, notnull are complementary methods that work on a Series with missing data to produce boolean Series to identify missing or non-missing values respectively. Note that both the NumPy np.nan and the base Python None type are identified as missing values <br>\n",
    "- Missing values imputation: \n",
    "> fillna, ffill and bfill, dropna This set of Series methods allow us to deal with missing data by choosing to either impute them with a particular value, or by copying the last known value over the missing ones (typically used in time-series analysis.) We may sometimes want to drop the missing data altogether and dropna helps us in doing that. <br>\n",
    "> (Note: It is a common practice in data science to replace missing values in a numeric variable by its mean (or median if the data is skewed) and in categorical variables with its mode <br>\n",
    "\n",
    "- Apply function to each element: \n",
    "> map is perhaps the most important of all series methods. It takes a general-purpose or user-defined function and applies it to each value in the Series. Combined with base Python's lambda functions, it can be an incredibly powerful tool in transforming a given Series. <br>\n",
    "> This sounds like the  map function for List objects in Base Python. The .map() method can be understood as a wrapper around that function <br>\n",
    "- Visualizing the data: \n",
    "> The plot method is a gateway to a treasure trove of potential visualizations like histograms, bar charts, scatterplots, boxplots and more.<br>\n",
    "\n"
   ]
  },
  {
   "cell_type": "code",
   "execution_count": 33,
   "metadata": {
    "collapsed": false
   },
   "outputs": [],
   "source": [
    "my_series= pd.Series(np.random.randn(15).round(2), index=list('ABC'*5))"
   ]
  },
  {
   "cell_type": "code",
   "execution_count": null,
   "metadata": {
    "collapsed": true
   },
   "outputs": [],
   "source": [
    "#peaking the data\n",
    "print my_series.head()\n",
    "print\n",
    "print my_series.tail()\n",
    "print"
   ]
  },
  {
   "cell_type": "code",
   "execution_count": null,
   "metadata": {
    "collapsed": true
   },
   "outputs": [],
   "source": [
    "#Array operations on a series: Array operations on the Series preserves the index-value links\n",
    "#Methods that apply to dicts are also valid on a Series.\n",
    "\n",
    "print np.sqrt(my_series)\n",
    "print \n",
    "print my_series + my_series\n",
    "print \n",
    "print my_series / 2\n",
    "# The index-value linkages are preserved.\n",
    "my_series2 = my_series2 * 2; print my_series2"
   ]
  },
  {
   "cell_type": "code",
   "execution_count": null,
   "metadata": {
    "collapsed": true
   },
   "outputs": [],
   "source": [
    "my_series > my_series * 2"
   ]
  },
  {
   "cell_type": "code",
   "execution_count": null,
   "metadata": {
    "collapsed": true
   },
   "outputs": [],
   "source": [
    "cities = pd.Series({'Delhi': 100, 'Nagpur': None, 'Pune': 600, \n",
    "                    'Mumbai': 700, 'Chennai': 450, 'Lucknow': None})\n",
    "print cities\n",
    "print '\\n'\n",
    "# Adding two Series together returns a union of the two Series with the addition occurring on the shared index values. \n",
    "# Values on either Series that did not have a shared index will produce a NULL/NaN (not a number).\n",
    "\n",
    "print cities[['Chennai', 'Pune', 'Mumbai']]\n",
    "print'\\n'\n",
    "print cities[['Pune', 'Delhi']]\n",
    "print'\\n'\n",
    "print cities[['Pune', 'Delhi']] + cities[['Chennai', 'Pune', 'Mumbai']]"
   ]
  },
  {
   "cell_type": "code",
   "execution_count": null,
   "metadata": {
    "collapsed": true
   },
   "outputs": [],
   "source": [
    "#Checking values belonging to a list\n",
    "#1. using in operator\n",
    "my_series = pd.Series(['foo', 'bar', 'boo', 'far'])\n",
    "my_series"
   ]
  },
  {
   "cell_type": "code",
   "execution_count": null,
   "metadata": {
    "collapsed": true
   },
   "outputs": [],
   "source": [
    "print 1 in my_series.index\n",
    "print \n",
    "print 'foo' in my_series.index"
   ]
  },
  {
   "cell_type": "code",
   "execution_count": null,
   "metadata": {
    "collapsed": true
   },
   "outputs": [],
   "source": [
    "diner = pd.Series({'ham': 1, 'eggs': 3, 'bacon': 2, 'coffee': 1, 'toast': 0.5, 'jam': 0.2})"
   ]
  },
  {
   "cell_type": "code",
   "execution_count": null,
   "metadata": {
    "collapsed": true
   },
   "outputs": [],
   "source": [
    "'pancakes' in diner # this matches only the labels not values"
   ]
  },
  {
   "cell_type": "code",
   "execution_count": null,
   "metadata": {
    "collapsed": true
   },
   "outputs": [],
   "source": [
    "diner['pancakes'] = 5 # replace values"
   ]
  },
  {
   "cell_type": "code",
   "execution_count": null,
   "metadata": {
    "collapsed": true
   },
   "outputs": [],
   "source": [
    "'bacon' in diner.index\n",
    "# or 'bacon' in diner.keys()"
   ]
  },
  {
   "cell_type": "code",
   "execution_count": null,
   "metadata": {
    "collapsed": true
   },
   "outputs": [],
   "source": [
    "'bacon' in diner"
   ]
  },
  {
   "cell_type": "code",
   "execution_count": null,
   "metadata": {
    "collapsed": true
   },
   "outputs": [],
   "source": [
    "#THE .isin() method\n",
    "pls = pd.Series(['c', 'py', 'java', 'scala', 'swift'])\n",
    "print pls\n",
    "print\n",
    "print pls.isin(['a', 'b'])\n",
    "print\n",
    "print pls.isin(['r', 'py', 'vba', 'swift'])\n",
    "print\n",
    "print pd.Series([X in ['r', 'py', 'vba', 'swift'] for X in pls.values])\n",
    "print\n",
    "print pls[pls.isin(['java', 'py'])]"
   ]
  },
  {
   "cell_type": "code",
   "execution_count": 94,
   "metadata": {
    "collapsed": false
   },
   "outputs": [
    {
     "data": {
      "text/plain": [
       "<iterator at 0x88245f8>"
      ]
     },
     "execution_count": 94,
     "metadata": {},
     "output_type": "execute_result"
    }
   ],
   "source": [
    "# comprehensions\n",
    "iter(pls)\n",
    "iter(pls.index)\n",
    "iter(pls.values)"
   ]
  },
  {
   "cell_type": "code",
   "execution_count": null,
   "metadata": {
    "collapsed": true
   },
   "outputs": [],
   "source": [
    "print diner\n",
    "print\n",
    "print pd.Series({k: v + 2 for k, v in diner.iteritems() if k not in ['ham', 'jam']})\n",
    "print\n",
    "print [x + 2 for x in diner]\n",
    "print\n",
    "print diner +2"
   ]
  },
  {
   "cell_type": "code",
   "execution_count": 43,
   "metadata": {
    "collapsed": false
   },
   "outputs": [
    {
     "data": {
      "text/plain": [
       "a      2.56\n",
       "b     -0.03\n",
       "c      0.13\n",
       "d     -1.82\n",
       "e      0.31\n",
       "x     10.00\n",
       "z    666.00\n",
       "dtype: float64"
      ]
     },
     "execution_count": 43,
     "metadata": {},
     "output_type": "execute_result"
    }
   ],
   "source": [
    "#Re-indexing\n",
    "my_series = pd.Series(np.random.randn(5), index = list('abcde')).round(2)\n",
    "#print my_series\n",
    "\n",
    "my_series['x'] = 10\n",
    "my_series\n",
    "\n",
    "my_series['z'] = 666\n",
    "my_series"
   ]
  },
  {
   "cell_type": "code",
   "execution_count": null,
   "metadata": {
    "collapsed": true
   },
   "outputs": [],
   "source": [
    "#TYPE CONVERSION\n",
    "#astype explicitly convert dtypes from one to another\n",
    "my_series=pd.Series(np.random.randn(1000).round(2))\n",
    "print my_series.head()\n",
    "print\n",
    "print my_series.astype(str).head() "
   ]
  },
  {
   "cell_type": "code",
   "execution_count": null,
   "metadata": {
    "collapsed": true
   },
   "outputs": [],
   "source": [
    "#Handling Outliers - Method1\n",
    "print my_series.head(10)\n",
    "print my_series.head(10).clip_upper(.50) \n",
    "print my_series.head(10).clip_lower(.50) \n",
    "\n",
    "#Handling Outliers-Method2\n",
    "print my_series.head(10)\n",
    "print my_series.head(10).clip_upper(my_series.quantile(0.01)) \n",
    "print my_series.head(10).clip_lower(my_series.quantile(0.99)) "
   ]
  },
  {
   "cell_type": "code",
   "execution_count": null,
   "metadata": {
    "collapsed": true
   },
   "outputs": [],
   "source": [
    "#Replace value\n",
    "fruits = pd.Series(['apples', 'oranges', 'peaches', 'mangoes']) \n",
    "print fruits\n",
    "fruits.replace({'apples':'grapes', 'peaches':'bananas'}) "
   ]
  },
  {
   "cell_type": "code",
   "execution_count": null,
   "metadata": {
    "collapsed": true
   },
   "outputs": [],
   "source": [
    "fruits.replace({'apples':'grapes', 'peaches':'bananas'}) "
   ]
  },
  {
   "cell_type": "code",
   "execution_count": null,
   "metadata": {
    "collapsed": true
   },
   "outputs": [],
   "source": [
    "#Detect Missing Values\n",
    "#Missing values appear as NaN. Funtions isnull and notnull are used to detect missings.\n",
    "#They both produce booleans that can be used for subsetting\n",
    "\n",
    "my_series=pd.Series([1.12, 3.14, np.nan, 6.02, 2.73, None])\n",
    "print my_series\n",
    "print\n",
    "print my_series.isnull()\n",
    "print\n",
    "print my_series.notnull()"
   ]
  },
  {
   "cell_type": "code",
   "execution_count": null,
   "metadata": {
    "collapsed": true
   },
   "outputs": [],
   "source": [
    "my_series2 = my_series[my_series.notnull()]"
   ]
  },
  {
   "cell_type": "code",
   "execution_count": null,
   "metadata": {
    "collapsed": true
   },
   "outputs": [],
   "source": [
    "my_series[my_series.isnull()]"
   ]
  },
  {
   "cell_type": "code",
   "execution_count": null,
   "metadata": {
    "collapsed": true
   },
   "outputs": [],
   "source": [
    "my_series.fillna(0)"
   ]
  },
  {
   "cell_type": "code",
   "execution_count": 47,
   "metadata": {
    "collapsed": false
   },
   "outputs": [
    {
     "data": {
      "text/plain": [
       "3.2525"
      ]
     },
     "execution_count": 47,
     "metadata": {},
     "output_type": "execute_result"
    }
   ],
   "source": [
    "my_series.mean()"
   ]
  },
  {
   "cell_type": "code",
   "execution_count": 48,
   "metadata": {
    "collapsed": false
   },
   "outputs": [
    {
     "data": {
      "text/plain": [
       "0    1.1200\n",
       "1    3.1400\n",
       "2    3.2525\n",
       "3    6.0200\n",
       "4    2.7300\n",
       "5    3.2525\n",
       "dtype: float64"
      ]
     },
     "execution_count": 48,
     "metadata": {},
     "output_type": "execute_result"
    }
   ],
   "source": [
    "my_series.fillna(my_series.mean())"
   ]
  },
  {
   "cell_type": "code",
   "execution_count": 49,
   "metadata": {
    "collapsed": false
   },
   "outputs": [
    {
     "data": {
      "text/plain": [
       "0    1.12\n",
       "1    3.14\n",
       "2    3.14\n",
       "3    6.02\n",
       "4    2.73\n",
       "5    2.73\n",
       "dtype: float64"
      ]
     },
     "execution_count": 49,
     "metadata": {},
     "output_type": "execute_result"
    }
   ],
   "source": [
    "my_series.fillna(method='ffill')"
   ]
  },
  {
   "cell_type": "code",
   "execution_count": null,
   "metadata": {
    "collapsed": true
   },
   "outputs": [],
   "source": [
    "my_series.fillna(method='bfill')"
   ]
  },
  {
   "cell_type": "markdown",
   "metadata": {},
   "source": [
    "## Difference between NA and NaN\n",
    "\n",
    "- NaN is a mathematical entity\n",
    "- NA is for missing data"
   ]
  },
  {
   "cell_type": "code",
   "execution_count": null,
   "metadata": {
    "collapsed": true
   },
   "outputs": [],
   "source": [
    "print type(np.nan)\n",
    "print type(None)"
   ]
  },
  {
   "cell_type": "code",
   "execution_count": null,
   "metadata": {
    "collapsed": true
   },
   "outputs": [],
   "source": [
    "#Finding uniques and their frequency\n",
    "my_series = pd.Series(list('abcd' * 3)) \n",
    "print my_series\n",
    "print\n",
    "print my_series.unique()\n",
    "print\n",
    "#print np.array(['a', 'b', 'c', 'd'], dtype=object)\n",
    "print\n",
    "print my_series.nunique()\n",
    "print\n",
    "print my_series.value_counts() \n"
   ]
  },
  {
   "cell_type": "code",
   "execution_count": null,
   "metadata": {
    "collapsed": true
   },
   "outputs": [],
   "source": [
    "#Handling duplicates\n",
    "my_series.duplicated() "
   ]
  },
  {
   "cell_type": "code",
   "execution_count": null,
   "metadata": {
    "collapsed": true
   },
   "outputs": [],
   "source": [
    "my_series.drop_duplicates() "
   ]
  },
  {
   "cell_type": "code",
   "execution_count": null,
   "metadata": {
    "collapsed": true
   },
   "outputs": [],
   "source": [
    "#Finding the largest & smallest values\n",
    "my_series =  pd.Series(np.random.randint(0, 50, 6), index=list('xyzabc'))\n",
    "print my_series\n",
    "print\n",
    "print my_series.idxmax()\n",
    "print\n",
    "print my_series.idxmin()\n",
    "print\n",
    "print my_series.nlargest(3)\n",
    "print\n",
    "print my_series.nsmallest(3)"
   ]
  },
  {
   "cell_type": "code",
   "execution_count": null,
   "metadata": {
    "collapsed": true
   },
   "outputs": [],
   "source": [
    "#Sorting the data\n",
    "my_series.sort_values()"
   ]
  },
  {
   "cell_type": "code",
   "execution_count": null,
   "metadata": {
    "collapsed": true
   },
   "outputs": [],
   "source": [
    "my_series.sort_index()"
   ]
  },
  {
   "cell_type": "code",
   "execution_count": null,
   "metadata": {
    "collapsed": true
   },
   "outputs": [],
   "source": [
    "#Mathematical summaries\n",
    "my_series=pd.Series(np.random.randn(100))\n",
    "print my_series.head(5)\n",
    "print\n",
    "print my_series.mean()\n",
    "print\n",
    "print my_series.std()\n",
    "print\n",
    "print my_series.sum()\n",
    "print\n",
    "print my_series.count()\n",
    "print\n",
    "print my_series.median()\n",
    "print\n",
    "print my_series.quantile([0.10, 0.25,0.5,0.75,0.9,0.99])\n",
    "print\n",
    "print my_series.describe()"
   ]
  },
  {
   "cell_type": "code",
   "execution_count": null,
   "metadata": {
    "collapsed": true
   },
   "outputs": [],
   "source": [
    "#Handling Missing data\n",
    "my_series=pd.Series([1.12, 3.14, np.nan, 6.02, 2.73, None])\n",
    "print my_series\n",
    "print my_series.isnull()\n",
    "print my_series.notnull()"
   ]
  },
  {
   "cell_type": "code",
   "execution_count": null,
   "metadata": {
    "collapsed": true
   },
   "outputs": [],
   "source": [
    "# Let's say we have a list of names stored in a Series In [125]: \n",
    "my_series = pd.Series(['Dave Smith', 'Jane Doe', 'Carl James', 'Jim Hunt'])\n",
    "print my_series\n",
    "\n",
    "# Find the length of each name \n",
    "print my_series.map(lambda x: len(x)) \n",
    "\n",
    "#Find the initials\n",
    "\n",
    "print my_series.map(lambda x: '.'.join([i[0] for i in x.split(' ')])) \n"
   ]
  },
  {
   "cell_type": "code",
   "execution_count": null,
   "metadata": {
    "collapsed": true
   },
   "outputs": [],
   "source": [
    "#Visualize the data\n",
    "# Create a categorical series \n",
    "my_series =  pd.Series(list('a' * 3) + list('b' * 5) + list('c' * 9) + list('d' * 2))\n",
    "my_series.head()\n"
   ]
  },
  {
   "cell_type": "code",
   "execution_count": null,
   "metadata": {
    "collapsed": true
   },
   "outputs": [],
   "source": [
    "my_series.value_counts().plot.bar() "
   ]
  },
  {
   "cell_type": "code",
   "execution_count": null,
   "metadata": {
    "collapsed": true
   },
   "outputs": [],
   "source": [
    "# Create a numerical series\n",
    "my_series=Series(np.random.randn(1000))\n",
    "print my_series\n",
    "my_series.plot.hist()\n"
   ]
  }
 ],
 "metadata": {
  "kernelspec": {
   "display_name": "Python 2",
   "language": "python",
   "name": "python2"
  },
  "language_info": {
   "codemirror_mode": {
    "name": "ipython",
    "version": 2
   },
   "file_extension": ".py",
   "mimetype": "text/x-python",
   "name": "python",
   "nbconvert_exporter": "python",
   "pygments_lexer": "ipython2",
   "version": "2.7.13"
  }
 },
 "nbformat": 4,
 "nbformat_minor": 0
}
