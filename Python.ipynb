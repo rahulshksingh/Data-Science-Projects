{
 "cells": [
  {
   "cell_type": "code",
   "execution_count": 1,
   "metadata": {
    "collapsed": true
   },
   "outputs": [],
   "source": [
    "import numpy as np\n",
    "import pandas as pd"
   ]
  },
  {
   "cell_type": "code",
   "execution_count": 2,
   "metadata": {
    "collapsed": true
   },
   "outputs": [],
   "source": [
    "# Numpy Arrarys\n",
    "l1 = [12,34,56,43,21,78,90,54,32,6,78,9,10,1,29,83,18,15,99,47]"
   ]
  },
  {
   "cell_type": "code",
   "execution_count": 3,
   "metadata": {
    "collapsed": true
   },
   "outputs": [],
   "source": [
    "# Creating Arrays use - array()\n",
    "arr1 = np.array(l1)"
   ]
  },
  {
   "cell_type": "code",
   "execution_count": 5,
   "metadata": {
    "collapsed": false
   },
   "outputs": [
    {
     "data": {
      "text/plain": [
       "numpy.ndarray"
      ]
     },
     "execution_count": 5,
     "metadata": {},
     "output_type": "execute_result"
    }
   ],
   "source": [
    "type(arr1)"
   ]
  },
  {
   "cell_type": "code",
   "execution_count": 6,
   "metadata": {
    "collapsed": false
   },
   "outputs": [
    {
     "name": "stdout",
     "output_type": "stream",
     "text": [
      "['__add__', '__class__', '__contains__', '__delattr__', '__delitem__', '__delslice__', '__doc__', '__eq__', '__format__', '__ge__', '__getattribute__', '__getitem__', '__getslice__', '__gt__', '__hash__', '__iadd__', '__imul__', '__init__', '__iter__', '__le__', '__len__', '__lt__', '__mul__', '__ne__', '__new__', '__reduce__', '__reduce_ex__', '__repr__', '__reversed__', '__rmul__', '__setattr__', '__setitem__', '__setslice__', '__sizeof__', '__str__', '__subclasshook__', 'append', 'count', 'extend', 'index', 'insert', 'pop', 'remove', 'reverse', 'sort']\n"
     ]
    }
   ],
   "source": [
    "print(dir(l1))"
   ]
  },
  {
   "cell_type": "code",
   "execution_count": 7,
   "metadata": {
    "collapsed": false
   },
   "outputs": [
    {
     "name": "stdout",
     "output_type": "stream",
     "text": [
      "['T', '__abs__', '__add__', '__and__', '__array__', '__array_finalize__', '__array_interface__', '__array_prepare__', '__array_priority__', '__array_struct__', '__array_wrap__', '__class__', '__contains__', '__copy__', '__deepcopy__', '__delattr__', '__delitem__', '__delslice__', '__div__', '__divmod__', '__doc__', '__eq__', '__float__', '__floordiv__', '__format__', '__ge__', '__getattribute__', '__getitem__', '__getslice__', '__gt__', '__hash__', '__hex__', '__iadd__', '__iand__', '__idiv__', '__ifloordiv__', '__ilshift__', '__imod__', '__imul__', '__index__', '__init__', '__int__', '__invert__', '__ior__', '__ipow__', '__irshift__', '__isub__', '__iter__', '__itruediv__', '__ixor__', '__le__', '__len__', '__long__', '__lshift__', '__lt__', '__mod__', '__mul__', '__ne__', '__neg__', '__new__', '__nonzero__', '__oct__', '__or__', '__pos__', '__pow__', '__radd__', '__rand__', '__rdiv__', '__rdivmod__', '__reduce__', '__reduce_ex__', '__repr__', '__rfloordiv__', '__rlshift__', '__rmod__', '__rmul__', '__ror__', '__rpow__', '__rrshift__', '__rshift__', '__rsub__', '__rtruediv__', '__rxor__', '__setattr__', '__setitem__', '__setslice__', '__setstate__', '__sizeof__', '__str__', '__sub__', '__subclasshook__', '__truediv__', '__xor__', 'all', 'any', 'argmax', 'argmin', 'argpartition', 'argsort', 'astype', 'base', 'byteswap', 'choose', 'clip', 'compress', 'conj', 'conjugate', 'copy', 'ctypes', 'cumprod', 'cumsum', 'data', 'diagonal', 'dot', 'dtype', 'dump', 'dumps', 'fill', 'flags', 'flat', 'flatten', 'getfield', 'imag', 'item', 'itemset', 'itemsize', 'max', 'mean', 'min', 'nbytes', 'ndim', 'newbyteorder', 'nonzero', 'partition', 'prod', 'ptp', 'put', 'ravel', 'real', 'repeat', 'reshape', 'resize', 'round', 'searchsorted', 'setfield', 'setflags', 'shape', 'size', 'sort', 'squeeze', 'std', 'strides', 'sum', 'swapaxes', 'take', 'tobytes', 'tofile', 'tolist', 'tostring', 'trace', 'transpose', 'var', 'view']\n"
     ]
    }
   ],
   "source": [
    "print(dir(arr1))"
   ]
  },
  {
   "cell_type": "code",
   "execution_count": 9,
   "metadata": {
    "collapsed": false
   },
   "outputs": [
    {
     "data": {
      "text/plain": [
       "56"
      ]
     },
     "execution_count": 9,
     "metadata": {},
     "output_type": "execute_result"
    }
   ],
   "source": [
    "arr1[2] # third element"
   ]
  },
  {
   "cell_type": "raw",
   "metadata": {},
   "source": [
    "# Pandas Series\n",
    "Base                                   pandas\n",
    "------                               -----------\n",
    "str                                  Object or 'o'\n",
    "float                                float64\n",
    "long\n",
    "                                     int64\n",
    "int\n",
    "bool                                 bool\n",
    "---                                  datetime64"
   ]
  },
  {
   "cell_type": "code",
   "execution_count": 11,
   "metadata": {
    "collapsed": true
   },
   "outputs": [],
   "source": [
    "#Series is 1d homogenous DS\n",
    "# pd.Series(list/tuple/dict/ndarray)\n",
    "ser1 = pd.Series(l1)\n"
   ]
  },
  {
   "cell_type": "code",
   "execution_count": 12,
   "metadata": {
    "collapsed": false
   },
   "outputs": [
    {
     "data": {
      "text/plain": [
       "pandas.core.series.Series"
      ]
     },
     "execution_count": 12,
     "metadata": {},
     "output_type": "execute_result"
    }
   ],
   "source": [
    "type(ser1)"
   ]
  },
  {
   "cell_type": "code",
   "execution_count": 13,
   "metadata": {
    "collapsed": false
   },
   "outputs": [
    {
     "data": {
      "text/plain": [
       "0     12\n",
       "1     34\n",
       "2     56\n",
       "3     43\n",
       "4     21\n",
       "5     78\n",
       "6     90\n",
       "7     54\n",
       "8     32\n",
       "9      6\n",
       "10    78\n",
       "11     9\n",
       "12    10\n",
       "13     1\n",
       "14    29\n",
       "15    83\n",
       "16    18\n",
       "17    15\n",
       "18    99\n",
       "19    47\n",
       "dtype: int64"
      ]
     },
     "execution_count": 13,
     "metadata": {},
     "output_type": "execute_result"
    }
   ],
   "source": [
    "ser1"
   ]
  },
  {
   "cell_type": "code",
   "execution_count": 15,
   "metadata": {
    "collapsed": true
   },
   "outputs": [],
   "source": [
    "l2 = [90.67,54,32,6,78,9,10,1,29,83,18,15,99,47]"
   ]
  },
  {
   "cell_type": "code",
   "execution_count": 16,
   "metadata": {
    "collapsed": true
   },
   "outputs": [],
   "source": [
    "ser2 = pd.Series(l2)"
   ]
  },
  {
   "cell_type": "code",
   "execution_count": 17,
   "metadata": {
    "collapsed": false
   },
   "outputs": [
    {
     "data": {
      "text/plain": [
       "0     90.67\n",
       "1     54.00\n",
       "2     32.00\n",
       "3      6.00\n",
       "4     78.00\n",
       "5      9.00\n",
       "6     10.00\n",
       "7      1.00\n",
       "8     29.00\n",
       "9     83.00\n",
       "10    18.00\n",
       "11    15.00\n",
       "12    99.00\n",
       "13    47.00\n",
       "dtype: float64"
      ]
     },
     "execution_count": 17,
     "metadata": {},
     "output_type": "execute_result"
    }
   ],
   "source": [
    "ser2"
   ]
  },
  {
   "cell_type": "code",
   "execution_count": 18,
   "metadata": {
    "collapsed": false
   },
   "outputs": [
    {
     "data": {
      "text/plain": [
       "0     90.67\n",
       "1        54\n",
       "2        32\n",
       "3         6\n",
       "4        78\n",
       "5         9\n",
       "6        10\n",
       "7         1\n",
       "8        29\n",
       "9        83\n",
       "10       18\n",
       "11       15\n",
       "12       99\n",
       "13       47\n",
       "14        A\n",
       "dtype: object"
      ]
     },
     "execution_count": 18,
     "metadata": {},
     "output_type": "execute_result"
    }
   ],
   "source": [
    "l3 = [90.67,54,32,6,78,9,10,1,29,83,18,15,99,47,\"A\"]\n",
    "ser3 = pd.Series(l3)\n",
    "ser3"
   ]
  },
  {
   "cell_type": "code",
   "execution_count": 23,
   "metadata": {
    "collapsed": false
   },
   "outputs": [
    {
     "data": {
      "text/plain": [
       "0     12\n",
       "1     34\n",
       "2     56\n",
       "3     43\n",
       "4     21\n",
       "5     78\n",
       "6     90\n",
       "7     54\n",
       "8     32\n",
       "9      6\n",
       "10    78\n",
       "11     9\n",
       "12    10\n",
       "13     1\n",
       "14    29\n",
       "15    83\n",
       "16    18\n",
       "17    15\n",
       "18    99\n",
       "19    47\n",
       "dtype: int64"
      ]
     },
     "execution_count": 23,
     "metadata": {},
     "output_type": "execute_result"
    }
   ],
   "source": [
    "# Accessing elements from series\n",
    "\n",
    "# Indexes and Names\n",
    "# Default indexes (0 to n-1) and user defined indexes\n",
    "# iloc                           loc\n",
    "ser1\n",
    "# By default,\n",
    "# loc = iloc"
   ]
  },
  {
   "cell_type": "code",
   "execution_count": 21,
   "metadata": {
    "collapsed": true
   },
   "outputs": [],
   "source": [
    "# Users can give their own indexes\n",
    "# When users give their indexes, loc comes into existance\n",
    "# But the original iloc remains unchanged!\n",
    "\n",
    "ser4 = pd.Series(l1, index=[\"a\",\"b\",\"c\",\"d\",\"e\",\"f\",\"g\",\"h\",\"i\",\"j\",\"k\",\"l\",\"m\",\"n\",\"o\",\"p\",\"q\",\"r\",\"s\",\"t\"])"
   ]
  },
  {
   "cell_type": "code",
   "execution_count": 22,
   "metadata": {
    "collapsed": false
   },
   "outputs": [
    {
     "data": {
      "text/plain": [
       "a    12\n",
       "b    34\n",
       "c    56\n",
       "d    43\n",
       "e    21\n",
       "f    78\n",
       "g    90\n",
       "h    54\n",
       "i    32\n",
       "j     6\n",
       "k    78\n",
       "l     9\n",
       "m    10\n",
       "n     1\n",
       "o    29\n",
       "p    83\n",
       "q    18\n",
       "r    15\n",
       "s    99\n",
       "t    47\n",
       "dtype: int64"
      ]
     },
     "execution_count": 22,
     "metadata": {},
     "output_type": "execute_result"
    }
   ],
   "source": [
    "ser4\n",
    "# loc = a,b,c,d....t\n",
    "# iloc = 0 to 19"
   ]
  },
  {
   "cell_type": "raw",
   "metadata": {},
   "source": [
    "ser1[] # won't do this\n",
    " \n",
    "ser1.loc[]\n",
    "ser1.iloc[]"
   ]
  },
  {
   "cell_type": "code",
   "execution_count": 24,
   "metadata": {
    "collapsed": false
   },
   "outputs": [
    {
     "data": {
      "text/plain": [
       "21"
      ]
     },
     "execution_count": 24,
     "metadata": {},
     "output_type": "execute_result"
    }
   ],
   "source": [
    "ser4.iloc[4] # 4th index element/fifth element"
   ]
  },
  {
   "cell_type": "code",
   "execution_count": 25,
   "metadata": {
    "collapsed": false
   },
   "outputs": [
    {
     "data": {
      "text/plain": [
       "21"
      ]
     },
     "execution_count": 25,
     "metadata": {},
     "output_type": "execute_result"
    }
   ],
   "source": [
    "ser4.loc['e']"
   ]
  },
  {
   "cell_type": "code",
   "execution_count": 26,
   "metadata": {
    "collapsed": false
   },
   "outputs": [
    {
     "data": {
      "text/plain": [
       "e    21\n",
       "f    78\n",
       "g    90\n",
       "h    54\n",
       "i    32\n",
       "dtype: int64"
      ]
     },
     "execution_count": 26,
     "metadata": {},
     "output_type": "execute_result"
    }
   ],
   "source": [
    "ser4.iloc[4:9] # 4,5,6,7,8 indexed elements"
   ]
  },
  {
   "cell_type": "raw",
   "metadata": {},
   "source": [
    "for i in range(0,len(l1)):\n",
    "    if l1[i]\n",
    "\n",
    "for i in range(0,len(l1)):\n",
    "    if ser4.iloc[i]"
   ]
  },
  {
   "cell_type": "code",
   "execution_count": 27,
   "metadata": {
    "collapsed": false
   },
   "outputs": [
    {
     "data": {
      "text/plain": [
       "0     False\n",
       "1      True\n",
       "2      True\n",
       "3      True\n",
       "4     False\n",
       "5      True\n",
       "6      True\n",
       "7      True\n",
       "8      True\n",
       "9     False\n",
       "10     True\n",
       "11    False\n",
       "12    False\n",
       "13    False\n",
       "14    False\n",
       "15     True\n",
       "16    False\n",
       "17    False\n",
       "18     True\n",
       "19     True\n",
       "dtype: bool"
      ]
     },
     "execution_count": 27,
     "metadata": {},
     "output_type": "execute_result"
    }
   ],
   "source": [
    "# Applying Conditions\n",
    "\n",
    "# ser1 get all elements > 30\n",
    "ser1 > 30"
   ]
  },
  {
   "cell_type": "code",
   "execution_count": 28,
   "metadata": {
    "collapsed": false
   },
   "outputs": [
    {
     "data": {
      "text/plain": [
       "1     34\n",
       "2     56\n",
       "3     43\n",
       "5     78\n",
       "6     90\n",
       "7     54\n",
       "8     32\n",
       "10    78\n",
       "15    83\n",
       "18    99\n",
       "19    47\n",
       "dtype: int64"
      ]
     },
     "execution_count": 28,
     "metadata": {},
     "output_type": "execute_result"
    }
   ],
   "source": [
    "ser1.loc[(ser1 > 30)]"
   ]
  },
  {
   "cell_type": "raw",
   "metadata": {},
   "source": [
    "# Get all elements > 30 and < 50\n",
    "ser1.loc[ser1 > 30 and ser1 < 50] # incorrect\n",
    "# 1. all cond in ()\n",
    "# 2. and, or, not - they no longer exist!!\n",
    "# 3. Use &,|,~/- instead!"
   ]
  },
  {
   "cell_type": "code",
   "execution_count": 34,
   "metadata": {
    "collapsed": false
   },
   "outputs": [
    {
     "data": {
      "text/plain": [
       "b    34\n",
       "d    43\n",
       "i    32\n",
       "t    47\n",
       "dtype: int64"
      ]
     },
     "execution_count": 34,
     "metadata": {},
     "output_type": "execute_result"
    }
   ],
   "source": [
    "ser4.loc[(ser4 > 30) & (ser4 < 50)]"
   ]
  },
  {
   "cell_type": "code",
   "execution_count": 35,
   "metadata": {
    "collapsed": false
   },
   "outputs": [
    {
     "name": "stdout",
     "output_type": "stream",
     "text": [
      "['T', '_AXIS_ALIASES', '_AXIS_IALIASES', '_AXIS_LEN', '_AXIS_NAMES', '_AXIS_NUMBERS', '_AXIS_ORDERS', '_AXIS_REVERSED', '_AXIS_SLICEMAP', '__abs__', '__add__', '__and__', '__array__', '__array_prepare__', '__array_priority__', '__array_wrap__', '__bool__', '__bytes__', '__class__', '__contains__', '__copy__', '__deepcopy__', '__delattr__', '__delitem__', '__dict__', '__dir__', '__div__', '__divmod__', '__doc__', '__eq__', '__finalize__', '__float__', '__floordiv__', '__format__', '__ge__', '__getattr__', '__getattribute__', '__getitem__', '__getstate__', '__gt__', '__hash__', '__iadd__', '__iand__', '__idiv__', '__ifloordiv__', '__imod__', '__imul__', '__init__', '__int__', '__invert__', '__ior__', '__ipow__', '__isub__', '__iter__', '__itruediv__', '__ixor__', '__le__', '__len__', '__long__', '__lt__', '__mod__', '__module__', '__mul__', '__ne__', '__neg__', '__new__', '__nonzero__', '__or__', '__pow__', '__radd__', '__rand__', '__rdiv__', '__reduce__', '__reduce_ex__', '__repr__', '__rfloordiv__', '__rmod__', '__rmul__', '__ror__', '__round__', '__rpow__', '__rsub__', '__rtruediv__', '__rxor__', '__setattr__', '__setitem__', '__setstate__', '__sizeof__', '__str__', '__sub__', '__subclasshook__', '__truediv__', '__unicode__', '__weakref__', '__xor__', '_accessors', '_add_numeric_operations', '_add_series_only_operations', '_add_series_or_dataframe_operations', '_agg_by_level', '_agg_doc', '_aggregate', '_aggregate_multiple_funcs', '_align_frame', '_align_series', '_allow_index_ops', '_at', '_binop', '_box_item_values', '_builtin_table', '_can_hold_na', '_check_inplace_setting', '_check_is_chained_assignment_possible', '_check_percentile', '_check_setitem_copy', '_clear_item_cache', '_clip_with_one_bound', '_clip_with_scalar', '_consolidate', '_consolidate_inplace', '_construct_axes_dict', '_construct_axes_dict_for_slice', '_construct_axes_dict_from', '_construct_axes_from_arguments', '_constructor', '_constructor_expanddim', '_constructor_sliced', '_convert', '_create_indexer', '_cython_table', '_deprecations', '_dir_additions', '_dir_deletions', '_drop_axis', '_expand_axes', '_formatting_values', '_from_axes', '_get_axis', '_get_axis_name', '_get_axis_number', '_get_axis_resolvers', '_get_block_manager_axis', '_get_bool_data', '_get_cacher', '_get_index_resolvers', '_get_item_cache', '_get_numeric_data', '_get_value', '_get_values', '_get_values_tuple', '_get_with', '_gotitem', '_iat', '_iget_item_cache', '_iloc', '_index', '_indexed_same', '_info_axis', '_info_axis_name', '_info_axis_number', '_init_mgr', '_internal_names', '_internal_names_set', '_is_builtin_func', '_is_cached', '_is_cython_func', '_is_datelike_mixed_type', '_is_mixed_type', '_is_numeric_mixed_type', '_is_view', '_ix', '_ixs', '_loc', '_maybe_cache_changed', '_maybe_update_cacher', '_metadata', '_needs_reindex_multi', '_obj_with_exclusions', '_protect_consolidate', '_reduce', '_reindex_axes', '_reindex_axis', '_reindex_indexer', '_reindex_multi', '_reindex_with_indexers', '_repr_data_resource_', '_repr_latex_', '_reset_cache', '_reset_cacher', '_selected_obj', '_selection', '_selection_list', '_selection_name', '_set_as_cached', '_set_axis', '_set_axis_name', '_set_is_copy', '_set_item', '_set_labels', '_set_name', '_set_subtyp', '_set_value', '_set_values', '_set_with', '_set_with_engine', '_setup_axes', '_shallow_copy', '_slice', '_stat_axis', '_stat_axis_name', '_stat_axis_number', '_take', '_to_dict_of_blocks', '_try_aggregate_string_function', '_typ', '_unpickle_series_compat', '_update_inplace', '_validate_dtype', '_values', '_where', '_xs', 'abs', 'add', 'add_prefix', 'add_suffix', 'agg', 'aggregate', 'align', 'all', 'any', 'append', 'apply', 'argmax', 'argmin', 'argsort', 'as_matrix', 'asfreq', 'asobject', 'asof', 'astype', 'at', 'at_time', 'autocorr', 'axes', 'base', 'between', 'between_time', 'bfill', 'bool', 'clip', 'clip_lower', 'clip_upper', 'combine', 'combine_first', 'compound', 'compress', 'copy', 'corr', 'count', 'cov', 'cummax', 'cummin', 'cumprod', 'cumsum', 'data', 'describe', 'diff', 'div', 'divide', 'dot', 'drop', 'drop_duplicates', 'dropna', 'dtype', 'dtypes', 'duplicated', 'empty', 'eq', 'equals', 'ewm', 'expanding', 'factorize', 'ffill', 'fillna', 'filter', 'first', 'first_valid_index', 'flags', 'floordiv', 'from_array', 'ftype', 'ftypes', 'ge', 'get', 'get_dtype_counts', 'get_ftype_counts', 'get_values', 'groupby', 'gt', 'hasnans', 'head', 'hist', 'iat', 'idxmax', 'idxmin', 'iloc', 'imag', 'index', 'infer_objects', 'interpolate', 'is_copy', 'is_monotonic', 'is_monotonic_decreasing', 'is_monotonic_increasing', 'is_unique', 'isin', 'isna', 'isnull', 'item', 'items', 'itemsize', 'iteritems', 'ix', 'keys', 'kurt', 'kurtosis', 'last', 'last_valid_index', 'le', 'loc', 'lt', 'mad', 'map', 'mask', 'max', 'mean', 'median', 'memory_usage', 'min', 'mod', 'mode', 'mul', 'multiply', 'name', 'nbytes', 'ndim', 'ne', 'nlargest', 'nonzero', 'notna', 'notnull', 'nsmallest', 'nunique', 'pct_change', 'pipe', 'plot', 'pop', 'pow', 'prod', 'product', 'ptp', 'put', 'quantile', 'radd', 'rank', 'ravel', 'rdiv', 'real', 'reindex', 'reindex_axis', 'reindex_like', 'rename', 'rename_axis', 'reorder_levels', 'repeat', 'replace', 'resample', 'reset_index', 'rfloordiv', 'rmod', 'rmul', 'rolling', 'round', 'rpow', 'rsub', 'rtruediv', 'sample', 'searchsorted', 'select', 'sem', 'set_axis', 'shape', 'shift', 'size', 'skew', 'slice_shift', 'sort_index', 'sort_values', 'squeeze', 'std', 'strides', 'sub', 'subtract', 'sum', 'swapaxes', 'swaplevel', 'tail', 'take', 'to_clipboard', 'to_csv', 'to_dense', 'to_dict', 'to_excel', 'to_frame', 'to_hdf', 'to_json', 'to_latex', 'to_msgpack', 'to_period', 'to_pickle', 'to_sparse', 'to_sql', 'to_string', 'to_timestamp', 'to_xarray', 'tolist', 'transform', 'transpose', 'truediv', 'truncate', 'tshift', 'tz_convert', 'tz_localize', 'unique', 'unstack', 'update', 'valid', 'value_counts', 'values', 'var', 'view', 'where', 'xs']\n"
     ]
    }
   ],
   "source": [
    "print(dir(ser1))\n",
    "\n",
    "# Most of them are stats functions - univariate stats function\n",
    "# min, max, mean, median, std, var, skew, kurtosis, cumsum, cumprod\n",
    "\n",
    "# Some of them are used for manipulations\n",
    "# loc, iloc, _reindex??\n",
    "# filtering functions filter()\n",
    "# removing duplicates, missings, non-numeric values\n",
    "# dropduplicate, dropna, dropnull, dropnan\n",
    "\n",
    "# to export the series\n",
    "# to_csv()\n",
    "# 'to_clipboard', 'to_csv', 'to_dense', 'to_dict', 'to_excel', \n",
    "# 'to_frame', 'to_hdf', 'to_json', 'to_latex', 'to_msgpack', 'to_period', \n",
    "# 'to_pickle', 'to_sparse', 'to_sql', 'to_string', 'to_timestamp', 'to_xarray', 'tolist'"
   ]
  },
  {
   "cell_type": "code",
   "execution_count": 37,
   "metadata": {
    "collapsed": false
   },
   "outputs": [
    {
     "data": {
      "text/plain": [
       "40.75"
      ]
     },
     "execution_count": 37,
     "metadata": {},
     "output_type": "execute_result"
    }
   ],
   "source": [
    "ser1.mean()"
   ]
  },
  {
   "cell_type": "code",
   "execution_count": 38,
   "metadata": {
    "collapsed": false
   },
   "outputs": [
    {
     "data": {
      "text/plain": [
       "815"
      ]
     },
     "execution_count": 38,
     "metadata": {},
     "output_type": "execute_result"
    }
   ],
   "source": [
    "ser1.sum()"
   ]
  },
  {
   "cell_type": "code",
   "execution_count": 39,
   "metadata": {
    "collapsed": false
   },
   "outputs": [
    {
     "data": {
      "text/plain": [
       "20"
      ]
     },
     "execution_count": 39,
     "metadata": {},
     "output_type": "execute_result"
    }
   ],
   "source": [
    "ser1.count()"
   ]
  },
  {
   "cell_type": "code",
   "execution_count": 49,
   "metadata": {
    "collapsed": false
   },
   "outputs": [
    {
     "data": {
      "text/plain": [
       "count    20.00000\n",
       "mean     40.75000\n",
       "std      30.97516\n",
       "min       1.00000\n",
       "25%      14.25000\n",
       "50%      33.00000\n",
       "75%      61.50000\n",
       "max      99.00000\n",
       "dtype: float64"
      ]
     },
     "execution_count": 49,
     "metadata": {},
     "output_type": "execute_result"
    }
   ],
   "source": [
    "desc = ser1.describe()\n",
    "desc"
   ]
  },
  {
   "cell_type": "code",
   "execution_count": 50,
   "metadata": {
    "collapsed": false
   },
   "outputs": [
    {
     "data": {
      "text/plain": [
       "30.975159827122596"
      ]
     },
     "execution_count": 50,
     "metadata": {},
     "output_type": "execute_result"
    }
   ],
   "source": [
    "desc.iloc[2]"
   ]
  },
  {
   "cell_type": "code",
   "execution_count": 51,
   "metadata": {
    "collapsed": false
   },
   "outputs": [
    {
     "data": {
      "text/plain": [
       "30.975159827122596"
      ]
     },
     "execution_count": 51,
     "metadata": {},
     "output_type": "execute_result"
    }
   ],
   "source": [
    "desc.loc[\"std\"]"
   ]
  },
  {
   "cell_type": "code",
   "execution_count": 43,
   "metadata": {
    "collapsed": false
   },
   "outputs": [
    {
     "data": {
      "text/plain": [
       "1     34\n",
       "2     56\n",
       "3     43\n",
       "5     78\n",
       "6     90\n",
       "7     54\n",
       "8     32\n",
       "10    78\n",
       "15    83\n",
       "18    99\n",
       "19    47\n",
       "dtype: int64"
      ]
     },
     "execution_count": 43,
     "metadata": {},
     "output_type": "execute_result"
    }
   ],
   "source": [
    "ser1[(ser1 > 30)]"
   ]
  },
  {
   "cell_type": "code",
   "execution_count": 52,
   "metadata": {
    "collapsed": true
   },
   "outputs": [],
   "source": [
    "#1,2,3,5,6,7,8,10,15,18,19\n",
    "#0,1,2,3,4,......10"
   ]
  },
  {
   "cell_type": "code",
   "execution_count": 53,
   "metadata": {
    "collapsed": false
   },
   "outputs": [
    {
     "data": {
      "text/plain": [
       "dtype('int64')"
      ]
     },
     "execution_count": 53,
     "metadata": {},
     "output_type": "execute_result"
    }
   ],
   "source": [
    "ser1.dtype"
   ]
  },
  {
   "cell_type": "code",
   "execution_count": 55,
   "metadata": {
    "collapsed": false
   },
   "outputs": [
    {
     "data": {
      "text/plain": [
       "Index([u'a', u'b', u'c', u'd', u'e', u'f', u'g', u'h', u'i', u'j', u'k', u'l',\n",
       "       u'm', u'n', u'o', u'p', u'q', u'r', u's', u't'],\n",
       "      dtype='object')"
      ]
     },
     "execution_count": 55,
     "metadata": {},
     "output_type": "execute_result"
    }
   ],
   "source": [
    "# Some of the attributes are simple values and they need to be functions\n",
    "ser4.index"
   ]
  },
  {
   "cell_type": "markdown",
   "metadata": {},
   "source": [
    "# ---"
   ]
  },
  {
   "cell_type": "code",
   "execution_count": 57,
   "metadata": {
    "collapsed": false
   },
   "outputs": [],
   "source": [
    "# DataFrames\n",
    "# Similar to regular tables\n",
    "# It's a combination of multiple series\n",
    "\n",
    "# Create a dataframe using a Dict\n",
    "\n",
    "dict1 = {\n",
    "    \"EID\":[1,2,3,4,5,6],\n",
    "    \"EName\":[\"A\",\"X\",\"R\",\"W\",\"I\",\"T\"],\n",
    "    \"ESal\":[1200,4500,2300,6700,1200,4000]\n",
    "}"
   ]
  },
  {
   "cell_type": "code",
   "execution_count": 58,
   "metadata": {
    "collapsed": false
   },
   "outputs": [
    {
     "data": {
      "text/plain": [
       "{'EID': [1, 2, 3, 4, 5, 6],\n",
       " 'EName': ['A', 'X', 'R', 'W', 'I', 'T'],\n",
       " 'ESal': [1200, 4500, 2300, 6700, 1200, 4000]}"
      ]
     },
     "execution_count": 58,
     "metadata": {},
     "output_type": "execute_result"
    }
   ],
   "source": [
    "dict1"
   ]
  },
  {
   "cell_type": "code",
   "execution_count": 59,
   "metadata": {
    "collapsed": true
   },
   "outputs": [],
   "source": [
    "EmpData = pd.DataFrame(dict1)"
   ]
  },
  {
   "cell_type": "code",
   "execution_count": 60,
   "metadata": {
    "collapsed": false
   },
   "outputs": [
    {
     "data": {
      "text/html": [
       "<div>\n",
       "<style scoped>\n",
       "    .dataframe tbody tr th:only-of-type {\n",
       "        vertical-align: middle;\n",
       "    }\n",
       "\n",
       "    .dataframe tbody tr th {\n",
       "        vertical-align: top;\n",
       "    }\n",
       "\n",
       "    .dataframe thead th {\n",
       "        text-align: right;\n",
       "    }\n",
       "</style>\n",
       "<table border=\"1\" class=\"dataframe\">\n",
       "  <thead>\n",
       "    <tr style=\"text-align: right;\">\n",
       "      <th></th>\n",
       "      <th>EID</th>\n",
       "      <th>EName</th>\n",
       "      <th>ESal</th>\n",
       "    </tr>\n",
       "  </thead>\n",
       "  <tbody>\n",
       "    <tr>\n",
       "      <th>0</th>\n",
       "      <td>1</td>\n",
       "      <td>A</td>\n",
       "      <td>1200</td>\n",
       "    </tr>\n",
       "    <tr>\n",
       "      <th>1</th>\n",
       "      <td>2</td>\n",
       "      <td>X</td>\n",
       "      <td>4500</td>\n",
       "    </tr>\n",
       "    <tr>\n",
       "      <th>2</th>\n",
       "      <td>3</td>\n",
       "      <td>R</td>\n",
       "      <td>2300</td>\n",
       "    </tr>\n",
       "    <tr>\n",
       "      <th>3</th>\n",
       "      <td>4</td>\n",
       "      <td>W</td>\n",
       "      <td>6700</td>\n",
       "    </tr>\n",
       "    <tr>\n",
       "      <th>4</th>\n",
       "      <td>5</td>\n",
       "      <td>I</td>\n",
       "      <td>1200</td>\n",
       "    </tr>\n",
       "    <tr>\n",
       "      <th>5</th>\n",
       "      <td>6</td>\n",
       "      <td>T</td>\n",
       "      <td>4000</td>\n",
       "    </tr>\n",
       "  </tbody>\n",
       "</table>\n",
       "</div>"
      ],
      "text/plain": [
       "   EID EName  ESal\n",
       "0    1     A  1200\n",
       "1    2     X  4500\n",
       "2    3     R  2300\n",
       "3    4     W  6700\n",
       "4    5     I  1200\n",
       "5    6     T  4000"
      ]
     },
     "execution_count": 60,
     "metadata": {},
     "output_type": "execute_result"
    }
   ],
   "source": [
    "EmpData"
   ]
  },
  {
   "cell_type": "code",
   "execution_count": 62,
   "metadata": {
    "collapsed": true
   },
   "outputs": [],
   "source": [
    "import os # os has all the Op System related functions"
   ]
  },
  {
   "cell_type": "code",
   "execution_count": 63,
   "metadata": {
    "collapsed": false
   },
   "outputs": [
    {
     "data": {
      "text/plain": [
       "'C:\\\\Users\\\\admin'"
      ]
     },
     "execution_count": 63,
     "metadata": {},
     "output_type": "execute_result"
    }
   ],
   "source": [
    "# Home folder\n",
    "# User folder - Home\n",
    "\n",
    "# We can set any flder as a temp working dir\n",
    "os.getcwd()"
   ]
  },
  {
   "cell_type": "raw",
   "metadata": {},
   "source": [
    "os.setwd(\"...\")\n",
    "# Always use \\\\ or /"
   ]
  },
  {
   "cell_type": "raw",
   "metadata": {},
   "source": [
    "Pandas read functions\n",
    "pd.read_xxxxx()\n",
    "-> Type of file\n",
    "CSV\n",
    "SAS\n",
    "SQL\n",
    "JSON\n"
   ]
  },
  {
   "cell_type": "code",
   "execution_count": 64,
   "metadata": {
    "collapsed": true
   },
   "outputs": [],
   "source": [
    "# CSV/Text\n",
    "# Text - any delimited file\n",
    "stores = pd.read_table(\"C:\\\\Users\\\\admin\\\\pandas\\\\DataSets\\\\stores.csv\",\n",
    "              sep = \",\")"
   ]
  },
  {
   "cell_type": "code",
   "execution_count": 65,
   "metadata": {
    "collapsed": false
   },
   "outputs": [
    {
     "data": {
      "text/plain": [
       "pandas.core.frame.DataFrame"
      ]
     },
     "execution_count": 65,
     "metadata": {},
     "output_type": "execute_result"
    }
   ],
   "source": [
    "type(stores)"
   ]
  },
  {
   "cell_type": "code",
   "execution_count": 68,
   "metadata": {
    "collapsed": false
   },
   "outputs": [],
   "source": [
    "# Excel\n",
    "AutoBI = pd.read_excel(\"C:/Users/admin/pandas/DataSets/AutoInsurance.xlsx\")\n",
    "# by default, first sheet is read"
   ]
  },
  {
   "cell_type": "code",
   "execution_count": 78,
   "metadata": {
    "collapsed": false,
    "scrolled": false
   },
   "outputs": [],
   "source": [
    "AutoClaims = pd.read_excel(\"C:/Users/admin/pandas/DataSets/AutoInsurance.xlsx\",\n",
    "              sheet_name = \"AutoClaims\")"
   ]
  },
  {
   "cell_type": "code",
   "execution_count": 79,
   "metadata": {
    "collapsed": false
   },
   "outputs": [
    {
     "data": {
      "text/plain": [
       "pandas.core.frame.DataFrame"
      ]
     },
     "execution_count": 79,
     "metadata": {},
     "output_type": "execute_result"
    }
   ],
   "source": [
    "type(stores)"
   ]
  },
  {
   "cell_type": "code",
   "execution_count": 80,
   "metadata": {
    "collapsed": false
   },
   "outputs": [
    {
     "data": {
      "text/plain": [
       "pandas.core.frame.DataFrame"
      ]
     },
     "execution_count": 80,
     "metadata": {},
     "output_type": "execute_result"
    }
   ],
   "source": [
    "type(AutoClaims)"
   ]
  },
  {
   "cell_type": "code",
   "execution_count": 81,
   "metadata": {
    "collapsed": false
   },
   "outputs": [
    {
     "data": {
      "text/html": [
       "<div>\n",
       "<style scoped>\n",
       "    .dataframe tbody tr th:only-of-type {\n",
       "        vertical-align: middle;\n",
       "    }\n",
       "\n",
       "    .dataframe tbody tr th {\n",
       "        vertical-align: top;\n",
       "    }\n",
       "\n",
       "    .dataframe thead th {\n",
       "        text-align: right;\n",
       "    }\n",
       "</style>\n",
       "<table border=\"1\" class=\"dataframe\">\n",
       "  <thead>\n",
       "    <tr style=\"text-align: right;\">\n",
       "      <th></th>\n",
       "      <th>#</th>\n",
       "      <th>Name</th>\n",
       "      <th>Type 1</th>\n",
       "      <th>Type 2</th>\n",
       "      <th>Total</th>\n",
       "      <th>HP</th>\n",
       "      <th>Attack</th>\n",
       "      <th>Defense</th>\n",
       "      <th>Sp. Atk</th>\n",
       "      <th>Sp. Def</th>\n",
       "      <th>Speed</th>\n",
       "      <th>Stage</th>\n",
       "      <th>Legendary</th>\n",
       "    </tr>\n",
       "  </thead>\n",
       "  <tbody>\n",
       "    <tr>\n",
       "      <th>0</th>\n",
       "      <td>1</td>\n",
       "      <td>Bulbasaur</td>\n",
       "      <td>Grass</td>\n",
       "      <td>Poison</td>\n",
       "      <td>318</td>\n",
       "      <td>45</td>\n",
       "      <td>49</td>\n",
       "      <td>49</td>\n",
       "      <td>65</td>\n",
       "      <td>65</td>\n",
       "      <td>45</td>\n",
       "      <td>1</td>\n",
       "      <td>False</td>\n",
       "    </tr>\n",
       "    <tr>\n",
       "      <th>1</th>\n",
       "      <td>2</td>\n",
       "      <td>Ivysaur</td>\n",
       "      <td>Grass</td>\n",
       "      <td>Poison</td>\n",
       "      <td>405</td>\n",
       "      <td>60</td>\n",
       "      <td>62</td>\n",
       "      <td>63</td>\n",
       "      <td>80</td>\n",
       "      <td>80</td>\n",
       "      <td>60</td>\n",
       "      <td>2</td>\n",
       "      <td>False</td>\n",
       "    </tr>\n",
       "    <tr>\n",
       "      <th>2</th>\n",
       "      <td>3</td>\n",
       "      <td>Venusaur</td>\n",
       "      <td>Grass</td>\n",
       "      <td>Poison</td>\n",
       "      <td>525</td>\n",
       "      <td>80</td>\n",
       "      <td>82</td>\n",
       "      <td>83</td>\n",
       "      <td>100</td>\n",
       "      <td>100</td>\n",
       "      <td>80</td>\n",
       "      <td>3</td>\n",
       "      <td>False</td>\n",
       "    </tr>\n",
       "    <tr>\n",
       "      <th>3</th>\n",
       "      <td>4</td>\n",
       "      <td>Charmander</td>\n",
       "      <td>Fire</td>\n",
       "      <td>NaN</td>\n",
       "      <td>309</td>\n",
       "      <td>39</td>\n",
       "      <td>52</td>\n",
       "      <td>43</td>\n",
       "      <td>60</td>\n",
       "      <td>50</td>\n",
       "      <td>65</td>\n",
       "      <td>1</td>\n",
       "      <td>False</td>\n",
       "    </tr>\n",
       "    <tr>\n",
       "      <th>4</th>\n",
       "      <td>5</td>\n",
       "      <td>Charmeleon</td>\n",
       "      <td>Fire</td>\n",
       "      <td>NaN</td>\n",
       "      <td>405</td>\n",
       "      <td>58</td>\n",
       "      <td>64</td>\n",
       "      <td>58</td>\n",
       "      <td>80</td>\n",
       "      <td>65</td>\n",
       "      <td>80</td>\n",
       "      <td>2</td>\n",
       "      <td>False</td>\n",
       "    </tr>\n",
       "    <tr>\n",
       "      <th>5</th>\n",
       "      <td>6</td>\n",
       "      <td>Charizard</td>\n",
       "      <td>Fire</td>\n",
       "      <td>Flying</td>\n",
       "      <td>534</td>\n",
       "      <td>78</td>\n",
       "      <td>84</td>\n",
       "      <td>78</td>\n",
       "      <td>109</td>\n",
       "      <td>85</td>\n",
       "      <td>100</td>\n",
       "      <td>3</td>\n",
       "      <td>False</td>\n",
       "    </tr>\n",
       "    <tr>\n",
       "      <th>6</th>\n",
       "      <td>7</td>\n",
       "      <td>Squirtle</td>\n",
       "      <td>Water</td>\n",
       "      <td>NaN</td>\n",
       "      <td>314</td>\n",
       "      <td>44</td>\n",
       "      <td>48</td>\n",
       "      <td>65</td>\n",
       "      <td>50</td>\n",
       "      <td>64</td>\n",
       "      <td>43</td>\n",
       "      <td>1</td>\n",
       "      <td>False</td>\n",
       "    </tr>\n",
       "    <tr>\n",
       "      <th>7</th>\n",
       "      <td>8</td>\n",
       "      <td>Wartortle</td>\n",
       "      <td>Water</td>\n",
       "      <td>NaN</td>\n",
       "      <td>405</td>\n",
       "      <td>59</td>\n",
       "      <td>63</td>\n",
       "      <td>80</td>\n",
       "      <td>65</td>\n",
       "      <td>80</td>\n",
       "      <td>58</td>\n",
       "      <td>2</td>\n",
       "      <td>False</td>\n",
       "    </tr>\n",
       "    <tr>\n",
       "      <th>8</th>\n",
       "      <td>9</td>\n",
       "      <td>Blastoise</td>\n",
       "      <td>Water</td>\n",
       "      <td>NaN</td>\n",
       "      <td>530</td>\n",
       "      <td>79</td>\n",
       "      <td>83</td>\n",
       "      <td>100</td>\n",
       "      <td>85</td>\n",
       "      <td>105</td>\n",
       "      <td>78</td>\n",
       "      <td>3</td>\n",
       "      <td>False</td>\n",
       "    </tr>\n",
       "    <tr>\n",
       "      <th>9</th>\n",
       "      <td>10</td>\n",
       "      <td>Caterpie</td>\n",
       "      <td>Bug</td>\n",
       "      <td>NaN</td>\n",
       "      <td>195</td>\n",
       "      <td>45</td>\n",
       "      <td>30</td>\n",
       "      <td>35</td>\n",
       "      <td>20</td>\n",
       "      <td>20</td>\n",
       "      <td>45</td>\n",
       "      <td>1</td>\n",
       "      <td>False</td>\n",
       "    </tr>\n",
       "    <tr>\n",
       "      <th>10</th>\n",
       "      <td>11</td>\n",
       "      <td>Metapod</td>\n",
       "      <td>Bug</td>\n",
       "      <td>NaN</td>\n",
       "      <td>205</td>\n",
       "      <td>50</td>\n",
       "      <td>20</td>\n",
       "      <td>55</td>\n",
       "      <td>25</td>\n",
       "      <td>25</td>\n",
       "      <td>30</td>\n",
       "      <td>2</td>\n",
       "      <td>False</td>\n",
       "    </tr>\n",
       "    <tr>\n",
       "      <th>11</th>\n",
       "      <td>12</td>\n",
       "      <td>Butterfree</td>\n",
       "      <td>Bug</td>\n",
       "      <td>Flying</td>\n",
       "      <td>395</td>\n",
       "      <td>60</td>\n",
       "      <td>45</td>\n",
       "      <td>50</td>\n",
       "      <td>90</td>\n",
       "      <td>80</td>\n",
       "      <td>70</td>\n",
       "      <td>3</td>\n",
       "      <td>False</td>\n",
       "    </tr>\n",
       "    <tr>\n",
       "      <th>12</th>\n",
       "      <td>13</td>\n",
       "      <td>Weedle</td>\n",
       "      <td>Bug</td>\n",
       "      <td>Poison</td>\n",
       "      <td>195</td>\n",
       "      <td>40</td>\n",
       "      <td>35</td>\n",
       "      <td>30</td>\n",
       "      <td>20</td>\n",
       "      <td>20</td>\n",
       "      <td>50</td>\n",
       "      <td>1</td>\n",
       "      <td>False</td>\n",
       "    </tr>\n",
       "    <tr>\n",
       "      <th>13</th>\n",
       "      <td>14</td>\n",
       "      <td>Kakuna</td>\n",
       "      <td>Bug</td>\n",
       "      <td>Poison</td>\n",
       "      <td>205</td>\n",
       "      <td>45</td>\n",
       "      <td>25</td>\n",
       "      <td>50</td>\n",
       "      <td>25</td>\n",
       "      <td>25</td>\n",
       "      <td>35</td>\n",
       "      <td>2</td>\n",
       "      <td>False</td>\n",
       "    </tr>\n",
       "    <tr>\n",
       "      <th>14</th>\n",
       "      <td>15</td>\n",
       "      <td>Beedrill</td>\n",
       "      <td>Bug</td>\n",
       "      <td>Poison</td>\n",
       "      <td>395</td>\n",
       "      <td>65</td>\n",
       "      <td>90</td>\n",
       "      <td>40</td>\n",
       "      <td>45</td>\n",
       "      <td>80</td>\n",
       "      <td>75</td>\n",
       "      <td>3</td>\n",
       "      <td>False</td>\n",
       "    </tr>\n",
       "    <tr>\n",
       "      <th>15</th>\n",
       "      <td>16</td>\n",
       "      <td>Pidgey</td>\n",
       "      <td>Normal</td>\n",
       "      <td>Flying</td>\n",
       "      <td>251</td>\n",
       "      <td>40</td>\n",
       "      <td>45</td>\n",
       "      <td>40</td>\n",
       "      <td>35</td>\n",
       "      <td>35</td>\n",
       "      <td>56</td>\n",
       "      <td>1</td>\n",
       "      <td>False</td>\n",
       "    </tr>\n",
       "    <tr>\n",
       "      <th>16</th>\n",
       "      <td>17</td>\n",
       "      <td>Pidgeotto</td>\n",
       "      <td>Normal</td>\n",
       "      <td>Flying</td>\n",
       "      <td>349</td>\n",
       "      <td>63</td>\n",
       "      <td>60</td>\n",
       "      <td>55</td>\n",
       "      <td>50</td>\n",
       "      <td>50</td>\n",
       "      <td>71</td>\n",
       "      <td>2</td>\n",
       "      <td>False</td>\n",
       "    </tr>\n",
       "    <tr>\n",
       "      <th>17</th>\n",
       "      <td>18</td>\n",
       "      <td>Pidgeot</td>\n",
       "      <td>Normal</td>\n",
       "      <td>Flying</td>\n",
       "      <td>479</td>\n",
       "      <td>83</td>\n",
       "      <td>80</td>\n",
       "      <td>75</td>\n",
       "      <td>70</td>\n",
       "      <td>70</td>\n",
       "      <td>101</td>\n",
       "      <td>3</td>\n",
       "      <td>False</td>\n",
       "    </tr>\n",
       "    <tr>\n",
       "      <th>18</th>\n",
       "      <td>19</td>\n",
       "      <td>Rattata</td>\n",
       "      <td>Normal</td>\n",
       "      <td>NaN</td>\n",
       "      <td>253</td>\n",
       "      <td>30</td>\n",
       "      <td>56</td>\n",
       "      <td>35</td>\n",
       "      <td>25</td>\n",
       "      <td>35</td>\n",
       "      <td>72</td>\n",
       "      <td>1</td>\n",
       "      <td>False</td>\n",
       "    </tr>\n",
       "    <tr>\n",
       "      <th>19</th>\n",
       "      <td>20</td>\n",
       "      <td>Raticate</td>\n",
       "      <td>Normal</td>\n",
       "      <td>NaN</td>\n",
       "      <td>413</td>\n",
       "      <td>55</td>\n",
       "      <td>81</td>\n",
       "      <td>60</td>\n",
       "      <td>50</td>\n",
       "      <td>70</td>\n",
       "      <td>97</td>\n",
       "      <td>2</td>\n",
       "      <td>False</td>\n",
       "    </tr>\n",
       "    <tr>\n",
       "      <th>20</th>\n",
       "      <td>21</td>\n",
       "      <td>Spearow</td>\n",
       "      <td>Normal</td>\n",
       "      <td>Flying</td>\n",
       "      <td>262</td>\n",
       "      <td>40</td>\n",
       "      <td>60</td>\n",
       "      <td>30</td>\n",
       "      <td>31</td>\n",
       "      <td>31</td>\n",
       "      <td>70</td>\n",
       "      <td>1</td>\n",
       "      <td>False</td>\n",
       "    </tr>\n",
       "    <tr>\n",
       "      <th>21</th>\n",
       "      <td>22</td>\n",
       "      <td>Fearow</td>\n",
       "      <td>Normal</td>\n",
       "      <td>Flying</td>\n",
       "      <td>442</td>\n",
       "      <td>65</td>\n",
       "      <td>90</td>\n",
       "      <td>65</td>\n",
       "      <td>61</td>\n",
       "      <td>61</td>\n",
       "      <td>100</td>\n",
       "      <td>2</td>\n",
       "      <td>False</td>\n",
       "    </tr>\n",
       "    <tr>\n",
       "      <th>22</th>\n",
       "      <td>23</td>\n",
       "      <td>Ekans</td>\n",
       "      <td>Poison</td>\n",
       "      <td>NaN</td>\n",
       "      <td>288</td>\n",
       "      <td>35</td>\n",
       "      <td>60</td>\n",
       "      <td>44</td>\n",
       "      <td>40</td>\n",
       "      <td>54</td>\n",
       "      <td>55</td>\n",
       "      <td>1</td>\n",
       "      <td>False</td>\n",
       "    </tr>\n",
       "    <tr>\n",
       "      <th>23</th>\n",
       "      <td>24</td>\n",
       "      <td>Arbok</td>\n",
       "      <td>Poison</td>\n",
       "      <td>NaN</td>\n",
       "      <td>438</td>\n",
       "      <td>60</td>\n",
       "      <td>85</td>\n",
       "      <td>69</td>\n",
       "      <td>65</td>\n",
       "      <td>79</td>\n",
       "      <td>80</td>\n",
       "      <td>2</td>\n",
       "      <td>False</td>\n",
       "    </tr>\n",
       "    <tr>\n",
       "      <th>24</th>\n",
       "      <td>25</td>\n",
       "      <td>Pikachu</td>\n",
       "      <td>Electric</td>\n",
       "      <td>NaN</td>\n",
       "      <td>320</td>\n",
       "      <td>35</td>\n",
       "      <td>55</td>\n",
       "      <td>40</td>\n",
       "      <td>50</td>\n",
       "      <td>50</td>\n",
       "      <td>90</td>\n",
       "      <td>1</td>\n",
       "      <td>False</td>\n",
       "    </tr>\n",
       "    <tr>\n",
       "      <th>25</th>\n",
       "      <td>26</td>\n",
       "      <td>Raichu</td>\n",
       "      <td>Electric</td>\n",
       "      <td>NaN</td>\n",
       "      <td>485</td>\n",
       "      <td>60</td>\n",
       "      <td>90</td>\n",
       "      <td>55</td>\n",
       "      <td>90</td>\n",
       "      <td>80</td>\n",
       "      <td>110</td>\n",
       "      <td>2</td>\n",
       "      <td>False</td>\n",
       "    </tr>\n",
       "    <tr>\n",
       "      <th>26</th>\n",
       "      <td>27</td>\n",
       "      <td>Sandshrew</td>\n",
       "      <td>Ground</td>\n",
       "      <td>NaN</td>\n",
       "      <td>300</td>\n",
       "      <td>50</td>\n",
       "      <td>75</td>\n",
       "      <td>85</td>\n",
       "      <td>20</td>\n",
       "      <td>30</td>\n",
       "      <td>40</td>\n",
       "      <td>1</td>\n",
       "      <td>False</td>\n",
       "    </tr>\n",
       "    <tr>\n",
       "      <th>27</th>\n",
       "      <td>28</td>\n",
       "      <td>Sandslash</td>\n",
       "      <td>Ground</td>\n",
       "      <td>NaN</td>\n",
       "      <td>450</td>\n",
       "      <td>75</td>\n",
       "      <td>100</td>\n",
       "      <td>110</td>\n",
       "      <td>45</td>\n",
       "      <td>55</td>\n",
       "      <td>65</td>\n",
       "      <td>2</td>\n",
       "      <td>False</td>\n",
       "    </tr>\n",
       "    <tr>\n",
       "      <th>28</th>\n",
       "      <td>29</td>\n",
       "      <td>Nidoran���</td>\n",
       "      <td>Poison</td>\n",
       "      <td>NaN</td>\n",
       "      <td>275</td>\n",
       "      <td>55</td>\n",
       "      <td>47</td>\n",
       "      <td>52</td>\n",
       "      <td>40</td>\n",
       "      <td>40</td>\n",
       "      <td>41</td>\n",
       "      <td>1</td>\n",
       "      <td>False</td>\n",
       "    </tr>\n",
       "    <tr>\n",
       "      <th>29</th>\n",
       "      <td>30</td>\n",
       "      <td>Nidorina</td>\n",
       "      <td>Poison</td>\n",
       "      <td>NaN</td>\n",
       "      <td>365</td>\n",
       "      <td>70</td>\n",
       "      <td>62</td>\n",
       "      <td>67</td>\n",
       "      <td>55</td>\n",
       "      <td>55</td>\n",
       "      <td>56</td>\n",
       "      <td>2</td>\n",
       "      <td>False</td>\n",
       "    </tr>\n",
       "    <tr>\n",
       "      <th>...</th>\n",
       "      <td>...</td>\n",
       "      <td>...</td>\n",
       "      <td>...</td>\n",
       "      <td>...</td>\n",
       "      <td>...</td>\n",
       "      <td>...</td>\n",
       "      <td>...</td>\n",
       "      <td>...</td>\n",
       "      <td>...</td>\n",
       "      <td>...</td>\n",
       "      <td>...</td>\n",
       "      <td>...</td>\n",
       "      <td>...</td>\n",
       "    </tr>\n",
       "    <tr>\n",
       "      <th>121</th>\n",
       "      <td>122</td>\n",
       "      <td>Mr. Mime</td>\n",
       "      <td>Psychic</td>\n",
       "      <td>Fairy</td>\n",
       "      <td>460</td>\n",
       "      <td>40</td>\n",
       "      <td>45</td>\n",
       "      <td>65</td>\n",
       "      <td>100</td>\n",
       "      <td>120</td>\n",
       "      <td>90</td>\n",
       "      <td>1</td>\n",
       "      <td>False</td>\n",
       "    </tr>\n",
       "    <tr>\n",
       "      <th>122</th>\n",
       "      <td>123</td>\n",
       "      <td>Scyther</td>\n",
       "      <td>Bug</td>\n",
       "      <td>Flying</td>\n",
       "      <td>500</td>\n",
       "      <td>70</td>\n",
       "      <td>110</td>\n",
       "      <td>80</td>\n",
       "      <td>55</td>\n",
       "      <td>80</td>\n",
       "      <td>105</td>\n",
       "      <td>1</td>\n",
       "      <td>False</td>\n",
       "    </tr>\n",
       "    <tr>\n",
       "      <th>123</th>\n",
       "      <td>124</td>\n",
       "      <td>Jynx</td>\n",
       "      <td>Ice</td>\n",
       "      <td>Psychic</td>\n",
       "      <td>455</td>\n",
       "      <td>65</td>\n",
       "      <td>50</td>\n",
       "      <td>35</td>\n",
       "      <td>115</td>\n",
       "      <td>95</td>\n",
       "      <td>95</td>\n",
       "      <td>1</td>\n",
       "      <td>False</td>\n",
       "    </tr>\n",
       "    <tr>\n",
       "      <th>124</th>\n",
       "      <td>125</td>\n",
       "      <td>Electabuzz</td>\n",
       "      <td>Electric</td>\n",
       "      <td>NaN</td>\n",
       "      <td>490</td>\n",
       "      <td>65</td>\n",
       "      <td>83</td>\n",
       "      <td>57</td>\n",
       "      <td>95</td>\n",
       "      <td>85</td>\n",
       "      <td>105</td>\n",
       "      <td>1</td>\n",
       "      <td>False</td>\n",
       "    </tr>\n",
       "    <tr>\n",
       "      <th>125</th>\n",
       "      <td>126</td>\n",
       "      <td>Magmar</td>\n",
       "      <td>Fire</td>\n",
       "      <td>NaN</td>\n",
       "      <td>495</td>\n",
       "      <td>65</td>\n",
       "      <td>95</td>\n",
       "      <td>57</td>\n",
       "      <td>100</td>\n",
       "      <td>85</td>\n",
       "      <td>93</td>\n",
       "      <td>1</td>\n",
       "      <td>False</td>\n",
       "    </tr>\n",
       "    <tr>\n",
       "      <th>126</th>\n",
       "      <td>127</td>\n",
       "      <td>Pinsir</td>\n",
       "      <td>Bug</td>\n",
       "      <td>NaN</td>\n",
       "      <td>500</td>\n",
       "      <td>65</td>\n",
       "      <td>125</td>\n",
       "      <td>100</td>\n",
       "      <td>55</td>\n",
       "      <td>70</td>\n",
       "      <td>85</td>\n",
       "      <td>1</td>\n",
       "      <td>False</td>\n",
       "    </tr>\n",
       "    <tr>\n",
       "      <th>127</th>\n",
       "      <td>128</td>\n",
       "      <td>Tauros</td>\n",
       "      <td>Normal</td>\n",
       "      <td>NaN</td>\n",
       "      <td>490</td>\n",
       "      <td>75</td>\n",
       "      <td>100</td>\n",
       "      <td>95</td>\n",
       "      <td>40</td>\n",
       "      <td>70</td>\n",
       "      <td>110</td>\n",
       "      <td>1</td>\n",
       "      <td>False</td>\n",
       "    </tr>\n",
       "    <tr>\n",
       "      <th>128</th>\n",
       "      <td>129</td>\n",
       "      <td>Magikarp</td>\n",
       "      <td>Water</td>\n",
       "      <td>NaN</td>\n",
       "      <td>200</td>\n",
       "      <td>20</td>\n",
       "      <td>10</td>\n",
       "      <td>55</td>\n",
       "      <td>15</td>\n",
       "      <td>20</td>\n",
       "      <td>80</td>\n",
       "      <td>1</td>\n",
       "      <td>False</td>\n",
       "    </tr>\n",
       "    <tr>\n",
       "      <th>129</th>\n",
       "      <td>130</td>\n",
       "      <td>Gyarados</td>\n",
       "      <td>Water</td>\n",
       "      <td>Flying</td>\n",
       "      <td>540</td>\n",
       "      <td>95</td>\n",
       "      <td>125</td>\n",
       "      <td>79</td>\n",
       "      <td>60</td>\n",
       "      <td>100</td>\n",
       "      <td>81</td>\n",
       "      <td>2</td>\n",
       "      <td>False</td>\n",
       "    </tr>\n",
       "    <tr>\n",
       "      <th>130</th>\n",
       "      <td>131</td>\n",
       "      <td>Lapras</td>\n",
       "      <td>Water</td>\n",
       "      <td>Ice</td>\n",
       "      <td>535</td>\n",
       "      <td>130</td>\n",
       "      <td>85</td>\n",
       "      <td>80</td>\n",
       "      <td>85</td>\n",
       "      <td>95</td>\n",
       "      <td>60</td>\n",
       "      <td>1</td>\n",
       "      <td>False</td>\n",
       "    </tr>\n",
       "    <tr>\n",
       "      <th>131</th>\n",
       "      <td>132</td>\n",
       "      <td>Ditto</td>\n",
       "      <td>Normal</td>\n",
       "      <td>NaN</td>\n",
       "      <td>288</td>\n",
       "      <td>48</td>\n",
       "      <td>48</td>\n",
       "      <td>48</td>\n",
       "      <td>48</td>\n",
       "      <td>48</td>\n",
       "      <td>48</td>\n",
       "      <td>1</td>\n",
       "      <td>False</td>\n",
       "    </tr>\n",
       "    <tr>\n",
       "      <th>132</th>\n",
       "      <td>133</td>\n",
       "      <td>Eevee</td>\n",
       "      <td>Normal</td>\n",
       "      <td>NaN</td>\n",
       "      <td>325</td>\n",
       "      <td>55</td>\n",
       "      <td>55</td>\n",
       "      <td>50</td>\n",
       "      <td>45</td>\n",
       "      <td>65</td>\n",
       "      <td>55</td>\n",
       "      <td>1</td>\n",
       "      <td>False</td>\n",
       "    </tr>\n",
       "    <tr>\n",
       "      <th>133</th>\n",
       "      <td>134</td>\n",
       "      <td>Vaporeon</td>\n",
       "      <td>Water</td>\n",
       "      <td>NaN</td>\n",
       "      <td>525</td>\n",
       "      <td>130</td>\n",
       "      <td>65</td>\n",
       "      <td>60</td>\n",
       "      <td>110</td>\n",
       "      <td>95</td>\n",
       "      <td>65</td>\n",
       "      <td>2</td>\n",
       "      <td>False</td>\n",
       "    </tr>\n",
       "    <tr>\n",
       "      <th>134</th>\n",
       "      <td>135</td>\n",
       "      <td>Jolteon</td>\n",
       "      <td>Electric</td>\n",
       "      <td>NaN</td>\n",
       "      <td>525</td>\n",
       "      <td>65</td>\n",
       "      <td>65</td>\n",
       "      <td>60</td>\n",
       "      <td>110</td>\n",
       "      <td>95</td>\n",
       "      <td>130</td>\n",
       "      <td>2</td>\n",
       "      <td>False</td>\n",
       "    </tr>\n",
       "    <tr>\n",
       "      <th>135</th>\n",
       "      <td>136</td>\n",
       "      <td>Flareon</td>\n",
       "      <td>Fire</td>\n",
       "      <td>NaN</td>\n",
       "      <td>525</td>\n",
       "      <td>65</td>\n",
       "      <td>130</td>\n",
       "      <td>60</td>\n",
       "      <td>95</td>\n",
       "      <td>110</td>\n",
       "      <td>65</td>\n",
       "      <td>2</td>\n",
       "      <td>False</td>\n",
       "    </tr>\n",
       "    <tr>\n",
       "      <th>136</th>\n",
       "      <td>137</td>\n",
       "      <td>Porygon</td>\n",
       "      <td>Normal</td>\n",
       "      <td>NaN</td>\n",
       "      <td>395</td>\n",
       "      <td>65</td>\n",
       "      <td>60</td>\n",
       "      <td>70</td>\n",
       "      <td>85</td>\n",
       "      <td>75</td>\n",
       "      <td>40</td>\n",
       "      <td>1</td>\n",
       "      <td>False</td>\n",
       "    </tr>\n",
       "    <tr>\n",
       "      <th>137</th>\n",
       "      <td>138</td>\n",
       "      <td>Omanyte</td>\n",
       "      <td>Rock</td>\n",
       "      <td>Water</td>\n",
       "      <td>355</td>\n",
       "      <td>35</td>\n",
       "      <td>40</td>\n",
       "      <td>100</td>\n",
       "      <td>90</td>\n",
       "      <td>55</td>\n",
       "      <td>35</td>\n",
       "      <td>1</td>\n",
       "      <td>False</td>\n",
       "    </tr>\n",
       "    <tr>\n",
       "      <th>138</th>\n",
       "      <td>139</td>\n",
       "      <td>Omastar</td>\n",
       "      <td>Rock</td>\n",
       "      <td>Water</td>\n",
       "      <td>495</td>\n",
       "      <td>70</td>\n",
       "      <td>60</td>\n",
       "      <td>125</td>\n",
       "      <td>115</td>\n",
       "      <td>70</td>\n",
       "      <td>55</td>\n",
       "      <td>2</td>\n",
       "      <td>False</td>\n",
       "    </tr>\n",
       "    <tr>\n",
       "      <th>139</th>\n",
       "      <td>140</td>\n",
       "      <td>Kabuto</td>\n",
       "      <td>Rock</td>\n",
       "      <td>Water</td>\n",
       "      <td>355</td>\n",
       "      <td>30</td>\n",
       "      <td>80</td>\n",
       "      <td>90</td>\n",
       "      <td>55</td>\n",
       "      <td>45</td>\n",
       "      <td>55</td>\n",
       "      <td>1</td>\n",
       "      <td>False</td>\n",
       "    </tr>\n",
       "    <tr>\n",
       "      <th>140</th>\n",
       "      <td>141</td>\n",
       "      <td>Kabutops</td>\n",
       "      <td>Rock</td>\n",
       "      <td>Water</td>\n",
       "      <td>495</td>\n",
       "      <td>60</td>\n",
       "      <td>115</td>\n",
       "      <td>105</td>\n",
       "      <td>65</td>\n",
       "      <td>70</td>\n",
       "      <td>80</td>\n",
       "      <td>2</td>\n",
       "      <td>False</td>\n",
       "    </tr>\n",
       "    <tr>\n",
       "      <th>141</th>\n",
       "      <td>142</td>\n",
       "      <td>Aerodactyl</td>\n",
       "      <td>Rock</td>\n",
       "      <td>Flying</td>\n",
       "      <td>515</td>\n",
       "      <td>80</td>\n",
       "      <td>105</td>\n",
       "      <td>65</td>\n",
       "      <td>60</td>\n",
       "      <td>75</td>\n",
       "      <td>130</td>\n",
       "      <td>1</td>\n",
       "      <td>False</td>\n",
       "    </tr>\n",
       "    <tr>\n",
       "      <th>142</th>\n",
       "      <td>143</td>\n",
       "      <td>Snorlax</td>\n",
       "      <td>Normal</td>\n",
       "      <td>NaN</td>\n",
       "      <td>540</td>\n",
       "      <td>160</td>\n",
       "      <td>110</td>\n",
       "      <td>65</td>\n",
       "      <td>65</td>\n",
       "      <td>110</td>\n",
       "      <td>30</td>\n",
       "      <td>1</td>\n",
       "      <td>False</td>\n",
       "    </tr>\n",
       "    <tr>\n",
       "      <th>143</th>\n",
       "      <td>144</td>\n",
       "      <td>Articuno</td>\n",
       "      <td>Ice</td>\n",
       "      <td>Flying</td>\n",
       "      <td>580</td>\n",
       "      <td>90</td>\n",
       "      <td>85</td>\n",
       "      <td>100</td>\n",
       "      <td>95</td>\n",
       "      <td>125</td>\n",
       "      <td>85</td>\n",
       "      <td>1</td>\n",
       "      <td>True</td>\n",
       "    </tr>\n",
       "    <tr>\n",
       "      <th>144</th>\n",
       "      <td>145</td>\n",
       "      <td>Zapdos</td>\n",
       "      <td>Electric</td>\n",
       "      <td>Flying</td>\n",
       "      <td>580</td>\n",
       "      <td>90</td>\n",
       "      <td>90</td>\n",
       "      <td>85</td>\n",
       "      <td>125</td>\n",
       "      <td>90</td>\n",
       "      <td>100</td>\n",
       "      <td>1</td>\n",
       "      <td>True</td>\n",
       "    </tr>\n",
       "    <tr>\n",
       "      <th>145</th>\n",
       "      <td>146</td>\n",
       "      <td>Moltres</td>\n",
       "      <td>Fire</td>\n",
       "      <td>Flying</td>\n",
       "      <td>580</td>\n",
       "      <td>90</td>\n",
       "      <td>100</td>\n",
       "      <td>90</td>\n",
       "      <td>125</td>\n",
       "      <td>85</td>\n",
       "      <td>90</td>\n",
       "      <td>1</td>\n",
       "      <td>True</td>\n",
       "    </tr>\n",
       "    <tr>\n",
       "      <th>146</th>\n",
       "      <td>147</td>\n",
       "      <td>Dratini</td>\n",
       "      <td>Dragon</td>\n",
       "      <td>NaN</td>\n",
       "      <td>300</td>\n",
       "      <td>41</td>\n",
       "      <td>64</td>\n",
       "      <td>45</td>\n",
       "      <td>50</td>\n",
       "      <td>50</td>\n",
       "      <td>50</td>\n",
       "      <td>1</td>\n",
       "      <td>False</td>\n",
       "    </tr>\n",
       "    <tr>\n",
       "      <th>147</th>\n",
       "      <td>148</td>\n",
       "      <td>Dragonair</td>\n",
       "      <td>Dragon</td>\n",
       "      <td>NaN</td>\n",
       "      <td>420</td>\n",
       "      <td>61</td>\n",
       "      <td>84</td>\n",
       "      <td>65</td>\n",
       "      <td>70</td>\n",
       "      <td>70</td>\n",
       "      <td>70</td>\n",
       "      <td>2</td>\n",
       "      <td>False</td>\n",
       "    </tr>\n",
       "    <tr>\n",
       "      <th>148</th>\n",
       "      <td>149</td>\n",
       "      <td>Dragonite</td>\n",
       "      <td>Dragon</td>\n",
       "      <td>Flying</td>\n",
       "      <td>600</td>\n",
       "      <td>91</td>\n",
       "      <td>134</td>\n",
       "      <td>95</td>\n",
       "      <td>100</td>\n",
       "      <td>100</td>\n",
       "      <td>80</td>\n",
       "      <td>3</td>\n",
       "      <td>False</td>\n",
       "    </tr>\n",
       "    <tr>\n",
       "      <th>149</th>\n",
       "      <td>150</td>\n",
       "      <td>Mewtwo</td>\n",
       "      <td>Psychic</td>\n",
       "      <td>NaN</td>\n",
       "      <td>680</td>\n",
       "      <td>106</td>\n",
       "      <td>110</td>\n",
       "      <td>90</td>\n",
       "      <td>154</td>\n",
       "      <td>90</td>\n",
       "      <td>130</td>\n",
       "      <td>1</td>\n",
       "      <td>True</td>\n",
       "    </tr>\n",
       "    <tr>\n",
       "      <th>150</th>\n",
       "      <td>151</td>\n",
       "      <td>Mew</td>\n",
       "      <td>Psychic</td>\n",
       "      <td>NaN</td>\n",
       "      <td>600</td>\n",
       "      <td>100</td>\n",
       "      <td>100</td>\n",
       "      <td>100</td>\n",
       "      <td>100</td>\n",
       "      <td>100</td>\n",
       "      <td>100</td>\n",
       "      <td>1</td>\n",
       "      <td>False</td>\n",
       "    </tr>\n",
       "  </tbody>\n",
       "</table>\n",
       "<p>151 rows × 13 columns</p>\n",
       "</div>"
      ],
      "text/plain": [
       "       #        Name    Type 1   Type 2  Total   HP  Attack  Defense  Sp. Atk  \\\n",
       "0      1   Bulbasaur     Grass   Poison    318   45      49       49       65   \n",
       "1      2     Ivysaur     Grass   Poison    405   60      62       63       80   \n",
       "2      3    Venusaur     Grass   Poison    525   80      82       83      100   \n",
       "3      4  Charmander      Fire      NaN    309   39      52       43       60   \n",
       "4      5  Charmeleon      Fire      NaN    405   58      64       58       80   \n",
       "5      6   Charizard      Fire   Flying    534   78      84       78      109   \n",
       "6      7    Squirtle     Water      NaN    314   44      48       65       50   \n",
       "7      8   Wartortle     Water      NaN    405   59      63       80       65   \n",
       "8      9   Blastoise     Water      NaN    530   79      83      100       85   \n",
       "9     10    Caterpie       Bug      NaN    195   45      30       35       20   \n",
       "10    11     Metapod       Bug      NaN    205   50      20       55       25   \n",
       "11    12  Butterfree       Bug   Flying    395   60      45       50       90   \n",
       "12    13      Weedle       Bug   Poison    195   40      35       30       20   \n",
       "13    14      Kakuna       Bug   Poison    205   45      25       50       25   \n",
       "14    15    Beedrill       Bug   Poison    395   65      90       40       45   \n",
       "15    16      Pidgey    Normal   Flying    251   40      45       40       35   \n",
       "16    17   Pidgeotto    Normal   Flying    349   63      60       55       50   \n",
       "17    18     Pidgeot    Normal   Flying    479   83      80       75       70   \n",
       "18    19     Rattata    Normal      NaN    253   30      56       35       25   \n",
       "19    20    Raticate    Normal      NaN    413   55      81       60       50   \n",
       "20    21     Spearow    Normal   Flying    262   40      60       30       31   \n",
       "21    22      Fearow    Normal   Flying    442   65      90       65       61   \n",
       "22    23       Ekans    Poison      NaN    288   35      60       44       40   \n",
       "23    24       Arbok    Poison      NaN    438   60      85       69       65   \n",
       "24    25     Pikachu  Electric      NaN    320   35      55       40       50   \n",
       "25    26      Raichu  Electric      NaN    485   60      90       55       90   \n",
       "26    27   Sandshrew    Ground      NaN    300   50      75       85       20   \n",
       "27    28   Sandslash    Ground      NaN    450   75     100      110       45   \n",
       "28    29  Nidoran���    Poison      NaN    275   55      47       52       40   \n",
       "29    30    Nidorina    Poison      NaN    365   70      62       67       55   \n",
       "..   ...         ...       ...      ...    ...  ...     ...      ...      ...   \n",
       "121  122    Mr. Mime   Psychic    Fairy    460   40      45       65      100   \n",
       "122  123     Scyther       Bug   Flying    500   70     110       80       55   \n",
       "123  124        Jynx       Ice  Psychic    455   65      50       35      115   \n",
       "124  125  Electabuzz  Electric      NaN    490   65      83       57       95   \n",
       "125  126      Magmar      Fire      NaN    495   65      95       57      100   \n",
       "126  127      Pinsir       Bug      NaN    500   65     125      100       55   \n",
       "127  128      Tauros    Normal      NaN    490   75     100       95       40   \n",
       "128  129    Magikarp     Water      NaN    200   20      10       55       15   \n",
       "129  130    Gyarados     Water   Flying    540   95     125       79       60   \n",
       "130  131      Lapras     Water      Ice    535  130      85       80       85   \n",
       "131  132       Ditto    Normal      NaN    288   48      48       48       48   \n",
       "132  133       Eevee    Normal      NaN    325   55      55       50       45   \n",
       "133  134    Vaporeon     Water      NaN    525  130      65       60      110   \n",
       "134  135     Jolteon  Electric      NaN    525   65      65       60      110   \n",
       "135  136     Flareon      Fire      NaN    525   65     130       60       95   \n",
       "136  137     Porygon    Normal      NaN    395   65      60       70       85   \n",
       "137  138     Omanyte      Rock    Water    355   35      40      100       90   \n",
       "138  139     Omastar      Rock    Water    495   70      60      125      115   \n",
       "139  140      Kabuto      Rock    Water    355   30      80       90       55   \n",
       "140  141    Kabutops      Rock    Water    495   60     115      105       65   \n",
       "141  142  Aerodactyl      Rock   Flying    515   80     105       65       60   \n",
       "142  143     Snorlax    Normal      NaN    540  160     110       65       65   \n",
       "143  144    Articuno       Ice   Flying    580   90      85      100       95   \n",
       "144  145      Zapdos  Electric   Flying    580   90      90       85      125   \n",
       "145  146     Moltres      Fire   Flying    580   90     100       90      125   \n",
       "146  147     Dratini    Dragon      NaN    300   41      64       45       50   \n",
       "147  148   Dragonair    Dragon      NaN    420   61      84       65       70   \n",
       "148  149   Dragonite    Dragon   Flying    600   91     134       95      100   \n",
       "149  150      Mewtwo   Psychic      NaN    680  106     110       90      154   \n",
       "150  151         Mew   Psychic      NaN    600  100     100      100      100   \n",
       "\n",
       "     Sp. Def  Speed  Stage  Legendary  \n",
       "0         65     45      1      False  \n",
       "1         80     60      2      False  \n",
       "2        100     80      3      False  \n",
       "3         50     65      1      False  \n",
       "4         65     80      2      False  \n",
       "5         85    100      3      False  \n",
       "6         64     43      1      False  \n",
       "7         80     58      2      False  \n",
       "8        105     78      3      False  \n",
       "9         20     45      1      False  \n",
       "10        25     30      2      False  \n",
       "11        80     70      3      False  \n",
       "12        20     50      1      False  \n",
       "13        25     35      2      False  \n",
       "14        80     75      3      False  \n",
       "15        35     56      1      False  \n",
       "16        50     71      2      False  \n",
       "17        70    101      3      False  \n",
       "18        35     72      1      False  \n",
       "19        70     97      2      False  \n",
       "20        31     70      1      False  \n",
       "21        61    100      2      False  \n",
       "22        54     55      1      False  \n",
       "23        79     80      2      False  \n",
       "24        50     90      1      False  \n",
       "25        80    110      2      False  \n",
       "26        30     40      1      False  \n",
       "27        55     65      2      False  \n",
       "28        40     41      1      False  \n",
       "29        55     56      2      False  \n",
       "..       ...    ...    ...        ...  \n",
       "121      120     90      1      False  \n",
       "122       80    105      1      False  \n",
       "123       95     95      1      False  \n",
       "124       85    105      1      False  \n",
       "125       85     93      1      False  \n",
       "126       70     85      1      False  \n",
       "127       70    110      1      False  \n",
       "128       20     80      1      False  \n",
       "129      100     81      2      False  \n",
       "130       95     60      1      False  \n",
       "131       48     48      1      False  \n",
       "132       65     55      1      False  \n",
       "133       95     65      2      False  \n",
       "134       95    130      2      False  \n",
       "135      110     65      2      False  \n",
       "136       75     40      1      False  \n",
       "137       55     35      1      False  \n",
       "138       70     55      2      False  \n",
       "139       45     55      1      False  \n",
       "140       70     80      2      False  \n",
       "141       75    130      1      False  \n",
       "142      110     30      1      False  \n",
       "143      125     85      1       True  \n",
       "144       90    100      1       True  \n",
       "145       85     90      1       True  \n",
       "146       50     50      1      False  \n",
       "147       70     70      2      False  \n",
       "148      100     80      3      False  \n",
       "149       90    130      1       True  \n",
       "150      100    100      1      False  \n",
       "\n",
       "[151 rows x 13 columns]"
      ]
     },
     "execution_count": 81,
     "metadata": {},
     "output_type": "execute_result"
    }
   ],
   "source": [
    "pd.read_csv(\"C:/Users/admin/Documents/DataSets/Pokemon.csv\")"
   ]
  },
  {
   "cell_type": "code",
   "execution_count": 83,
   "metadata": {
    "collapsed": false
   },
   "outputs": [
    {
     "data": {
      "text/html": [
       "<div>\n",
       "<style scoped>\n",
       "    .dataframe tbody tr th:only-of-type {\n",
       "        vertical-align: middle;\n",
       "    }\n",
       "\n",
       "    .dataframe tbody tr th {\n",
       "        vertical-align: top;\n",
       "    }\n",
       "\n",
       "    .dataframe thead th {\n",
       "        text-align: right;\n",
       "    }\n",
       "</style>\n",
       "<table border=\"1\" class=\"dataframe\">\n",
       "  <thead>\n",
       "    <tr style=\"text-align: right;\">\n",
       "      <th></th>\n",
       "      <th>id</th>\n",
       "      <th>custid</th>\n",
       "      <th>date</th>\n",
       "      <th>Category</th>\n",
       "      <th>Expense</th>\n",
       "    </tr>\n",
       "  </thead>\n",
       "  <tbody>\n",
       "    <tr>\n",
       "      <th>0</th>\n",
       "      <td>6.0</td>\n",
       "      <td>A006</td>\n",
       "      <td>2012-01-04</td>\n",
       "      <td>casino</td>\n",
       "      <td>3635.0</td>\n",
       "    </tr>\n",
       "    <tr>\n",
       "      <th>1</th>\n",
       "      <td>56.0</td>\n",
       "      <td>A006</td>\n",
       "      <td>2012-01-20</td>\n",
       "      <td>cellphone</td>\n",
       "      <td>16784.0</td>\n",
       "    </tr>\n",
       "    <tr>\n",
       "      <th>2</th>\n",
       "      <td>232.0</td>\n",
       "      <td>A006</td>\n",
       "      <td>2012-03-23</td>\n",
       "      <td>medicines</td>\n",
       "      <td>277.0</td>\n",
       "    </tr>\n",
       "    <tr>\n",
       "      <th>3</th>\n",
       "      <td>302.0</td>\n",
       "      <td>A006</td>\n",
       "      <td>2012-04-13</td>\n",
       "      <td>club</td>\n",
       "      <td>2148.0</td>\n",
       "    </tr>\n",
       "    <tr>\n",
       "      <th>4</th>\n",
       "      <td>383.0</td>\n",
       "      <td>A006</td>\n",
       "      <td>2012-05-09</td>\n",
       "      <td>tablets</td>\n",
       "      <td>13266.0</td>\n",
       "    </tr>\n",
       "    <tr>\n",
       "      <th>5</th>\n",
       "      <td>492.0</td>\n",
       "      <td>A006</td>\n",
       "      <td>2012-06-20</td>\n",
       "      <td>medicines</td>\n",
       "      <td>872.0</td>\n",
       "    </tr>\n",
       "    <tr>\n",
       "      <th>6</th>\n",
       "      <td>545.0</td>\n",
       "      <td>A006</td>\n",
       "      <td>2012-07-05</td>\n",
       "      <td>laptops</td>\n",
       "      <td>78056.0</td>\n",
       "    </tr>\n",
       "    <tr>\n",
       "      <th>7</th>\n",
       "      <td>702.0</td>\n",
       "      <td>A006</td>\n",
       "      <td>2012-08-31</td>\n",
       "      <td>clothes</td>\n",
       "      <td>467.0</td>\n",
       "    </tr>\n",
       "    <tr>\n",
       "      <th>8</th>\n",
       "      <td>867.0</td>\n",
       "      <td>A006</td>\n",
       "      <td>2012-11-08</td>\n",
       "      <td>laptops</td>\n",
       "      <td>36473.0</td>\n",
       "    </tr>\n",
       "    <tr>\n",
       "      <th>9</th>\n",
       "      <td>915.0</td>\n",
       "      <td>A006</td>\n",
       "      <td>2012-11-24</td>\n",
       "      <td>food</td>\n",
       "      <td>896.0</td>\n",
       "    </tr>\n",
       "    <tr>\n",
       "      <th>10</th>\n",
       "      <td>188.0</td>\n",
       "      <td>A027</td>\n",
       "      <td>2012-03-06</td>\n",
       "      <td>laptops</td>\n",
       "      <td>80703.0</td>\n",
       "    </tr>\n",
       "    <tr>\n",
       "      <th>11</th>\n",
       "      <td>242.0</td>\n",
       "      <td>A027</td>\n",
       "      <td>2012-03-25</td>\n",
       "      <td>tablets</td>\n",
       "      <td>15406.0</td>\n",
       "    </tr>\n",
       "    <tr>\n",
       "      <th>12</th>\n",
       "      <td>358.0</td>\n",
       "      <td>A027</td>\n",
       "      <td>2012-04-29</td>\n",
       "      <td>cellphone</td>\n",
       "      <td>28479.0</td>\n",
       "    </tr>\n",
       "    <tr>\n",
       "      <th>13</th>\n",
       "      <td>373.0</td>\n",
       "      <td>A027</td>\n",
       "      <td>2012-05-04</td>\n",
       "      <td>casino</td>\n",
       "      <td>5442.0</td>\n",
       "    </tr>\n",
       "    <tr>\n",
       "      <th>14</th>\n",
       "      <td>664.0</td>\n",
       "      <td>A027</td>\n",
       "      <td>2012-08-18</td>\n",
       "      <td>medicines</td>\n",
       "      <td>639.0</td>\n",
       "    </tr>\n",
       "    <tr>\n",
       "      <th>15</th>\n",
       "      <td>679.0</td>\n",
       "      <td>A027</td>\n",
       "      <td>2012-08-23</td>\n",
       "      <td>cellphone</td>\n",
       "      <td>21645.0</td>\n",
       "    </tr>\n",
       "    <tr>\n",
       "      <th>16</th>\n",
       "      <td>778.0</td>\n",
       "      <td>A027</td>\n",
       "      <td>2012-10-01</td>\n",
       "      <td>casino</td>\n",
       "      <td>3521.0</td>\n",
       "    </tr>\n",
       "    <tr>\n",
       "      <th>17</th>\n",
       "      <td>811.0</td>\n",
       "      <td>A027</td>\n",
       "      <td>2012-10-16</td>\n",
       "      <td>toys</td>\n",
       "      <td>470.0</td>\n",
       "    </tr>\n",
       "    <tr>\n",
       "      <th>18</th>\n",
       "      <td>916.0</td>\n",
       "      <td>A027</td>\n",
       "      <td>2012-11-24</td>\n",
       "      <td>movie</td>\n",
       "      <td>147.0</td>\n",
       "    </tr>\n",
       "    <tr>\n",
       "      <th>19</th>\n",
       "      <td>940.0</td>\n",
       "      <td>A027</td>\n",
       "      <td>2012-12-02</td>\n",
       "      <td>medicines</td>\n",
       "      <td>963.0</td>\n",
       "    </tr>\n",
       "    <tr>\n",
       "      <th>20</th>\n",
       "      <td>119.0</td>\n",
       "      <td>A050</td>\n",
       "      <td>2012-02-13</td>\n",
       "      <td>casino</td>\n",
       "      <td>6493.0</td>\n",
       "    </tr>\n",
       "    <tr>\n",
       "      <th>21</th>\n",
       "      <td>311.0</td>\n",
       "      <td>A050</td>\n",
       "      <td>2012-04-15</td>\n",
       "      <td>casino</td>\n",
       "      <td>5136.0</td>\n",
       "    </tr>\n",
       "    <tr>\n",
       "      <th>22</th>\n",
       "      <td>312.0</td>\n",
       "      <td>A050</td>\n",
       "      <td>2012-04-15</td>\n",
       "      <td>books</td>\n",
       "      <td>3780.0</td>\n",
       "    </tr>\n",
       "    <tr>\n",
       "      <th>23</th>\n",
       "      <td>391.0</td>\n",
       "      <td>A050</td>\n",
       "      <td>2012-05-12</td>\n",
       "      <td>tablets</td>\n",
       "      <td>11589.0</td>\n",
       "    </tr>\n",
       "    <tr>\n",
       "      <th>24</th>\n",
       "      <td>528.0</td>\n",
       "      <td>A050</td>\n",
       "      <td>2012-07-01</td>\n",
       "      <td>cellphone</td>\n",
       "      <td>8915.0</td>\n",
       "    </tr>\n",
       "    <tr>\n",
       "      <th>25</th>\n",
       "      <td>572.0</td>\n",
       "      <td>A050</td>\n",
       "      <td>2012-07-12</td>\n",
       "      <td>casino</td>\n",
       "      <td>2066.0</td>\n",
       "    </tr>\n",
       "    <tr>\n",
       "      <th>26</th>\n",
       "      <td>689.0</td>\n",
       "      <td>A050</td>\n",
       "      <td>2012-08-27</td>\n",
       "      <td>tablets</td>\n",
       "      <td>16943.0</td>\n",
       "    </tr>\n",
       "    <tr>\n",
       "      <th>27</th>\n",
       "      <td>749.0</td>\n",
       "      <td>A050</td>\n",
       "      <td>2012-09-21</td>\n",
       "      <td>laptops</td>\n",
       "      <td>56243.0</td>\n",
       "    </tr>\n",
       "    <tr>\n",
       "      <th>28</th>\n",
       "      <td>910.0</td>\n",
       "      <td>A050</td>\n",
       "      <td>2012-11-22</td>\n",
       "      <td>club</td>\n",
       "      <td>1436.0</td>\n",
       "    </tr>\n",
       "    <tr>\n",
       "      <th>29</th>\n",
       "      <td>937.0</td>\n",
       "      <td>A050</td>\n",
       "      <td>2012-12-01</td>\n",
       "      <td>tablets</td>\n",
       "      <td>14054.0</td>\n",
       "    </tr>\n",
       "    <tr>\n",
       "      <th>...</th>\n",
       "      <td>...</td>\n",
       "      <td>...</td>\n",
       "      <td>...</td>\n",
       "      <td>...</td>\n",
       "      <td>...</td>\n",
       "    </tr>\n",
       "    <tr>\n",
       "      <th>970</th>\n",
       "      <td>45.0</td>\n",
       "      <td>C901</td>\n",
       "      <td>2012-01-18</td>\n",
       "      <td>laptops</td>\n",
       "      <td>99338.0</td>\n",
       "    </tr>\n",
       "    <tr>\n",
       "      <th>971</th>\n",
       "      <td>105.0</td>\n",
       "      <td>C901</td>\n",
       "      <td>2012-02-07</td>\n",
       "      <td>laptops</td>\n",
       "      <td>46395.0</td>\n",
       "    </tr>\n",
       "    <tr>\n",
       "      <th>972</th>\n",
       "      <td>148.0</td>\n",
       "      <td>C901</td>\n",
       "      <td>2012-02-23</td>\n",
       "      <td>medicines</td>\n",
       "      <td>83.0</td>\n",
       "    </tr>\n",
       "    <tr>\n",
       "      <th>973</th>\n",
       "      <td>170.0</td>\n",
       "      <td>C901</td>\n",
       "      <td>2012-03-01</td>\n",
       "      <td>books</td>\n",
       "      <td>3347.0</td>\n",
       "    </tr>\n",
       "    <tr>\n",
       "      <th>974</th>\n",
       "      <td>222.0</td>\n",
       "      <td>C901</td>\n",
       "      <td>2012-03-21</td>\n",
       "      <td>laptops</td>\n",
       "      <td>49182.0</td>\n",
       "    </tr>\n",
       "    <tr>\n",
       "      <th>975</th>\n",
       "      <td>259.0</td>\n",
       "      <td>C901</td>\n",
       "      <td>2012-04-01</td>\n",
       "      <td>food</td>\n",
       "      <td>573.0</td>\n",
       "    </tr>\n",
       "    <tr>\n",
       "      <th>976</th>\n",
       "      <td>296.0</td>\n",
       "      <td>C901</td>\n",
       "      <td>2012-04-11</td>\n",
       "      <td>medicines</td>\n",
       "      <td>888.0</td>\n",
       "    </tr>\n",
       "    <tr>\n",
       "      <th>977</th>\n",
       "      <td>684.0</td>\n",
       "      <td>C901</td>\n",
       "      <td>2012-08-25</td>\n",
       "      <td>clothes</td>\n",
       "      <td>2627.0</td>\n",
       "    </tr>\n",
       "    <tr>\n",
       "      <th>978</th>\n",
       "      <td>748.0</td>\n",
       "      <td>C901</td>\n",
       "      <td>2012-09-21</td>\n",
       "      <td>club</td>\n",
       "      <td>2167.0</td>\n",
       "    </tr>\n",
       "    <tr>\n",
       "      <th>979</th>\n",
       "      <td>970.0</td>\n",
       "      <td>C901</td>\n",
       "      <td>2012-12-14</td>\n",
       "      <td>club</td>\n",
       "      <td>2877.0</td>\n",
       "    </tr>\n",
       "    <tr>\n",
       "      <th>980</th>\n",
       "      <td>144.0</td>\n",
       "      <td>C993</td>\n",
       "      <td>2012-02-21</td>\n",
       "      <td>club</td>\n",
       "      <td>691.0</td>\n",
       "    </tr>\n",
       "    <tr>\n",
       "      <th>981</th>\n",
       "      <td>263.0</td>\n",
       "      <td>C993</td>\n",
       "      <td>2012-04-01</td>\n",
       "      <td>club</td>\n",
       "      <td>983.0</td>\n",
       "    </tr>\n",
       "    <tr>\n",
       "      <th>982</th>\n",
       "      <td>323.0</td>\n",
       "      <td>C993</td>\n",
       "      <td>2012-04-18</td>\n",
       "      <td>toys</td>\n",
       "      <td>590.0</td>\n",
       "    </tr>\n",
       "    <tr>\n",
       "      <th>983</th>\n",
       "      <td>324.0</td>\n",
       "      <td>C993</td>\n",
       "      <td>2012-04-18</td>\n",
       "      <td>tablets</td>\n",
       "      <td>13520.0</td>\n",
       "    </tr>\n",
       "    <tr>\n",
       "      <th>984</th>\n",
       "      <td>395.0</td>\n",
       "      <td>C993</td>\n",
       "      <td>2012-05-12</td>\n",
       "      <td>medicines</td>\n",
       "      <td>614.0</td>\n",
       "    </tr>\n",
       "    <tr>\n",
       "      <th>985</th>\n",
       "      <td>567.0</td>\n",
       "      <td>C993</td>\n",
       "      <td>2012-07-10</td>\n",
       "      <td>club</td>\n",
       "      <td>2293.0</td>\n",
       "    </tr>\n",
       "    <tr>\n",
       "      <th>986</th>\n",
       "      <td>711.0</td>\n",
       "      <td>C993</td>\n",
       "      <td>2012-09-05</td>\n",
       "      <td>clothes</td>\n",
       "      <td>3675.0</td>\n",
       "    </tr>\n",
       "    <tr>\n",
       "      <th>987</th>\n",
       "      <td>795.0</td>\n",
       "      <td>C993</td>\n",
       "      <td>2012-10-08</td>\n",
       "      <td>food</td>\n",
       "      <td>343.0</td>\n",
       "    </tr>\n",
       "    <tr>\n",
       "      <th>988</th>\n",
       "      <td>927.0</td>\n",
       "      <td>C993</td>\n",
       "      <td>2012-11-28</td>\n",
       "      <td>club</td>\n",
       "      <td>1241.0</td>\n",
       "    </tr>\n",
       "    <tr>\n",
       "      <th>989</th>\n",
       "      <td>928.0</td>\n",
       "      <td>C993</td>\n",
       "      <td>2012-11-28</td>\n",
       "      <td>tablets</td>\n",
       "      <td>15469.0</td>\n",
       "    </tr>\n",
       "    <tr>\n",
       "      <th>990</th>\n",
       "      <td>2.0</td>\n",
       "      <td>C999</td>\n",
       "      <td>2012-01-02</td>\n",
       "      <td>toys</td>\n",
       "      <td>762.0</td>\n",
       "    </tr>\n",
       "    <tr>\n",
       "      <th>991</th>\n",
       "      <td>228.0</td>\n",
       "      <td>C999</td>\n",
       "      <td>2012-03-22</td>\n",
       "      <td>club</td>\n",
       "      <td>2503.0</td>\n",
       "    </tr>\n",
       "    <tr>\n",
       "      <th>992</th>\n",
       "      <td>241.0</td>\n",
       "      <td>C999</td>\n",
       "      <td>2012-03-25</td>\n",
       "      <td>books</td>\n",
       "      <td>1491.0</td>\n",
       "    </tr>\n",
       "    <tr>\n",
       "      <th>993</th>\n",
       "      <td>338.0</td>\n",
       "      <td>C999</td>\n",
       "      <td>2012-04-24</td>\n",
       "      <td>medicines</td>\n",
       "      <td>27.0</td>\n",
       "    </tr>\n",
       "    <tr>\n",
       "      <th>994</th>\n",
       "      <td>379.0</td>\n",
       "      <td>C999</td>\n",
       "      <td>2012-05-07</td>\n",
       "      <td>casino</td>\n",
       "      <td>2596.0</td>\n",
       "    </tr>\n",
       "    <tr>\n",
       "      <th>995</th>\n",
       "      <td>393.0</td>\n",
       "      <td>C999</td>\n",
       "      <td>2012-05-12</td>\n",
       "      <td>toys</td>\n",
       "      <td>636.0</td>\n",
       "    </tr>\n",
       "    <tr>\n",
       "      <th>996</th>\n",
       "      <td>510.0</td>\n",
       "      <td>C999</td>\n",
       "      <td>2012-06-25</td>\n",
       "      <td>club</td>\n",
       "      <td>3286.0</td>\n",
       "    </tr>\n",
       "    <tr>\n",
       "      <th>997</th>\n",
       "      <td>617.0</td>\n",
       "      <td>C999</td>\n",
       "      <td>2012-07-28</td>\n",
       "      <td>cellphone</td>\n",
       "      <td>17963.0</td>\n",
       "    </tr>\n",
       "    <tr>\n",
       "      <th>998</th>\n",
       "      <td>718.0</td>\n",
       "      <td>C999</td>\n",
       "      <td>2012-09-07</td>\n",
       "      <td>cellphone</td>\n",
       "      <td>24481.0</td>\n",
       "    </tr>\n",
       "    <tr>\n",
       "      <th>999</th>\n",
       "      <td>746.0</td>\n",
       "      <td>C999</td>\n",
       "      <td>2012-09-20</td>\n",
       "      <td>clothes</td>\n",
       "      <td>2928.0</td>\n",
       "    </tr>\n",
       "  </tbody>\n",
       "</table>\n",
       "<p>1000 rows × 5 columns</p>\n",
       "</div>"
      ],
      "text/plain": [
       "        id custid       date   Category  Expense\n",
       "0      6.0   A006 2012-01-04     casino   3635.0\n",
       "1     56.0   A006 2012-01-20  cellphone  16784.0\n",
       "2    232.0   A006 2012-03-23  medicines    277.0\n",
       "3    302.0   A006 2012-04-13       club   2148.0\n",
       "4    383.0   A006 2012-05-09    tablets  13266.0\n",
       "5    492.0   A006 2012-06-20  medicines    872.0\n",
       "6    545.0   A006 2012-07-05    laptops  78056.0\n",
       "7    702.0   A006 2012-08-31    clothes    467.0\n",
       "8    867.0   A006 2012-11-08    laptops  36473.0\n",
       "9    915.0   A006 2012-11-24       food    896.0\n",
       "10   188.0   A027 2012-03-06    laptops  80703.0\n",
       "11   242.0   A027 2012-03-25    tablets  15406.0\n",
       "12   358.0   A027 2012-04-29  cellphone  28479.0\n",
       "13   373.0   A027 2012-05-04     casino   5442.0\n",
       "14   664.0   A027 2012-08-18  medicines    639.0\n",
       "15   679.0   A027 2012-08-23  cellphone  21645.0\n",
       "16   778.0   A027 2012-10-01     casino   3521.0\n",
       "17   811.0   A027 2012-10-16       toys    470.0\n",
       "18   916.0   A027 2012-11-24      movie    147.0\n",
       "19   940.0   A027 2012-12-02  medicines    963.0\n",
       "20   119.0   A050 2012-02-13     casino   6493.0\n",
       "21   311.0   A050 2012-04-15     casino   5136.0\n",
       "22   312.0   A050 2012-04-15      books   3780.0\n",
       "23   391.0   A050 2012-05-12    tablets  11589.0\n",
       "24   528.0   A050 2012-07-01  cellphone   8915.0\n",
       "25   572.0   A050 2012-07-12     casino   2066.0\n",
       "26   689.0   A050 2012-08-27    tablets  16943.0\n",
       "27   749.0   A050 2012-09-21    laptops  56243.0\n",
       "28   910.0   A050 2012-11-22       club   1436.0\n",
       "29   937.0   A050 2012-12-01    tablets  14054.0\n",
       "..     ...    ...        ...        ...      ...\n",
       "970   45.0   C901 2012-01-18    laptops  99338.0\n",
       "971  105.0   C901 2012-02-07    laptops  46395.0\n",
       "972  148.0   C901 2012-02-23  medicines     83.0\n",
       "973  170.0   C901 2012-03-01      books   3347.0\n",
       "974  222.0   C901 2012-03-21    laptops  49182.0\n",
       "975  259.0   C901 2012-04-01       food    573.0\n",
       "976  296.0   C901 2012-04-11  medicines    888.0\n",
       "977  684.0   C901 2012-08-25    clothes   2627.0\n",
       "978  748.0   C901 2012-09-21       club   2167.0\n",
       "979  970.0   C901 2012-12-14       club   2877.0\n",
       "980  144.0   C993 2012-02-21       club    691.0\n",
       "981  263.0   C993 2012-04-01       club    983.0\n",
       "982  323.0   C993 2012-04-18       toys    590.0\n",
       "983  324.0   C993 2012-04-18    tablets  13520.0\n",
       "984  395.0   C993 2012-05-12  medicines    614.0\n",
       "985  567.0   C993 2012-07-10       club   2293.0\n",
       "986  711.0   C993 2012-09-05    clothes   3675.0\n",
       "987  795.0   C993 2012-10-08       food    343.0\n",
       "988  927.0   C993 2012-11-28       club   1241.0\n",
       "989  928.0   C993 2012-11-28    tablets  15469.0\n",
       "990    2.0   C999 2012-01-02       toys    762.0\n",
       "991  228.0   C999 2012-03-22       club   2503.0\n",
       "992  241.0   C999 2012-03-25      books   1491.0\n",
       "993  338.0   C999 2012-04-24  medicines     27.0\n",
       "994  379.0   C999 2012-05-07     casino   2596.0\n",
       "995  393.0   C999 2012-05-12       toys    636.0\n",
       "996  510.0   C999 2012-06-25       club   3286.0\n",
       "997  617.0   C999 2012-07-28  cellphone  17963.0\n",
       "998  718.0   C999 2012-09-07  cellphone  24481.0\n",
       "999  746.0   C999 2012-09-20    clothes   2928.0\n",
       "\n",
       "[1000 rows x 5 columns]"
      ]
     },
     "execution_count": 83,
     "metadata": {},
     "output_type": "execute_result"
    }
   ],
   "source": [
    "Credit = pd.read_sas(\"C:/Users/admin/Documents/DataSets/CredidCardUsage.sas7bdat\")\n",
    "Credit"
   ]
  },
  {
   "cell_type": "code",
   "execution_count": null,
   "metadata": {
    "collapsed": true
   },
   "outputs": [],
   "source": []
  },
  {
   "cell_type": "code",
   "execution_count": null,
   "metadata": {
    "collapsed": true
   },
   "outputs": [],
   "source": [
    "# SAS\n",
    "# DBMS"
   ]
  },
  {
   "cell_type": "code",
   "execution_count": null,
   "metadata": {
    "collapsed": true
   },
   "outputs": [],
   "source": []
  }
 ],
 "metadata": {
  "kernelspec": {
   "display_name": "Python 2",
   "language": "python",
   "name": "python2"
  },
  "language_info": {
   "codemirror_mode": {
    "name": "ipython",
    "version": 2
   },
   "file_extension": ".py",
   "mimetype": "text/x-python",
   "name": "python",
   "nbconvert_exporter": "python",
   "pygments_lexer": "ipython2",
   "version": "2.7.13"
  }
 },
 "nbformat": 4,
 "nbformat_minor": 2
}
