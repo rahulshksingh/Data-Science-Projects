{
 "cells": [
  {
   "cell_type": "code",
   "execution_count": 1,
   "metadata": {
    "collapsed": true
   },
   "outputs": [],
   "source": [
    "import pandas as pd\n",
    "import numpy as np\n",
    "import os"
   ]
  },
  {
   "cell_type": "code",
   "execution_count": null,
   "metadata": {
    "collapsed": true
   },
   "outputs": [],
   "source": []
  },
  {
   "cell_type": "code",
   "execution_count": 3,
   "metadata": {
    "collapsed": false
   },
   "outputs": [],
   "source": [
    "# import\n",
    "os.getcwd()\n",
    "os.chdir(\"C:\\\\Users\\\\admin\\\\pandas\\\\DataSets\")\n",
    "\n",
    "stores = pd.read_csv(\"stores.csv\")\n",
    "\n",
    "# file name` or file path\n",
    "\n",
    "# Excel sheet - sheetname or sheetindex\n",
    "\n",
    "# rows = \n"
   ]
  },
  {
   "cell_type": "code",
   "execution_count": 49,
   "metadata": {
    "collapsed": false
   },
   "outputs": [
    {
     "data": {
      "text/plain": [
       "[u'Sheet3', u'Sheet4', u'stores', u'Sheet1', u'Sheet2']"
      ]
     },
     "execution_count": 49,
     "metadata": {},
     "output_type": "execute_result"
    }
   ],
   "source": [
    "myxlfile = pd.ExcelFile('stores.xlsx')\n",
    "\n",
    "sh = myxlfile.sheet_names  # see all sheet names\n",
    "sh\n",
    "\n",
    "storesxls = pd.read_excel(myxlfile,'stores') # or pd.read_excel(myxlfile, 2)"
   ]
  },
  {
   "cell_type": "code",
   "execution_count": 50,
   "metadata": {
    "collapsed": false
   },
   "outputs": [
    {
     "data": {
      "text/plain": [
       "pandas.core.frame.DataFrame"
      ]
     },
     "execution_count": 50,
     "metadata": {},
     "output_type": "execute_result"
    }
   ],
   "source": [
    "type(stores)"
   ]
  },
  {
   "cell_type": "code",
   "execution_count": 5,
   "metadata": {
    "collapsed": true
   },
   "outputs": [],
   "source": [
    "# Indexes\n",
    "# 1. Every row has a default number - sno\n",
    "\n",
    "# 2. A list of names can be assigned to the rows\n",
    "\n",
    "# 3. A column can be promoted as an index"
   ]
  },
  {
   "cell_type": "code",
   "execution_count": 6,
   "metadata": {
    "collapsed": false
   },
   "outputs": [
    {
     "data": {
      "text/html": [
       "<div>\n",
       "<style>\n",
       "    .dataframe thead tr:only-child th {\n",
       "        text-align: right;\n",
       "    }\n",
       "\n",
       "    .dataframe thead th {\n",
       "        text-align: left;\n",
       "    }\n",
       "\n",
       "    .dataframe tbody tr th {\n",
       "        vertical-align: top;\n",
       "    }\n",
       "</style>\n",
       "<table border=\"1\" class=\"dataframe\">\n",
       "  <thead>\n",
       "    <tr style=\"text-align: right;\">\n",
       "      <th></th>\n",
       "      <th>StoreCode</th>\n",
       "      <th>StoreName</th>\n",
       "      <th>StoreType</th>\n",
       "      <th>Location</th>\n",
       "      <th>OperatingCost</th>\n",
       "      <th>Staff_Cnt</th>\n",
       "      <th>TotalSales</th>\n",
       "      <th>Total_Customers</th>\n",
       "      <th>AcqCostPercust</th>\n",
       "      <th>BasketSize</th>\n",
       "      <th>ProfitPercust</th>\n",
       "      <th>Own Store</th>\n",
       "      <th>OnlinePresence</th>\n",
       "      <th>Tenure</th>\n",
       "      <th>StoreSegment</th>\n",
       "    </tr>\n",
       "  </thead>\n",
       "  <tbody>\n",
       "    <tr>\n",
       "      <th>22</th>\n",
       "      <td>STR123</td>\n",
       "      <td>Fashion Bazar</td>\n",
       "      <td>Apparel</td>\n",
       "      <td>Mumbai</td>\n",
       "      <td>15.2</td>\n",
       "      <td>80</td>\n",
       "      <td>304.0</td>\n",
       "      <td>150</td>\n",
       "      <td>3.15</td>\n",
       "      <td>3.435</td>\n",
       "      <td>17.30</td>\n",
       "      <td>0</td>\n",
       "      <td>0</td>\n",
       "      <td>3</td>\n",
       "      <td>2</td>\n",
       "    </tr>\n",
       "    <tr>\n",
       "      <th>23</th>\n",
       "      <td>STR124</td>\n",
       "      <td>Digital Bazar</td>\n",
       "      <td>Electronincs</td>\n",
       "      <td>Mumbai</td>\n",
       "      <td>13.3</td>\n",
       "      <td>80</td>\n",
       "      <td>350.0</td>\n",
       "      <td>245</td>\n",
       "      <td>3.73</td>\n",
       "      <td>3.840</td>\n",
       "      <td>15.41</td>\n",
       "      <td>0</td>\n",
       "      <td>0</td>\n",
       "      <td>3</td>\n",
       "      <td>4</td>\n",
       "    </tr>\n",
       "    <tr>\n",
       "      <th>24</th>\n",
       "      <td>STR125</td>\n",
       "      <td>Electronics Zone</td>\n",
       "      <td>Electronincs</td>\n",
       "      <td>Kolkata</td>\n",
       "      <td>19.2</td>\n",
       "      <td>80</td>\n",
       "      <td>400.0</td>\n",
       "      <td>175</td>\n",
       "      <td>3.08</td>\n",
       "      <td>3.845</td>\n",
       "      <td>17.05</td>\n",
       "      <td>0</td>\n",
       "      <td>0</td>\n",
       "      <td>3</td>\n",
       "      <td>2</td>\n",
       "    </tr>\n",
       "    <tr>\n",
       "      <th>25</th>\n",
       "      <td>STR126</td>\n",
       "      <td>Apparel Zone</td>\n",
       "      <td>Apparel</td>\n",
       "      <td>Kolkata</td>\n",
       "      <td>27.3</td>\n",
       "      <td>40</td>\n",
       "      <td>79.0</td>\n",
       "      <td>66</td>\n",
       "      <td>4.08</td>\n",
       "      <td>1.935</td>\n",
       "      <td>18.90</td>\n",
       "      <td>1</td>\n",
       "      <td>1</td>\n",
       "      <td>4</td>\n",
       "      <td>1</td>\n",
       "    </tr>\n",
       "    <tr>\n",
       "      <th>26</th>\n",
       "      <td>STR127</td>\n",
       "      <td>Super Bazar</td>\n",
       "      <td>Super Market</td>\n",
       "      <td>Kolkata</td>\n",
       "      <td>26.0</td>\n",
       "      <td>40</td>\n",
       "      <td>120.3</td>\n",
       "      <td>91</td>\n",
       "      <td>4.43</td>\n",
       "      <td>2.140</td>\n",
       "      <td>16.70</td>\n",
       "      <td>0</td>\n",
       "      <td>1</td>\n",
       "      <td>5</td>\n",
       "      <td>2</td>\n",
       "    </tr>\n",
       "    <tr>\n",
       "      <th>27</th>\n",
       "      <td>STR128</td>\n",
       "      <td>Super Market</td>\n",
       "      <td>Super Market</td>\n",
       "      <td>Kolkata</td>\n",
       "      <td>30.4</td>\n",
       "      <td>40</td>\n",
       "      <td>95.1</td>\n",
       "      <td>113</td>\n",
       "      <td>3.77</td>\n",
       "      <td>1.513</td>\n",
       "      <td>16.90</td>\n",
       "      <td>1</td>\n",
       "      <td>1</td>\n",
       "      <td>5</td>\n",
       "      <td>2</td>\n",
       "    </tr>\n",
       "    <tr>\n",
       "      <th>28</th>\n",
       "      <td>STR129</td>\n",
       "      <td>Central Store</td>\n",
       "      <td>Super Market</td>\n",
       "      <td>Kolkata</td>\n",
       "      <td>15.8</td>\n",
       "      <td>80</td>\n",
       "      <td>351.0</td>\n",
       "      <td>264</td>\n",
       "      <td>4.22</td>\n",
       "      <td>3.170</td>\n",
       "      <td>14.50</td>\n",
       "      <td>0</td>\n",
       "      <td>1</td>\n",
       "      <td>5</td>\n",
       "      <td>4</td>\n",
       "    </tr>\n",
       "    <tr>\n",
       "      <th>29</th>\n",
       "      <td>STR130</td>\n",
       "      <td>Apparel Zone</td>\n",
       "      <td>Apparel</td>\n",
       "      <td>Kolkata</td>\n",
       "      <td>19.7</td>\n",
       "      <td>60</td>\n",
       "      <td>145.0</td>\n",
       "      <td>175</td>\n",
       "      <td>3.62</td>\n",
       "      <td>2.770</td>\n",
       "      <td>15.50</td>\n",
       "      <td>0</td>\n",
       "      <td>1</td>\n",
       "      <td>5</td>\n",
       "      <td>4</td>\n",
       "    </tr>\n",
       "    <tr>\n",
       "      <th>30</th>\n",
       "      <td>STR131</td>\n",
       "      <td>Fashion Bazar</td>\n",
       "      <td>Apparel</td>\n",
       "      <td>Kolkata</td>\n",
       "      <td>15.0</td>\n",
       "      <td>80</td>\n",
       "      <td>301.0</td>\n",
       "      <td>335</td>\n",
       "      <td>3.54</td>\n",
       "      <td>3.570</td>\n",
       "      <td>14.60</td>\n",
       "      <td>0</td>\n",
       "      <td>1</td>\n",
       "      <td>5</td>\n",
       "      <td>4</td>\n",
       "    </tr>\n",
       "    <tr>\n",
       "      <th>31</th>\n",
       "      <td>STR132</td>\n",
       "      <td>Digital Bazar</td>\n",
       "      <td>Electronincs</td>\n",
       "      <td>Kolkata</td>\n",
       "      <td>21.4</td>\n",
       "      <td>40</td>\n",
       "      <td>121.0</td>\n",
       "      <td>109</td>\n",
       "      <td>4.11</td>\n",
       "      <td>2.780</td>\n",
       "      <td>18.60</td>\n",
       "      <td>1</td>\n",
       "      <td>1</td>\n",
       "      <td>4</td>\n",
       "      <td>2</td>\n",
       "    </tr>\n",
       "  </tbody>\n",
       "</table>\n",
       "</div>"
      ],
      "text/plain": [
       "   StoreCode         StoreName     StoreType Location  OperatingCost  \\\n",
       "22    STR123     Fashion Bazar       Apparel   Mumbai           15.2   \n",
       "23    STR124     Digital Bazar  Electronincs   Mumbai           13.3   \n",
       "24    STR125  Electronics Zone  Electronincs  Kolkata           19.2   \n",
       "25    STR126      Apparel Zone       Apparel  Kolkata           27.3   \n",
       "26    STR127       Super Bazar  Super Market  Kolkata           26.0   \n",
       "27    STR128      Super Market  Super Market  Kolkata           30.4   \n",
       "28    STR129     Central Store  Super Market  Kolkata           15.8   \n",
       "29    STR130      Apparel Zone       Apparel  Kolkata           19.7   \n",
       "30    STR131     Fashion Bazar       Apparel  Kolkata           15.0   \n",
       "31    STR132     Digital Bazar  Electronincs  Kolkata           21.4   \n",
       "\n",
       "    Staff_Cnt  TotalSales  Total_Customers  AcqCostPercust  BasketSize  \\\n",
       "22         80       304.0              150            3.15       3.435   \n",
       "23         80       350.0              245            3.73       3.840   \n",
       "24         80       400.0              175            3.08       3.845   \n",
       "25         40        79.0               66            4.08       1.935   \n",
       "26         40       120.3               91            4.43       2.140   \n",
       "27         40        95.1              113            3.77       1.513   \n",
       "28         80       351.0              264            4.22       3.170   \n",
       "29         60       145.0              175            3.62       2.770   \n",
       "30         80       301.0              335            3.54       3.570   \n",
       "31         40       121.0              109            4.11       2.780   \n",
       "\n",
       "    ProfitPercust  Own Store  OnlinePresence  Tenure  StoreSegment  \n",
       "22          17.30          0               0       3             2  \n",
       "23          15.41          0               0       3             4  \n",
       "24          17.05          0               0       3             2  \n",
       "25          18.90          1               1       4             1  \n",
       "26          16.70          0               1       5             2  \n",
       "27          16.90          1               1       5             2  \n",
       "28          14.50          0               1       5             4  \n",
       "29          15.50          0               1       5             4  \n",
       "30          14.60          0               1       5             4  \n",
       "31          18.60          1               1       4             2  "
      ]
     },
     "execution_count": 6,
     "metadata": {},
     "output_type": "execute_result"
    }
   ],
   "source": [
    "stores.head(5)\n",
    "stores.tail(10)"
   ]
  },
  {
   "cell_type": "code",
   "execution_count": 5,
   "metadata": {
    "collapsed": false
   },
   "outputs": [],
   "source": [
    "cols = stores.columns.tolist()"
   ]
  },
  {
   "cell_type": "code",
   "execution_count": 15,
   "metadata": {
    "collapsed": false
   },
   "outputs": [
    {
     "data": {
      "text/plain": [
       "['StoreCode', 'StoreName', 'StoreType', 'Location', 'OperatingCost']"
      ]
     },
     "execution_count": 15,
     "metadata": {},
     "output_type": "execute_result"
    }
   ],
   "source": [
    "cols[0:5]"
   ]
  },
  {
   "cell_type": "code",
   "execution_count": 16,
   "metadata": {
    "collapsed": false
   },
   "outputs": [
    {
     "data": {
      "text/plain": [
       "(32, 15)"
      ]
     },
     "execution_count": 16,
     "metadata": {},
     "output_type": "execute_result"
    }
   ],
   "source": [
    "stores.shape # givews me a tuple (nrow, ncol)\n"
   ]
  },
  {
   "cell_type": "code",
   "execution_count": 9,
   "metadata": {
    "collapsed": false
   },
   "outputs": [
    {
     "data": {
      "text/plain": [
       "15"
      ]
     },
     "execution_count": 9,
     "metadata": {},
     "output_type": "execute_result"
    }
   ],
   "source": [
    "# Describing a dataframe\n",
    "stores.shape # givews me a tuple (nrow, ncol)\n",
    "\n",
    "stores.shape[0] # no of rows\n",
    "stores.shape[1] # no of cols"
   ]
  },
  {
   "cell_type": "code",
   "execution_count": null,
   "metadata": {
    "collapsed": false
   },
   "outputs": [],
   "source": [
    "stores.dtypes"
   ]
  },
  {
   "cell_type": "code",
   "execution_count": null,
   "metadata": {
    "collapsed": false
   },
   "outputs": [],
   "source": [
    "stores.ndim"
   ]
  },
  {
   "cell_type": "code",
   "execution_count": null,
   "metadata": {
    "collapsed": false
   },
   "outputs": [],
   "source": [
    "stores.info()"
   ]
  },
  {
   "cell_type": "code",
   "execution_count": null,
   "metadata": {
    "collapsed": false
   },
   "outputs": [],
   "source": [
    "stores.get_dtype_counts()"
   ]
  },
  {
   "cell_type": "code",
   "execution_count": null,
   "metadata": {
    "collapsed": false
   },
   "outputs": [],
   "source": [
    "stores.head()\n",
    "stores.tail()"
   ]
  },
  {
   "cell_type": "code",
   "execution_count": null,
   "metadata": {
    "collapsed": false
   },
   "outputs": [],
   "source": [
    "stores.columns\n",
    "stores.columns.tolist()"
   ]
  },
  {
   "cell_type": "code",
   "execution_count": null,
   "metadata": {
    "collapsed": false
   },
   "outputs": [],
   "source": [
    "stores.index.tolist()"
   ]
  },
  {
   "cell_type": "code",
   "execution_count": null,
   "metadata": {
    "collapsed": false
   },
   "outputs": [],
   "source": [
    "stores.values"
   ]
  },
  {
   "cell_type": "code",
   "execution_count": null,
   "metadata": {
    "collapsed": false
   },
   "outputs": [],
   "source": [
    "stores.describe() # all the numeric columns in my data"
   ]
  },
  {
   "cell_type": "code",
   "execution_count": 10,
   "metadata": {
    "collapsed": false
   },
   "outputs": [],
   "source": [
    "# 1. Fetching Columns and rows\n",
    "\n",
    "# 1.1 Use the . operator\n",
    "Location = stores.Location\n",
    "Sales = stores.TotalSales"
   ]
  },
  {
   "cell_type": "code",
   "execution_count": 11,
   "metadata": {
    "collapsed": false
   },
   "outputs": [
    {
     "data": {
      "text/plain": [
       "0       Delhi\n",
       "1       Delhi\n",
       "2       Delhi\n",
       "3       Delhi\n",
       "4       Delhi\n",
       "5       Delhi\n",
       "6       Delhi\n",
       "7       Delhi\n",
       "8     Chennai\n",
       "9     Chennai\n",
       "10    Chennai\n",
       "11    Chennai\n",
       "12    Chennai\n",
       "13    Chennai\n",
       "14    Chennai\n",
       "15    Chennai\n",
       "16     Mumbai\n",
       "17     Mumbai\n",
       "18     Mumbai\n",
       "19     Mumbai\n",
       "20     Mumbai\n",
       "21     Mumbai\n",
       "22     Mumbai\n",
       "23     Mumbai\n",
       "24    Kolkata\n",
       "25    Kolkata\n",
       "26    Kolkata\n",
       "27    Kolkata\n",
       "28    Kolkata\n",
       "29    Kolkata\n",
       "30    Kolkata\n",
       "31    Kolkata\n",
       "Name: Location, dtype: object"
      ]
     },
     "execution_count": 11,
     "metadata": {},
     "output_type": "execute_result"
    }
   ],
   "source": [
    "stores.Location"
   ]
  },
  {
   "cell_type": "code",
   "execution_count": 14,
   "metadata": {
    "collapsed": false
   },
   "outputs": [
    {
     "name": "stdout",
     "output_type": "stream",
     "text": [
      "230.721875\n",
      "196.3\n",
      "-1.06752340014\n",
      "7383.1\n"
     ]
    }
   ],
   "source": [
    "print stores.TotalSales.mean()\n",
    "print stores.TotalSales.median()\n",
    "print stores.TotalSales.kurtosis()\n",
    "print stores.TotalSales.sum()"
   ]
  },
  {
   "cell_type": "code",
   "execution_count": null,
   "metadata": {
    "collapsed": false
   },
   "outputs": [],
   "source": [
    "stores.Location.dtypes\n",
    "\n",
    "print stores.OperatingCost.dtype"
   ]
  },
  {
   "cell_type": "code",
   "execution_count": null,
   "metadata": {
    "collapsed": false
   },
   "outputs": [],
   "source": [
    "# 1.2 Use the  [] notation\n",
    "\n",
    "# Motive is to get a list of columns by index or by values\n",
    "stores[\"Location\"] # Good for one column\n",
    "# gives a Series\n",
    "\n",
    "#\"Total Sales\"\n",
    "#stores.Total Sales\n",
    "#stores[\"Total Sales\"]"
   ]
  },
  {
   "cell_type": "code",
   "execution_count": null,
   "metadata": {
    "collapsed": false
   },
   "outputs": [],
   "source": [
    "# for multiple columns, pass a list [] to the dataFrame[]\n",
    "\n",
    "stores[\"Location\"]\n",
    "stores[[\"Location\",\"TotalSales\"]]\n",
    "\n",
    "# stores[c(\"Location\",\"TotalSales\")]\n",
    "# gives a new DataFrame"
   ]
  },
  {
   "cell_type": "code",
   "execution_count": null,
   "metadata": {
    "collapsed": false
   },
   "outputs": [],
   "source": [
    "# Using [] and indexes\n",
    "# iloc attribute - to fetch by index location\n",
    "stores.iloc[:,] # one column gives series"
   ]
  },
  {
   "cell_type": "code",
   "execution_count": null,
   "metadata": {
    "collapsed": false
   },
   "outputs": [],
   "source": [
    "stores.iloc[:,:]"
   ]
  },
  {
   "cell_type": "code",
   "execution_count": null,
   "metadata": {
    "collapsed": false
   },
   "outputs": [],
   "source": [
    "stores.iloc[:,1:5] # multiple columns gives a new data frame\n",
    "\n",
    "stores.iloc[:,2:14:2]\n",
    "# 2,4,6..14"
   ]
  },
  {
   "cell_type": "code",
   "execution_count": null,
   "metadata": {
    "collapsed": true
   },
   "outputs": [],
   "source": [
    "\n",
    "# use loc attribute to get names by column names\n",
    "stores.loc[:,\"StoreName\"]"
   ]
  },
  {
   "cell_type": "code",
   "execution_count": null,
   "metadata": {
    "collapsed": false
   },
   "outputs": [],
   "source": [
    "tt = (stores.dtypes == \"int64\") | (stores.dtypes == \"float64\")"
   ]
  },
  {
   "cell_type": "code",
   "execution_count": null,
   "metadata": {
    "collapsed": true
   },
   "outputs": [],
   "source": [
    "# Fetcing rows along with columns\n",
    "stores.iloc[1:3,:]"
   ]
  },
  {
   "cell_type": "code",
   "execution_count": null,
   "metadata": {
    "collapsed": true
   },
   "outputs": [],
   "source": [
    "stores.iloc[1:3,1:4] # 2nd 3rd rows, 2nd, 3rd, 4th columns"
   ]
  },
  {
   "cell_type": "code",
   "execution_count": null,
   "metadata": {
    "collapsed": false
   },
   "outputs": [],
   "source": [
    "stores.iloc[[1,2,10,11],[0,1,5,8]]\n",
    "\n",
    "#stores[c(1,2,10,11),c(1,5,8)]"
   ]
  },
  {
   "cell_type": "markdown",
   "metadata": {},
   "source": [
    "---"
   ]
  },
  {
   "cell_type": "code",
   "execution_count": null,
   "metadata": {
    "collapsed": true
   },
   "outputs": [],
   "source": [
    "# 2. Data types of columns\n",
    "\n",
    "# Numbers\n",
    "\n",
    "# To strings\n",
    "stores1 = stores"
   ]
  },
  {
   "cell_type": "code",
   "execution_count": null,
   "metadata": {
    "collapsed": true
   },
   "outputs": [],
   "source": [
    "\n",
    "stores1.TotalSales = stores1.TotalSales.astype(str)\n",
    "\n",
    "\n"
   ]
  },
  {
   "cell_type": "code",
   "execution_count": null,
   "metadata": {
    "collapsed": true
   },
   "outputs": [],
   "source": [
    "# to bool\n",
    "stores1.TotalSales.astype(bool) # all non 0 values will be True"
   ]
  },
  {
   "cell_type": "code",
   "execution_count": null,
   "metadata": {
    "collapsed": true
   },
   "outputs": [],
   "source": [
    "# Strings to numeric\n",
    "\n",
    "# Logically correct only if the text has no characters or symbols \n",
    "pd.to_numeric(stores.TotalSales)\n",
    "\n",
    "#pd.to_numeric(stores.Location,errors='coerce') \n",
    "# Any alphanumeric text can be coerced to NaN"
   ]
  },
  {
   "cell_type": "code",
   "execution_count": null,
   "metadata": {
    "collapsed": true
   },
   "outputs": [],
   "source": [
    "s1 = pd.Series([2434,56778,1234,\"A\",\"C\",\"12\",\"678\"])\n",
    "\n",
    "print s1.dtypes\n",
    "\n",
    "pd.to_numeric(s1,errors = 'coerce')"
   ]
  },
  {
   "cell_type": "code",
   "execution_count": 51,
   "metadata": {
    "collapsed": true
   },
   "outputs": [],
   "source": [
    "# Handling Dates\n",
    "\n",
    "import datetime as dt\n",
    "\n",
    "# Sample Data from excel with dates\n",
    "dict1 = {\"SNo\":[1,2,3,4,5],\n",
    "         \"Empname\" : [\"Whitmann\",\"May\",\"Hammond\",\"Clarkson\",\"She\"],\n",
    "         \"DoB\" : [\"16May1971\",\"21April1970\",\"8June1961\",\"12April1970\",\"14July1966\"],\n",
    "         \"Sal\" : [23445,45651,83235,32452,33565],\n",
    "         \"DoJ\" : [20111201,20120908,20120202,20150110,20140919] \n",
    "}"
   ]
  },
  {
   "cell_type": "code",
   "execution_count": 52,
   "metadata": {
    "collapsed": false
   },
   "outputs": [
    {
     "data": {
      "text/plain": [
       "{'DoB': ['16May1971', '21April1970', '8June1961', '12April1970', '14July1966'],\n",
       " 'DoJ': [20111201, 20120908, 20120202, 20150110, 20140919],\n",
       " 'Empname': ['Whitmann', 'May', 'Hammond', 'Clarkson', 'She'],\n",
       " 'SNo': [1, 2, 3, 4, 5],\n",
       " 'Sal': [23445, 45651, 83235, 32452, 33565]}"
      ]
     },
     "execution_count": 52,
     "metadata": {},
     "output_type": "execute_result"
    }
   ],
   "source": [
    "dict1"
   ]
  },
  {
   "cell_type": "code",
   "execution_count": 53,
   "metadata": {
    "collapsed": true
   },
   "outputs": [],
   "source": [
    "EmpSample = pd.DataFrame(dict1)"
   ]
  },
  {
   "cell_type": "code",
   "execution_count": 54,
   "metadata": {
    "collapsed": false
   },
   "outputs": [
    {
     "data": {
      "text/html": [
       "<div>\n",
       "<style scoped>\n",
       "    .dataframe tbody tr th:only-of-type {\n",
       "        vertical-align: middle;\n",
       "    }\n",
       "\n",
       "    .dataframe tbody tr th {\n",
       "        vertical-align: top;\n",
       "    }\n",
       "\n",
       "    .dataframe thead th {\n",
       "        text-align: right;\n",
       "    }\n",
       "</style>\n",
       "<table border=\"1\" class=\"dataframe\">\n",
       "  <thead>\n",
       "    <tr style=\"text-align: right;\">\n",
       "      <th></th>\n",
       "      <th>DoB</th>\n",
       "      <th>DoJ</th>\n",
       "      <th>Empname</th>\n",
       "      <th>SNo</th>\n",
       "      <th>Sal</th>\n",
       "    </tr>\n",
       "  </thead>\n",
       "  <tbody>\n",
       "    <tr>\n",
       "      <th>0</th>\n",
       "      <td>16May1971</td>\n",
       "      <td>20111201</td>\n",
       "      <td>Whitmann</td>\n",
       "      <td>1</td>\n",
       "      <td>23445</td>\n",
       "    </tr>\n",
       "    <tr>\n",
       "      <th>1</th>\n",
       "      <td>21April1970</td>\n",
       "      <td>20120908</td>\n",
       "      <td>May</td>\n",
       "      <td>2</td>\n",
       "      <td>45651</td>\n",
       "    </tr>\n",
       "    <tr>\n",
       "      <th>2</th>\n",
       "      <td>8June1961</td>\n",
       "      <td>20120202</td>\n",
       "      <td>Hammond</td>\n",
       "      <td>3</td>\n",
       "      <td>83235</td>\n",
       "    </tr>\n",
       "    <tr>\n",
       "      <th>3</th>\n",
       "      <td>12April1970</td>\n",
       "      <td>20150110</td>\n",
       "      <td>Clarkson</td>\n",
       "      <td>4</td>\n",
       "      <td>32452</td>\n",
       "    </tr>\n",
       "    <tr>\n",
       "      <th>4</th>\n",
       "      <td>14July1966</td>\n",
       "      <td>20140919</td>\n",
       "      <td>She</td>\n",
       "      <td>5</td>\n",
       "      <td>33565</td>\n",
       "    </tr>\n",
       "  </tbody>\n",
       "</table>\n",
       "</div>"
      ],
      "text/plain": [
       "           DoB       DoJ   Empname  SNo    Sal\n",
       "0    16May1971  20111201  Whitmann    1  23445\n",
       "1  21April1970  20120908       May    2  45651\n",
       "2    8June1961  20120202   Hammond    3  83235\n",
       "3  12April1970  20150110  Clarkson    4  32452\n",
       "4   14July1966  20140919       She    5  33565"
      ]
     },
     "execution_count": 54,
     "metadata": {},
     "output_type": "execute_result"
    }
   ],
   "source": [
    "EmpSample"
   ]
  },
  {
   "cell_type": "code",
   "execution_count": 55,
   "metadata": {
    "collapsed": false
   },
   "outputs": [
    {
     "data": {
      "text/html": [
       "<div>\n",
       "<style scoped>\n",
       "    .dataframe tbody tr th:only-of-type {\n",
       "        vertical-align: middle;\n",
       "    }\n",
       "\n",
       "    .dataframe tbody tr th {\n",
       "        vertical-align: top;\n",
       "    }\n",
       "\n",
       "    .dataframe thead th {\n",
       "        text-align: right;\n",
       "    }\n",
       "</style>\n",
       "<table border=\"1\" class=\"dataframe\">\n",
       "  <thead>\n",
       "    <tr style=\"text-align: right;\">\n",
       "      <th></th>\n",
       "      <th>SNo</th>\n",
       "      <th>Empname</th>\n",
       "      <th>Sal</th>\n",
       "      <th>DoB</th>\n",
       "      <th>DoJ</th>\n",
       "    </tr>\n",
       "  </thead>\n",
       "  <tbody>\n",
       "    <tr>\n",
       "      <th>0</th>\n",
       "      <td>1</td>\n",
       "      <td>Whitmann</td>\n",
       "      <td>23445</td>\n",
       "      <td>16May1971</td>\n",
       "      <td>20111201</td>\n",
       "    </tr>\n",
       "    <tr>\n",
       "      <th>1</th>\n",
       "      <td>2</td>\n",
       "      <td>May</td>\n",
       "      <td>45651</td>\n",
       "      <td>21April1970</td>\n",
       "      <td>20120908</td>\n",
       "    </tr>\n",
       "    <tr>\n",
       "      <th>2</th>\n",
       "      <td>3</td>\n",
       "      <td>Hammond</td>\n",
       "      <td>83235</td>\n",
       "      <td>8June1961</td>\n",
       "      <td>20120202</td>\n",
       "    </tr>\n",
       "    <tr>\n",
       "      <th>3</th>\n",
       "      <td>4</td>\n",
       "      <td>Clarkson</td>\n",
       "      <td>32452</td>\n",
       "      <td>12April1970</td>\n",
       "      <td>20150110</td>\n",
       "    </tr>\n",
       "    <tr>\n",
       "      <th>4</th>\n",
       "      <td>5</td>\n",
       "      <td>She</td>\n",
       "      <td>33565</td>\n",
       "      <td>14July1966</td>\n",
       "      <td>20140919</td>\n",
       "    </tr>\n",
       "  </tbody>\n",
       "</table>\n",
       "</div>"
      ],
      "text/plain": [
       "   SNo   Empname    Sal          DoB       DoJ\n",
       "0    1  Whitmann  23445    16May1971  20111201\n",
       "1    2       May  45651  21April1970  20120908\n",
       "2    3   Hammond  83235    8June1961  20120202\n",
       "3    4  Clarkson  32452  12April1970  20150110\n",
       "4    5       She  33565   14July1966  20140919"
      ]
     },
     "execution_count": 55,
     "metadata": {},
     "output_type": "execute_result"
    }
   ],
   "source": [
    "EmpSample = EmpSample.iloc[:,[3,2,4,0,1]]\n",
    "EmpSample"
   ]
  },
  {
   "cell_type": "code",
   "execution_count": null,
   "metadata": {
    "collapsed": true
   },
   "outputs": [],
   "source": []
  },
  {
   "cell_type": "code",
   "execution_count": 57,
   "metadata": {
    "collapsed": false
   },
   "outputs": [
    {
     "name": "stdout",
     "output_type": "stream",
     "text": [
      "<class 'pandas.core.frame.DataFrame'>\n",
      "RangeIndex: 5 entries, 0 to 4\n",
      "Data columns (total 5 columns):\n",
      "SNo        5 non-null int64\n",
      "Empname    5 non-null object\n",
      "Sal        5 non-null int64\n",
      "DoB        5 non-null object\n",
      "DoJ        5 non-null int64\n",
      "dtypes: int64(3), object(2)\n",
      "memory usage: 272.0+ bytes\n"
     ]
    }
   ],
   "source": [
    "EmpSample.info()"
   ]
  },
  {
   "cell_type": "code",
   "execution_count": 58,
   "metadata": {
    "collapsed": false
   },
   "outputs": [
    {
     "data": {
      "text/plain": [
       "0      16May1971\n",
       "1    21April1970\n",
       "2      8June1961\n",
       "3    12April1970\n",
       "4     14July1966\n",
       "Name: DoB, dtype: object"
      ]
     },
     "execution_count": 58,
     "metadata": {},
     "output_type": "execute_result"
    }
   ],
   "source": [
    "EmpSample.DoB"
   ]
  },
  {
   "cell_type": "code",
   "execution_count": 61,
   "metadata": {
    "collapsed": false
   },
   "outputs": [],
   "source": [
    "EmpSample[\"DoB\"] = pd.to_datetime(EmpSample.DoB,format = [\"%d%B%Y\",\"%m%d%Y\"])\n",
    "\n",
    "#pd.to_datetime(EmpSample.DoB,format = \"%d%B%Y\")"
   ]
  },
  {
   "cell_type": "code",
   "execution_count": 62,
   "metadata": {
    "collapsed": false
   },
   "outputs": [
    {
     "data": {
      "text/plain": [
       "0   1971-05-16\n",
       "1   1970-04-21\n",
       "2   1961-06-08\n",
       "3   1970-04-12\n",
       "4   1966-07-14\n",
       "Name: DoB, dtype: datetime64[ns]"
      ]
     },
     "execution_count": 62,
     "metadata": {},
     "output_type": "execute_result"
    }
   ],
   "source": [
    "EmpSample[\"DoB\"] # the only way how proper dates are displayed - YYYY-MM-DD"
   ]
  },
  {
   "cell_type": "code",
   "execution_count": 67,
   "metadata": {
    "collapsed": false
   },
   "outputs": [
    {
     "data": {
      "text/plain": [
       "0    20111201\n",
       "1    20120908\n",
       "2    20120202\n",
       "3    20150110\n",
       "4    20140919\n",
       "Name: DoJ, dtype: object"
      ]
     },
     "execution_count": 67,
     "metadata": {},
     "output_type": "execute_result"
    }
   ],
   "source": [
    "EmpSample.DoJ"
   ]
  },
  {
   "cell_type": "code",
   "execution_count": 68,
   "metadata": {
    "collapsed": false
   },
   "outputs": [
    {
     "data": {
      "text/plain": [
       "0   2011-12-01\n",
       "1   2012-09-08\n",
       "2   2012-02-02\n",
       "3   2015-01-10\n",
       "4   2014-09-19\n",
       "Name: DoJ, dtype: datetime64[ns]"
      ]
     },
     "execution_count": 68,
     "metadata": {},
     "output_type": "execute_result"
    }
   ],
   "source": [
    "EmpSample[\"DoJ\"] = EmpSample.DoJ.astype(str) \n",
    "EmpSample[\"DoJ\"] = pd.to_datetime(EmpSample.DoJ, format = \"%Y%m%d\")\n",
    "EmpSample[\"DoJ\"]"
   ]
  },
  {
   "cell_type": "code",
   "execution_count": null,
   "metadata": {
    "collapsed": false
   },
   "outputs": [],
   "source": [
    "EmpSample.DoB.dt.date\n",
    "EmpSample.DoB.dt.day\n",
    "EmpSample.DoB.dt.month\n",
    "EmpSample.DoB.dt.year\n",
    "EmpSample.DoB.dt.weekday_name"
   ]
  },
  {
   "cell_type": "raw",
   "metadata": {},
   "source": [
    "Time/Date Components\n",
    "\n",
    "There are several time/date properties that one can access from Timestamp or a collection of timestamps like a DateTimeIndex.\n",
    "\n",
    "Property\t            Description\n",
    "--------                ------------\n",
    "year\t             \tThe year of the datetime\n",
    "month\t             \tThe month of the datetime\n",
    "day\t             \t    The days of the datetime\n",
    "hour\t             \tThe hour of the datetime\n",
    "minute\t             \tThe minutes of the datetime\n",
    "second\t             \tThe seconds of the datetime\n",
    "microsecond\t            The microseconds of the datetime\n",
    "nanosecond\t\t        The nanoseconds of the datetime\n",
    "date\t\t            Returns datetime.date (does not contain timezone information)\n",
    "time\t\t            Returns datetime.time (does not contain timezone information)\n",
    "dayofyear\t            The ordinal day of year\n",
    "weekofyear\t\t        The week ordinal of the year\n",
    "week\t\t            The week ordinal of the year\n",
    "dayofweek\t            The numer of the day of the week with Monday=0, Sunday=6\n",
    "weekday\t             \tThe number of the day of the week with Monday=0, Sunday=6\n",
    "weekday_name\t\t    The name of the day in a week (ex: Friday)\n",
    "quarter\t                Quarter of the date: Jan=Mar = 1, Apr-Jun = 2, etc.\n",
    "days_in_month\t\t    The number of days in the month of the datetime\n",
    "is_month_start\t\t    Logical indicating if first day of month (defined by frequency)\n",
    "is_month_end\t\t    Logical indicating if last day of month (defined by frequency)\n",
    "is_quarter_start\t    Logical indicating if first day of quarter (defined by frequency)\n",
    "is_quarter_end\t\t    Logical indicating if last day of quarter (defined by frequency)\n",
    "is_year_start\t\t    Logical indicating if first day of year (defined by frequency)\n",
    "is_year_end\t\t        Logical indicating if last day of year (defined by frequency)\n",
    "is_leap_year\t\t    Logical indicating if the date belongs to a leap year\n",
    "\n",
    "Furthermore, if you have a Series with datetimelike values, then you can access these properties via the .dt accessor, see the docs"
   ]
  },
  {
   "cell_type": "code",
   "execution_count": null,
   "metadata": {
    "collapsed": false
   },
   "outputs": [],
   "source": [
    "EmpSample.DoB.dt.strftime(\"%b, %d, %Y\")\n",
    "# Oct, 21, 1990"
   ]
  },
  {
   "cell_type": "code",
   "execution_count": null,
   "metadata": {
    "collapsed": false
   },
   "outputs": [],
   "source": [
    "pd.to_datetime(EmpSample.DoJ, format = \"%Y%m%d\")"
   ]
  },
  {
   "cell_type": "code",
   "execution_count": null,
   "metadata": {
    "collapsed": false
   },
   "outputs": [],
   "source": [
    "s = \"1700-01-26\"\n",
    "pd.to_datetime(s,format = \"%Y-%m-%d\")\n"
   ]
  },
  {
   "cell_type": "code",
   "execution_count": null,
   "metadata": {
    "collapsed": false
   },
   "outputs": [],
   "source": [
    "EmpSample.DoJ.astype(str)\n",
    "DoJ = pd.to_datetime(EmpSample.DoJ,format = \"%Y%m%d\")\n",
    "DoJ"
   ]
  },
  {
   "cell_type": "raw",
   "metadata": {
    "collapsed": true
   },
   "source": [
    "import datetime as dt # dt is a package\n",
    "age = dt.datetime.now().date()- EmpSample.DoB \n",
    "# datetime here is a module from package datetime or dt\n",
    "age"
   ]
  },
  {
   "cell_type": "code",
   "execution_count": null,
   "metadata": {
    "collapsed": false
   },
   "outputs": [],
   "source": [
    "age/365.25"
   ]
  },
  {
   "cell_type": "code",
   "execution_count": 71,
   "metadata": {
    "collapsed": false
   },
   "outputs": [
    {
     "data": {
      "text/plain": [
       "0   1971-05-16\n",
       "1   1970-04-21\n",
       "2   1961-06-08\n",
       "3   1970-04-12\n",
       "4   1966-07-14\n",
       "Name: DoB, dtype: datetime64[ns]"
      ]
     },
     "execution_count": 71,
     "metadata": {},
     "output_type": "execute_result"
    }
   ],
   "source": [
    "EmpSample.DoB"
   ]
  },
  {
   "cell_type": "code",
   "execution_count": 72,
   "metadata": {
    "collapsed": false
   },
   "outputs": [
    {
     "data": {
      "text/plain": [
       "0       Sunday, 16 May 1971\n",
       "1    Tuesday, 21 April 1970\n",
       "2    Thursday, 08 June 1961\n",
       "3     Sunday, 12 April 1970\n",
       "4    Thursday, 14 July 1966\n",
       "Name: DoB, dtype: object"
      ]
     },
     "execution_count": 72,
     "metadata": {},
     "output_type": "execute_result"
    }
   ],
   "source": [
    "# 1971-05-16 - \"Weekday, 16 May 1971\"\n",
    "EmpSample.DoB.dt.strftime(\"%A, %d %B %Y\")"
   ]
  },
  {
   "cell_type": "code",
   "execution_count": 73,
   "metadata": {
    "collapsed": true
   },
   "outputs": [],
   "source": [
    "from datetime import datetime as dt"
   ]
  },
  {
   "cell_type": "code",
   "execution_count": 76,
   "metadata": {
    "collapsed": false
   },
   "outputs": [],
   "source": [
    "Today = dt.now().date()\n",
    "Age = Today - EmpSample.DoB"
   ]
  },
  {
   "cell_type": "code",
   "execution_count": 77,
   "metadata": {
    "collapsed": false
   },
   "outputs": [
    {
     "data": {
      "text/plain": [
       "0   17077 days\n",
       "1   17467 days\n",
       "2   20706 days\n",
       "3   17476 days\n",
       "4   18844 days\n",
       "Name: DoB, dtype: timedelta64[ns]"
      ]
     },
     "execution_count": 77,
     "metadata": {},
     "output_type": "execute_result"
    }
   ],
   "source": [
    "Age"
   ]
  },
  {
   "cell_type": "markdown",
   "metadata": {},
   "source": [
    "# Till Here... \n",
    "----------------------------------"
   ]
  },
  {
   "cell_type": "code",
   "execution_count": null,
   "metadata": {
    "collapsed": true
   },
   "outputs": [],
   "source": [
    "# stores1.rename(index)"
   ]
  },
  {
   "cell_type": "code",
   "execution_count": null,
   "metadata": {
    "collapsed": false
   },
   "outputs": [],
   "source": [
    "# Renaming Columns\n",
    "\n",
    "# df = df.rename(columns={'oldName1': 'newName1', 'oldName2': 'newName2'})\n",
    "stores1 = stores\n",
    "stores1.head(2)\n",
    "\n",
    "# Location to City\n",
    "# OnlinePresence to EComm\n",
    "\n",
    "stores1 = stores1.rename(columns={\"Location\":\"City\",\"OnlinePresence\":\"EComm\"})\n",
    "stores1.head(2)"
   ]
  },
  {
   "cell_type": "code",
   "execution_count": null,
   "metadata": {
    "collapsed": false
   },
   "outputs": [],
   "source": [
    "print stores1.columns,"
   ]
  },
  {
   "cell_type": "code",
   "execution_count": null,
   "metadata": {
    "collapsed": false
   },
   "outputs": [],
   "source": [
    "stores1.head(2)"
   ]
  },
  {
   "cell_type": "code",
   "execution_count": null,
   "metadata": {
    "collapsed": false
   },
   "outputs": [],
   "source": [
    "# Adding a new column\n",
    "\n",
    "# GrandTotalSales = TotalSales * Total_Customers\n",
    "\n",
    "res = stores1.TotalSales * stores1.Total_Customers\n",
    "stores1['GrandTotalSales'] = res\n"
   ]
  },
  {
   "cell_type": "code",
   "execution_count": null,
   "metadata": {
    "collapsed": false
   },
   "outputs": [],
   "source": [
    "\n",
    "stores1['NetProfit'] = stores1.TotalSales - (stores1.OperatingCost + stores1.AcqCostPercust)\n"
   ]
  },
  {
   "cell_type": "code",
   "execution_count": null,
   "metadata": {
    "collapsed": false
   },
   "outputs": [],
   "source": [
    "stores['NetExpense'] = stores.OperatingCost + stores.AcqCostPercust"
   ]
  },
  {
   "cell_type": "code",
   "execution_count": null,
   "metadata": {
    "collapsed": false
   },
   "outputs": [],
   "source": [
    "stores1.head(2)"
   ]
  },
  {
   "cell_type": "code",
   "execution_count": null,
   "metadata": {
    "collapsed": false
   },
   "outputs": [],
   "source": [
    "stores = stores.assign(GrandTotalSales = stores.TotalSales * stores.Total_Customers)"
   ]
  },
  {
   "cell_type": "code",
   "execution_count": null,
   "metadata": {
    "collapsed": false
   },
   "outputs": [],
   "source": [
    "stores1.head(2)"
   ]
  },
  {
   "cell_type": "code",
   "execution_count": null,
   "metadata": {
    "collapsed": false
   },
   "outputs": [],
   "source": [
    "# Rearranging\n",
    "stores1.iloc[1:6,[0,1,2,3,5,6,7,15,8,4,16,9,10,11,12,13,14]]"
   ]
  },
  {
   "cell_type": "code",
   "execution_count": null,
   "metadata": {
    "collapsed": false
   },
   "outputs": [],
   "source": [
    "[]"
   ]
  },
  {
   "cell_type": "code",
   "execution_count": null,
   "metadata": {
    "collapsed": true
   },
   "outputs": [],
   "source": [
    "# Deleting or dropping a column\n",
    "# del df['column_name']\n",
    "\n",
    "del stores1['NetProfit2']\n",
    "\n",
    "# del would permanently delete a column - be careful!"
   ]
  },
  {
   "cell_type": "code",
   "execution_count": null,
   "metadata": {
    "collapsed": false
   },
   "outputs": [],
   "source": [
    "stores1.head(2)"
   ]
  },
  {
   "cell_type": "code",
   "execution_count": null,
   "metadata": {
    "collapsed": false
   },
   "outputs": [],
   "source": [
    "# Applying conditions on a dataframe\n",
    "\n",
    "# Select all columns where TotalSales > 250\n",
    "\n",
    "#df.loc[<condition>,<column name>]\n",
    "\n",
    "#stores.loc[stores.TotalSales >= 250]\n",
    "\n",
    "stores.loc[stores.Location == \"Delhi\"]"
   ]
  },
  {
   "cell_type": "code",
   "execution_count": null,
   "metadata": {
    "collapsed": false
   },
   "outputs": [],
   "source": [
    "stores.loc[stores.Location == \"Delhi\",[\"StoreType\",\"StoreName\"]]"
   ]
  },
  {
   "cell_type": "code",
   "execution_count": null,
   "metadata": {
    "collapsed": false
   },
   "outputs": [],
   "source": [
    "stores.loc[((stores.TotalSales > 150) & (stores.TotalSales < 300)) & ((stores.Location == \"Delhi\")|(stores.Location == \"Chennai\")),[\"StoreType\",\"StoreName\",\"Location\",\"TotalSales\"]]"
   ]
  },
  {
   "cell_type": "code",
   "execution_count": null,
   "metadata": {
    "collapsed": true
   },
   "outputs": [],
   "source": []
  },
  {
   "cell_type": "code",
   "execution_count": null,
   "metadata": {
    "collapsed": true
   },
   "outputs": [],
   "source": []
  },
  {
   "cell_type": "code",
   "execution_count": null,
   "metadata": {
    "collapsed": false
   },
   "outputs": [],
   "source": [
    "# Select StoreName,Location,TotalSales and OnlinePresence from stores where TotalSales >= 150 and <=250\n",
    "\n",
    "stores.loc[(stores.TotalSales >= 150) & (stores.TotalSales <= 250),[\"StoreName\",\"Location\",\"TotalSales\",\"OnlinePresence\"]]"
   ]
  },
  {
   "cell_type": "code",
   "execution_count": null,
   "metadata": {
    "collapsed": true
   },
   "outputs": [],
   "source": [
    "# Sorting\n",
    "\n",
    "# df.sort_values(by='column', ascending=False)\n",
    "\n",
    "# Location asc order\n",
    "Sort1 = stores.sort_values(by = \"Location\")"
   ]
  },
  {
   "cell_type": "code",
   "execution_count": null,
   "metadata": {
    "collapsed": true
   },
   "outputs": [],
   "source": [
    "# TotalSales desc order\n",
    "Sort2 = stores.sort_values(by = \"TotalSales\",ascending=False)"
   ]
  },
  {
   "cell_type": "code",
   "execution_count": null,
   "metadata": {
    "collapsed": false
   },
   "outputs": [],
   "source": [
    "# Location in asc and TotalSales in desc\n",
    "Sort4 = stores.sort_values(by = [\"Location\",\"TotalSales\"],ascending=[True,False])\n",
    "Sort4"
   ]
  },
  {
   "cell_type": "code",
   "execution_count": null,
   "metadata": {
    "collapsed": false
   },
   "outputs": [],
   "source": [
    "# Location in asc and TotalSales in desc\n",
    "Sort4 = stores.sort_index(by = [\"Location\",\"TotalSales\"],ascending=[1,0])\n",
    "Sort4"
   ]
  },
  {
   "cell_type": "code",
   "execution_count": null,
   "metadata": {
    "collapsed": false
   },
   "outputs": [],
   "source": [
    "# Missing Values\n",
    "stores.AcqCostPercust.isnull()\n",
    "#stores.AcqCostPercust[stores.AcqCostPercust.isnull()]\n",
    "#stores.AcqCostPercust[stores.AcqCostPercust.isnull()] = 0\n"
   ]
  },
  {
   "cell_type": "code",
   "execution_count": null,
   "metadata": {
    "collapsed": true
   },
   "outputs": [],
   "source": [
    "# Missing values denoted by NaN"
   ]
  },
  {
   "cell_type": "code",
   "execution_count": null,
   "metadata": {
    "collapsed": true
   },
   "outputs": [],
   "source": [
    "# Create a dummy data\n",
    "raw_data = {'first_name': ['Jason',\"\", 'Tina', 'Jake', 'Amy'],\n",
    "        'last_name': ['Miller', np.nan, 'Ali', 'Milner', 'Cooze'],\n",
    "        'age': [42, np.nan, 36, 24, 73],\n",
    "        'gender': ['m', np.nan, 'f', 'm', 'f'],\n",
    "        'preTestScore': [4, np.nan, np.nan, 2, 3],\n",
    "        'postTestScore': [25, np.nan, np.nan, 62, 70]}\n",
    "df = pd.DataFrame(raw_data, columns = ['first_name', 'last_name', 'age', 'gender', 'preTestScore', 'postTestScore'])"
   ]
  },
  {
   "cell_type": "code",
   "execution_count": null,
   "metadata": {
    "collapsed": true
   },
   "outputs": [],
   "source": [
    "# Drop missing observations\n",
    "\n",
    "df_no_missing = df.dropna()\n",
    "\n",
    "# Drop rows where all cells in that row is NA\n",
    "\n",
    "df_cleaned = df.dropna(how='all')"
   ]
  },
  {
   "cell_type": "code",
   "execution_count": null,
   "metadata": {
    "collapsed": false
   },
   "outputs": [],
   "source": [
    "# Fill in missing data with zeros\n",
    "\n",
    "#MissingWithZero = df.fillna(0)\n",
    "#MissingWithZero \n",
    "\n",
    "#stores[\"AcqCostPercust\"] = \n",
    "stores.AcqCostPercust.fillna(0)"
   ]
  },
  {
   "cell_type": "code",
   "execution_count": null,
   "metadata": {
    "collapsed": false
   },
   "outputs": [],
   "source": [
    "# Fill in missing in preTestScore with the mean value of preTestScore\n",
    "\n",
    "MissingWithMean = df[\"preTestScore\"].fillna(df[\"preTestScore\"].mean())\n",
    "\n",
    "stores['AcqCostPercust'] = stores[\"AcqCostPercust\"].fillna(stores[\"AcqCostPercust\"].mean())\n",
    "MissingStores"
   ]
  },
  {
   "cell_type": "code",
   "execution_count": null,
   "metadata": {
    "collapsed": false
   },
   "outputs": [],
   "source": [
    "# Count Missing values\n",
    "df.isnull()"
   ]
  },
  {
   "cell_type": "code",
   "execution_count": null,
   "metadata": {
    "collapsed": false
   },
   "outputs": [],
   "source": [
    "df.preTestScore.isnull()\n",
    "\n",
    "df.loc[df.last_name.isnull()]"
   ]
  },
  {
   "cell_type": "code",
   "execution_count": null,
   "metadata": {
    "collapsed": false
   },
   "outputs": [],
   "source": [
    "df.preTestScore.isnull().sum()"
   ]
  },
  {
   "cell_type": "code",
   "execution_count": null,
   "metadata": {
    "collapsed": false
   },
   "outputs": [],
   "source": [
    "# stores.isnull().sum()\n",
    "stores.AcqCostPercust.isnull().sum()"
   ]
  },
  {
   "cell_type": "code",
   "execution_count": null,
   "metadata": {
    "collapsed": false
   },
   "outputs": [],
   "source": [
    "# Get column names that have missing values\n",
    "stores.columns"
   ]
  },
  {
   "cell_type": "code",
   "execution_count": null,
   "metadata": {
    "collapsed": false
   },
   "outputs": [],
   "source": [
    "ColList = stores.columns\n",
    "\n",
    "ColListMissing = ColList[stores.isnull().any()]\n",
    "ColListMissing\n",
    "type(ColListMissing)\n",
    "ColListMissing.tolist()"
   ]
  },
  {
   "cell_type": "code",
   "execution_count": null,
   "metadata": {
    "collapsed": false
   },
   "outputs": [],
   "source": [
    "stores.AcqCostPercust"
   ]
  },
  {
   "cell_type": "code",
   "execution_count": null,
   "metadata": {
    "collapsed": true
   },
   "outputs": [],
   "source": [
    "# Checking for duplicates"
   ]
  },
  {
   "cell_type": "code",
   "execution_count": null,
   "metadata": {
    "collapsed": true
   },
   "outputs": [],
   "source": [
    "raw_data = {'first_name': ['Hector', 'CapnJack', 'Will', 'Davy', 'Tia','Hector', 'CapnJack', 'Will', 'Davy', 'Tia'],\n",
    "        'test1': [70, 42, 26, 62, 45,70, 42, 26, 62, 45],\n",
    "        'test2': [4, 8, 31, 2, 3,4, 9, 31, 2, 3],\n",
    "        'test3': [25, 20, 57, 62, 70,25, 20, 57, 62, 70]}\n",
    "df = pd.DataFrame(raw_data, columns = ['first_name', 'test1', 'test2', 'test3'])\n"
   ]
  },
  {
   "cell_type": "code",
   "execution_count": 31,
   "metadata": {
    "collapsed": false
   },
   "outputs": [
    {
     "data": {
      "text/html": [
       "<div>\n",
       "<style>\n",
       "    .dataframe thead tr:only-child th {\n",
       "        text-align: right;\n",
       "    }\n",
       "\n",
       "    .dataframe thead th {\n",
       "        text-align: left;\n",
       "    }\n",
       "\n",
       "    .dataframe tbody tr th {\n",
       "        vertical-align: top;\n",
       "    }\n",
       "</style>\n",
       "<table border=\"1\" class=\"dataframe\">\n",
       "  <thead>\n",
       "    <tr style=\"text-align: right;\">\n",
       "      <th></th>\n",
       "      <th>Student</th>\n",
       "      <th>Section</th>\n",
       "      <th>Test1</th>\n",
       "      <th>Test2</th>\n",
       "      <th>Final</th>\n",
       "    </tr>\n",
       "  </thead>\n",
       "  <tbody>\n",
       "    <tr>\n",
       "      <th>0</th>\n",
       "      <td>Capalleti</td>\n",
       "      <td>1</td>\n",
       "      <td>94</td>\n",
       "      <td>91</td>\n",
       "      <td>87</td>\n",
       "    </tr>\n",
       "    <tr>\n",
       "      <th>1</th>\n",
       "      <td>Dubose</td>\n",
       "      <td>2</td>\n",
       "      <td>51</td>\n",
       "      <td>65</td>\n",
       "      <td>91</td>\n",
       "    </tr>\n",
       "    <tr>\n",
       "      <th>2</th>\n",
       "      <td>Engles</td>\n",
       "      <td>1</td>\n",
       "      <td>95</td>\n",
       "      <td>97</td>\n",
       "      <td>97</td>\n",
       "    </tr>\n",
       "    <tr>\n",
       "      <th>3</th>\n",
       "      <td>Grant</td>\n",
       "      <td>2</td>\n",
       "      <td>63</td>\n",
       "      <td>75</td>\n",
       "      <td>80</td>\n",
       "    </tr>\n",
       "    <tr>\n",
       "      <th>4</th>\n",
       "      <td>Krupski</td>\n",
       "      <td>2</td>\n",
       "      <td>80</td>\n",
       "      <td>76</td>\n",
       "      <td>71</td>\n",
       "    </tr>\n",
       "    <tr>\n",
       "      <th>5</th>\n",
       "      <td>Lundsford</td>\n",
       "      <td>1</td>\n",
       "      <td>92</td>\n",
       "      <td>40</td>\n",
       "      <td>86</td>\n",
       "    </tr>\n",
       "    <tr>\n",
       "      <th>6</th>\n",
       "      <td>Mcbane</td>\n",
       "      <td>1</td>\n",
       "      <td>75</td>\n",
       "      <td>78</td>\n",
       "      <td>72</td>\n",
       "    </tr>\n",
       "    <tr>\n",
       "      <th>7</th>\n",
       "      <td>Capalleti</td>\n",
       "      <td>1</td>\n",
       "      <td>94</td>\n",
       "      <td>65</td>\n",
       "      <td>87</td>\n",
       "    </tr>\n",
       "    <tr>\n",
       "      <th>8</th>\n",
       "      <td>Dubose</td>\n",
       "      <td>2</td>\n",
       "      <td>51</td>\n",
       "      <td>65</td>\n",
       "      <td>91</td>\n",
       "    </tr>\n",
       "    <tr>\n",
       "      <th>9</th>\n",
       "      <td>Engles</td>\n",
       "      <td>1</td>\n",
       "      <td>95</td>\n",
       "      <td>97</td>\n",
       "      <td>97</td>\n",
       "    </tr>\n",
       "    <tr>\n",
       "      <th>10</th>\n",
       "      <td>Grant</td>\n",
       "      <td>2</td>\n",
       "      <td>63</td>\n",
       "      <td>75</td>\n",
       "      <td>80</td>\n",
       "    </tr>\n",
       "    <tr>\n",
       "      <th>11</th>\n",
       "      <td>Krupski</td>\n",
       "      <td>2</td>\n",
       "      <td>80</td>\n",
       "      <td>76</td>\n",
       "      <td>71</td>\n",
       "    </tr>\n",
       "    <tr>\n",
       "      <th>12</th>\n",
       "      <td>Lundsford</td>\n",
       "      <td>1</td>\n",
       "      <td>92</td>\n",
       "      <td>40</td>\n",
       "      <td>86</td>\n",
       "    </tr>\n",
       "    <tr>\n",
       "      <th>13</th>\n",
       "      <td>Mcbane</td>\n",
       "      <td>1</td>\n",
       "      <td>75</td>\n",
       "      <td>78</td>\n",
       "      <td>72</td>\n",
       "    </tr>\n",
       "  </tbody>\n",
       "</table>\n",
       "</div>"
      ],
      "text/plain": [
       "      Student  Section  Test1  Test2  Final\n",
       "0   Capalleti        1     94     91     87\n",
       "1      Dubose        2     51     65     91\n",
       "2      Engles        1     95     97     97\n",
       "3       Grant        2     63     75     80\n",
       "4     Krupski        2     80     76     71\n",
       "5   Lundsford        1     92     40     86\n",
       "6      Mcbane        1     75     78     72\n",
       "7   Capalleti        1     94     65     87\n",
       "8      Dubose        2     51     65     91\n",
       "9      Engles        1     95     97     97\n",
       "10      Grant        2     63     75     80\n",
       "11    Krupski        2     80     76     71\n",
       "12  Lundsford        1     92     40     86\n",
       "13     Mcbane        1     75     78     72"
      ]
     },
     "execution_count": 31,
     "metadata": {},
     "output_type": "execute_result"
    }
   ],
   "source": [
    "df = pd.read_csv(\"Score.csv\")\n",
    "df"
   ]
  },
  {
   "cell_type": "code",
   "execution_count": 25,
   "metadata": {
    "collapsed": false
   },
   "outputs": [
    {
     "data": {
      "text/plain": [
       "0     False\n",
       "1     False\n",
       "2     False\n",
       "3     False\n",
       "4     False\n",
       "5     False\n",
       "6     False\n",
       "7     False\n",
       "8      True\n",
       "9      True\n",
       "10     True\n",
       "11     True\n",
       "12     True\n",
       "13     True\n",
       "dtype: bool"
      ]
     },
     "execution_count": 25,
     "metadata": {},
     "output_type": "execute_result"
    }
   ],
   "source": [
    "# Identifying duplicate columns\n",
    "df.duplicated()\n"
   ]
  },
  {
   "cell_type": "code",
   "execution_count": 26,
   "metadata": {
    "collapsed": false
   },
   "outputs": [
    {
     "data": {
      "text/html": [
       "<div>\n",
       "<style>\n",
       "    .dataframe thead tr:only-child th {\n",
       "        text-align: right;\n",
       "    }\n",
       "\n",
       "    .dataframe thead th {\n",
       "        text-align: left;\n",
       "    }\n",
       "\n",
       "    .dataframe tbody tr th {\n",
       "        vertical-align: top;\n",
       "    }\n",
       "</style>\n",
       "<table border=\"1\" class=\"dataframe\">\n",
       "  <thead>\n",
       "    <tr style=\"text-align: right;\">\n",
       "      <th></th>\n",
       "      <th>Student</th>\n",
       "      <th>Section</th>\n",
       "      <th>Test1</th>\n",
       "      <th>Test2</th>\n",
       "      <th>Final</th>\n",
       "    </tr>\n",
       "  </thead>\n",
       "  <tbody>\n",
       "    <tr>\n",
       "      <th>8</th>\n",
       "      <td>Dubose</td>\n",
       "      <td>2</td>\n",
       "      <td>51</td>\n",
       "      <td>65</td>\n",
       "      <td>91</td>\n",
       "    </tr>\n",
       "    <tr>\n",
       "      <th>9</th>\n",
       "      <td>Engles</td>\n",
       "      <td>1</td>\n",
       "      <td>95</td>\n",
       "      <td>97</td>\n",
       "      <td>97</td>\n",
       "    </tr>\n",
       "    <tr>\n",
       "      <th>10</th>\n",
       "      <td>Grant</td>\n",
       "      <td>2</td>\n",
       "      <td>63</td>\n",
       "      <td>75</td>\n",
       "      <td>80</td>\n",
       "    </tr>\n",
       "    <tr>\n",
       "      <th>11</th>\n",
       "      <td>Krupski</td>\n",
       "      <td>2</td>\n",
       "      <td>80</td>\n",
       "      <td>76</td>\n",
       "      <td>71</td>\n",
       "    </tr>\n",
       "    <tr>\n",
       "      <th>12</th>\n",
       "      <td>Lundsford</td>\n",
       "      <td>1</td>\n",
       "      <td>92</td>\n",
       "      <td>40</td>\n",
       "      <td>86</td>\n",
       "    </tr>\n",
       "    <tr>\n",
       "      <th>13</th>\n",
       "      <td>Mcbane</td>\n",
       "      <td>1</td>\n",
       "      <td>75</td>\n",
       "      <td>78</td>\n",
       "      <td>72</td>\n",
       "    </tr>\n",
       "  </tbody>\n",
       "</table>\n",
       "</div>"
      ],
      "text/plain": [
       "      Student  Section  Test1  Test2  Final\n",
       "8      Dubose        2     51     65     91\n",
       "9      Engles        1     95     97     97\n",
       "10      Grant        2     63     75     80\n",
       "11    Krupski        2     80     76     71\n",
       "12  Lundsford        1     92     40     86\n",
       "13     Mcbane        1     75     78     72"
      ]
     },
     "execution_count": 26,
     "metadata": {},
     "output_type": "execute_result"
    }
   ],
   "source": [
    "DuplicatedSubset = df.loc[df.duplicated(),]"
   ]
  },
  {
   "cell_type": "code",
   "execution_count": 33,
   "metadata": {
    "collapsed": false
   },
   "outputs": [],
   "source": [
    "UniqueRecords = df.loc[~df.duplicated()]\n"
   ]
  },
  {
   "cell_type": "code",
   "execution_count": null,
   "metadata": {
    "collapsed": true
   },
   "outputs": [],
   "source": [
    "ss1 = pd.Series([1,2,5,3,1,5,1,2,3,6,8,9,10])"
   ]
  },
  {
   "cell_type": "code",
   "execution_count": null,
   "metadata": {
    "collapsed": false
   },
   "outputs": [],
   "source": [
    "ss1[-ss1.duplicated()]"
   ]
  },
  {
   "cell_type": "code",
   "execution_count": null,
   "metadata": {
    "collapsed": false
   },
   "outputs": [],
   "source": [
    "df.loc[-df.duplicated()] # All unique values"
   ]
  },
  {
   "cell_type": "code",
   "execution_count": null,
   "metadata": {
    "collapsed": false
   },
   "outputs": [],
   "source": [
    "# Drop duplicates\n",
    "\n",
    "df.drop_duplicates() # remove all duplicates or give all unique values"
   ]
  },
  {
   "cell_type": "code",
   "execution_count": null,
   "metadata": {
    "collapsed": false
   },
   "outputs": [],
   "source": [
    "df.drop_duplicates([\"first_name\"])"
   ]
  },
  {
   "cell_type": "code",
   "execution_count": null,
   "metadata": {
    "collapsed": false
   },
   "outputs": [],
   "source": [
    "df.drop_duplicates(['Student'], keep='last')\n",
    "\n",
    "# keep = \"first\" or \"last\" or False\n",
    "# 0,100,120,500,550\n",
    "\n",
    "# keep = \"first\" row no 0\n",
    "# keep = \"last\" row no 550\n",
    "# keep = False will delete all the 5 rows"
   ]
  },
  {
   "cell_type": "code",
   "execution_count": null,
   "metadata": {
    "collapsed": true
   },
   "outputs": [],
   "source": [
    "df"
   ]
  },
  {
   "cell_type": "code",
   "execution_count": 30,
   "metadata": {
    "collapsed": false
   },
   "outputs": [
    {
     "data": {
      "text/html": [
       "<div>\n",
       "<style>\n",
       "    .dataframe thead tr:only-child th {\n",
       "        text-align: right;\n",
       "    }\n",
       "\n",
       "    .dataframe thead th {\n",
       "        text-align: left;\n",
       "    }\n",
       "\n",
       "    .dataframe tbody tr th {\n",
       "        vertical-align: top;\n",
       "    }\n",
       "</style>\n",
       "<table border=\"1\" class=\"dataframe\">\n",
       "  <thead>\n",
       "    <tr style=\"text-align: right;\">\n",
       "      <th></th>\n",
       "      <th>Student</th>\n",
       "      <th>Section</th>\n",
       "      <th>Test1</th>\n",
       "      <th>Test2</th>\n",
       "      <th>Final</th>\n",
       "    </tr>\n",
       "  </thead>\n",
       "  <tbody>\n",
       "    <tr>\n",
       "      <th>0</th>\n",
       "      <td>Capalleti</td>\n",
       "      <td>1</td>\n",
       "      <td>94</td>\n",
       "      <td>91</td>\n",
       "      <td>87</td>\n",
       "    </tr>\n",
       "    <tr>\n",
       "      <th>1</th>\n",
       "      <td>Dubose</td>\n",
       "      <td>2</td>\n",
       "      <td>51</td>\n",
       "      <td>65</td>\n",
       "      <td>91</td>\n",
       "    </tr>\n",
       "    <tr>\n",
       "      <th>2</th>\n",
       "      <td>Engles</td>\n",
       "      <td>1</td>\n",
       "      <td>95</td>\n",
       "      <td>97</td>\n",
       "      <td>97</td>\n",
       "    </tr>\n",
       "    <tr>\n",
       "      <th>3</th>\n",
       "      <td>Grant</td>\n",
       "      <td>2</td>\n",
       "      <td>63</td>\n",
       "      <td>75</td>\n",
       "      <td>80</td>\n",
       "    </tr>\n",
       "    <tr>\n",
       "      <th>4</th>\n",
       "      <td>Krupski</td>\n",
       "      <td>2</td>\n",
       "      <td>80</td>\n",
       "      <td>76</td>\n",
       "      <td>71</td>\n",
       "    </tr>\n",
       "    <tr>\n",
       "      <th>5</th>\n",
       "      <td>Lundsford</td>\n",
       "      <td>1</td>\n",
       "      <td>92</td>\n",
       "      <td>40</td>\n",
       "      <td>86</td>\n",
       "    </tr>\n",
       "    <tr>\n",
       "      <th>6</th>\n",
       "      <td>Mcbane</td>\n",
       "      <td>1</td>\n",
       "      <td>75</td>\n",
       "      <td>78</td>\n",
       "      <td>72</td>\n",
       "    </tr>\n",
       "  </tbody>\n",
       "</table>\n",
       "</div>"
      ],
      "text/plain": [
       "     Student  Section  Test1  Test2  Final\n",
       "0  Capalleti        1     94     91     87\n",
       "1     Dubose        2     51     65     91\n",
       "2     Engles        1     95     97     97\n",
       "3      Grant        2     63     75     80\n",
       "4    Krupski        2     80     76     71\n",
       "5  Lundsford        1     92     40     86\n",
       "6     Mcbane        1     75     78     72"
      ]
     },
     "execution_count": 30,
     "metadata": {},
     "output_type": "execute_result"
    }
   ],
   "source": [
    "df.Student.duplicated()\n",
    "df.loc[-df.Student.duplicated(),:]"
   ]
  },
  {
   "cell_type": "code",
   "execution_count": null,
   "metadata": {
    "collapsed": true
   },
   "outputs": [],
   "source": [
    "Emp.loc[(Emp.EMPID.duplicated()) & (Emp.EMail.duplicated()) & (Emp.Phone.duplicated()) & ... ,:]"
   ]
  },
  {
   "cell_type": "code",
   "execution_count": null,
   "metadata": {
    "collapsed": true
   },
   "outputs": [],
   "source": [
    "# Binning"
   ]
  },
  {
   "cell_type": "code",
   "execution_count": null,
   "metadata": {
    "collapsed": true
   },
   "outputs": [],
   "source": [
    "# Chosing the bins\n",
    "\n",
    "print \"min: \",stores.TotalSales.min(),\" max : \",stores.TotalSales.max()"
   ]
  },
  {
   "cell_type": "code",
   "execution_count": null,
   "metadata": {
    "collapsed": true
   },
   "outputs": [],
   "source": [
    "stores.TotalSales.min()"
   ]
  },
  {
   "cell_type": "code",
   "execution_count": null,
   "metadata": {
    "collapsed": true
   },
   "outputs": [],
   "source": [
    "stores.TotalSales.max()"
   ]
  },
  {
   "cell_type": "code",
   "execution_count": null,
   "metadata": {
    "collapsed": false
   },
   "outputs": [],
   "source": [
    "q1 = stores.TotalSales.quantile([0,0.05,0.1,0.25,0.5,0.75,1])\n",
    "q1[0.25]"
   ]
  },
  {
   "cell_type": "code",
   "execution_count": null,
   "metadata": {
    "collapsed": false
   },
   "outputs": [],
   "source": [
    "q2 = stores.TotalSales.quantile([0.3,0.6,0.9,])\n",
    "q2\n",
    "q2[0.3]"
   ]
  },
  {
   "cell_type": "code",
   "execution_count": null,
   "metadata": {
    "collapsed": false
   },
   "outputs": [],
   "source": [
    "stores.StoreType.value_counts()"
   ]
  },
  {
   "cell_type": "code",
   "execution_count": null,
   "metadata": {
    "collapsed": true
   },
   "outputs": [],
   "source": [
    "# Create a column StorePerformance based on TotalSales\n",
    "\n",
    "# if TotalSales <= 30% - \"Low Performance\"\n",
    "# if TotalSales > 30%  and <= 60%- \"Average Performance\"\n",
    "# if TotalSales > 60% and <= 90%  - \"Good Performance\"\n",
    "# if TotalSales > 90% - \"High Performance\"\n"
   ]
  },
  {
   "cell_type": "code",
   "execution_count": null,
   "metadata": {
    "collapsed": true
   },
   "outputs": [],
   "source": [
    "Category = np.where(stores.TotalSales <= q2[0.3],\"Low\",\"High\")\n",
    "Category"
   ]
  },
  {
   "cell_type": "code",
   "execution_count": null,
   "metadata": {
    "collapsed": true
   },
   "outputs": [],
   "source": [
    "q = q2\n",
    "stores[\"Category\"] = np.where(stores.TotalSales <= q[0.3],\"Low\",np.where((stores.TotalSales > q[0.3]) &(stores.TotalSales <= q[0.6]),\"Medium\",\"High\"))\n",
    "Category\n",
    "\n",
    "\n"
   ]
  },
  {
   "cell_type": "code",
   "execution_count": null,
   "metadata": {
    "collapsed": false
   },
   "outputs": [],
   "source": [
    "# the where() function from numpy\n",
    "\n",
    "# where(<condition>,True,False)\n",
    "# ifelse(c,T,F)\n",
    "stores['test1'] = np.where((stores['TotalSales'] >= 250) & (stores['TotalSales'] <= 350)  , 'BN 250-350', 'Not more than 350')\n",
    "stores.test1.value_counts()"
   ]
  },
  {
   "cell_type": "code",
   "execution_count": null,
   "metadata": {
    "collapsed": true
   },
   "outputs": [],
   "source": [
    "# where(<condition>,TRUE = <s1>,FALSE = <s2 for false>)\n",
    "\n",
    "result = \"High\" if stores.TotalSales > 90 else \"Not High\""
   ]
  },
  {
   "cell_type": "raw",
   "metadata": {
    "collapsed": true
   },
   "source": [
    "stores['OfficeCode'] = np.where(stores['Location'] == \"Delhi\", 'D',np.where(stores['Location']== \"Mumbai\", 'BOM',np.where(stores['Location']== \"Kolkata\", 'KOLOffice',np.where(stores['Location']== \"Chennai\", 'MASOffice',''))))"
   ]
  },
  {
   "cell_type": "raw",
   "metadata": {
    "collapsed": true
   },
   "source": [
    "stores[\"OfficeCode\"] = np.where(stores['Location'] == \"Delhi\",\"D\",np.where(stores[\"Location\"] == \"Chennai\",\"C\"))"
   ]
  },
  {
   "cell_type": "raw",
   "metadata": {
    "collapsed": true
   },
   "source": [
    "test"
   ]
  },
  {
   "cell_type": "code",
   "execution_count": null,
   "metadata": {
    "collapsed": true
   },
   "outputs": [],
   "source": [
    "stores.loc[:,['Location','test']]"
   ]
  },
  {
   "cell_type": "raw",
   "metadata": {
    "collapsed": true
   },
   "source": [
    "TotalSales\n",
    "\n",
    "\"StorePerformance\"\n",
    "< 100 - \"Low Performing\"\n",
    "> 100- <= 250 - \"Average Performing\"\n",
    "> 250 - <= 350 - \"Good Performing\"\n",
    "> 350 - \"High Performing\""
   ]
  },
  {
   "cell_type": "raw",
   "metadata": {
    "collapsed": true
   },
   "source": [
    "stores[\"StoresPerformance\"] = np.where(stores['TotalSales'] < 100,\"Low\",\n",
    "                                        np.where(stores['TotalSales'] ..."
   ]
  },
  {
   "cell_type": "raw",
   "metadata": {
    "collapsed": true
   },
   "source": [
    "np.where(stores['TotalSales'] < 100,\"Low\",np.where((stores['TotalSales'] > 100) and (stores[\"TotalSales\"] <= 250,\"Average\",np.where((stores['TotalSales'] > 250..))) "
   ]
  },
  {
   "cell_type": "code",
   "execution_count": null,
   "metadata": {
    "collapsed": true
   },
   "outputs": [],
   "source": []
  },
  {
   "cell_type": "code",
   "execution_count": 85,
   "metadata": {
    "collapsed": false
   },
   "outputs": [
    {
     "data": {
      "text/html": [
       "<div>\n",
       "<style scoped>\n",
       "    .dataframe tbody tr th:only-of-type {\n",
       "        vertical-align: middle;\n",
       "    }\n",
       "\n",
       "    .dataframe tbody tr th {\n",
       "        vertical-align: top;\n",
       "    }\n",
       "\n",
       "    .dataframe thead th {\n",
       "        text-align: right;\n",
       "    }\n",
       "</style>\n",
       "<table border=\"1\" class=\"dataframe\">\n",
       "  <thead>\n",
       "    <tr style=\"text-align: right;\">\n",
       "      <th></th>\n",
       "      <th>CustName</th>\n",
       "      <th>Gender</th>\n",
       "      <th>Age</th>\n",
       "      <th>Location</th>\n",
       "      <th>Salary</th>\n",
       "      <th>Education</th>\n",
       "      <th>Mobile</th>\n",
       "    </tr>\n",
       "  </thead>\n",
       "  <tbody>\n",
       "    <tr>\n",
       "      <th>0</th>\n",
       "      <td>Alex</td>\n",
       "      <td>M</td>\n",
       "      <td>21</td>\n",
       "      <td>UK</td>\n",
       "      <td>19159</td>\n",
       "      <td>PhD</td>\n",
       "      <td>8834777722</td>\n",
       "    </tr>\n",
       "    <tr>\n",
       "      <th>1</th>\n",
       "      <td>Tom</td>\n",
       "      <td>M</td>\n",
       "      <td>34</td>\n",
       "      <td>USA</td>\n",
       "      <td>10461</td>\n",
       "      <td>X</td>\n",
       "      <td>8812237772</td>\n",
       "    </tr>\n",
       "    <tr>\n",
       "      <th>2</th>\n",
       "      <td>Michel</td>\n",
       "      <td>M</td>\n",
       "      <td>25</td>\n",
       "      <td>India</td>\n",
       "      <td>19961</td>\n",
       "      <td>XII</td>\n",
       "      <td>8834777232</td>\n",
       "    </tr>\n",
       "    <tr>\n",
       "      <th>3</th>\n",
       "      <td>Michael</td>\n",
       "      <td>M</td>\n",
       "      <td>28</td>\n",
       "      <td>Belgium</td>\n",
       "      <td>821</td>\n",
       "      <td>B.Com</td>\n",
       "      <td>8831234222</td>\n",
       "    </tr>\n",
       "    <tr>\n",
       "      <th>4</th>\n",
       "      <td>Patrik</td>\n",
       "      <td>M</td>\n",
       "      <td>29</td>\n",
       "      <td>Australia</td>\n",
       "      <td>13743</td>\n",
       "      <td>MBA</td>\n",
       "      <td>8823427722</td>\n",
       "    </tr>\n",
       "    <tr>\n",
       "      <th>5</th>\n",
       "      <td>Hans</td>\n",
       "      <td>M</td>\n",
       "      <td>34</td>\n",
       "      <td>Japan</td>\n",
       "      <td>25000</td>\n",
       "      <td>MS</td>\n",
       "      <td>8834772342</td>\n",
       "    </tr>\n",
       "    <tr>\n",
       "      <th>6</th>\n",
       "      <td>Biliana</td>\n",
       "      <td>F</td>\n",
       "      <td>26</td>\n",
       "      <td>Russia</td>\n",
       "      <td>3000</td>\n",
       "      <td>MS</td>\n",
       "      <td>8837427722</td>\n",
       "    </tr>\n",
       "    <tr>\n",
       "      <th>7</th>\n",
       "      <td>Raj</td>\n",
       "      <td>M</td>\n",
       "      <td>29</td>\n",
       "      <td>India</td>\n",
       "      <td>2000</td>\n",
       "      <td>MS</td>\n",
       "      <td>9892877722</td>\n",
       "    </tr>\n",
       "    <tr>\n",
       "      <th>8</th>\n",
       "      <td>Laila</td>\n",
       "      <td>F</td>\n",
       "      <td>26</td>\n",
       "      <td>India</td>\n",
       "      <td>4000</td>\n",
       "      <td>MBA</td>\n",
       "      <td>7867277722</td>\n",
       "    </tr>\n",
       "    <tr>\n",
       "      <th>9</th>\n",
       "      <td>Prabhas</td>\n",
       "      <td>F</td>\n",
       "      <td>35</td>\n",
       "      <td>India</td>\n",
       "      <td>20000</td>\n",
       "      <td>MBA</td>\n",
       "      <td>8834772321</td>\n",
       "    </tr>\n",
       "  </tbody>\n",
       "</table>\n",
       "</div>"
      ],
      "text/plain": [
       "  CustName Gender  Age   Location  Salary Education      Mobile\n",
       "0     Alex      M   21         UK   19159       PhD  8834777722\n",
       "1      Tom      M   34        USA   10461         X  8812237772\n",
       "2   Michel      M   25      India   19961       XII  8834777232\n",
       "3  Michael      M   28    Belgium     821     B.Com  8831234222\n",
       "4   Patrik      M   29  Australia   13743       MBA  8823427722\n",
       "5     Hans      M   34      Japan   25000        MS  8834772342\n",
       "6  Biliana      F   26     Russia    3000        MS  8837427722\n",
       "7      Raj      M   29      India    2000        MS  9892877722\n",
       "8    Laila      F   26      India    4000       MBA  7867277722\n",
       "9  Prabhas      F   35      India   20000       MBA  8834772321"
      ]
     },
     "execution_count": 85,
     "metadata": {},
     "output_type": "execute_result"
    }
   ],
   "source": [
    "# Merging\n",
    "    \n",
    "txn = pd.read_csv(\"Transaction_Summary.csv\")\n",
    "demographic = pd.read_csv(\"Demographic_Data.csv\")\n",
    "\n",
    "demographic\n"
   ]
  },
  {
   "cell_type": "code",
   "execution_count": 86,
   "metadata": {
    "collapsed": false
   },
   "outputs": [
    {
     "data": {
      "text/html": [
       "<div>\n",
       "<style scoped>\n",
       "    .dataframe tbody tr th:only-of-type {\n",
       "        vertical-align: middle;\n",
       "    }\n",
       "\n",
       "    .dataframe tbody tr th {\n",
       "        vertical-align: top;\n",
       "    }\n",
       "\n",
       "    .dataframe thead th {\n",
       "        text-align: right;\n",
       "    }\n",
       "</style>\n",
       "<table border=\"1\" class=\"dataframe\">\n",
       "  <thead>\n",
       "    <tr style=\"text-align: right;\">\n",
       "      <th></th>\n",
       "      <th>CustomerName</th>\n",
       "      <th>Total_Transaction_value</th>\n",
       "      <th>No_of_holding_prods</th>\n",
       "      <th>No_of_visits</th>\n",
       "      <th>No_of_channels</th>\n",
       "    </tr>\n",
       "  </thead>\n",
       "  <tbody>\n",
       "    <tr>\n",
       "      <th>0</th>\n",
       "      <td>Alex</td>\n",
       "      <td>19159</td>\n",
       "      <td>3</td>\n",
       "      <td>3</td>\n",
       "      <td>1</td>\n",
       "    </tr>\n",
       "    <tr>\n",
       "      <th>1</th>\n",
       "      <td>Tom</td>\n",
       "      <td>10461</td>\n",
       "      <td>2</td>\n",
       "      <td>7</td>\n",
       "      <td>2</td>\n",
       "    </tr>\n",
       "    <tr>\n",
       "      <th>2</th>\n",
       "      <td>Michel</td>\n",
       "      <td>19961</td>\n",
       "      <td>4</td>\n",
       "      <td>8</td>\n",
       "      <td>3</td>\n",
       "    </tr>\n",
       "    <tr>\n",
       "      <th>3</th>\n",
       "      <td>Hans</td>\n",
       "      <td>821</td>\n",
       "      <td>1</td>\n",
       "      <td>2</td>\n",
       "      <td>2</td>\n",
       "    </tr>\n",
       "    <tr>\n",
       "      <th>4</th>\n",
       "      <td>Biliana</td>\n",
       "      <td>13743</td>\n",
       "      <td>6</td>\n",
       "      <td>9</td>\n",
       "      <td>3</td>\n",
       "    </tr>\n",
       "    <tr>\n",
       "      <th>5</th>\n",
       "      <td>Rajesh</td>\n",
       "      <td>25000</td>\n",
       "      <td>2</td>\n",
       "      <td>12</td>\n",
       "      <td>2</td>\n",
       "    </tr>\n",
       "    <tr>\n",
       "      <th>6</th>\n",
       "      <td>Laila</td>\n",
       "      <td>3000</td>\n",
       "      <td>1</td>\n",
       "      <td>6</td>\n",
       "      <td>1</td>\n",
       "    </tr>\n",
       "    <tr>\n",
       "      <th>7</th>\n",
       "      <td>Prabhas</td>\n",
       "      <td>2000</td>\n",
       "      <td>2</td>\n",
       "      <td>4</td>\n",
       "      <td>2</td>\n",
       "    </tr>\n",
       "    <tr>\n",
       "      <th>8</th>\n",
       "      <td>Ramu</td>\n",
       "      <td>30000</td>\n",
       "      <td>6</td>\n",
       "      <td>2</td>\n",
       "      <td>3</td>\n",
       "    </tr>\n",
       "  </tbody>\n",
       "</table>\n",
       "</div>"
      ],
      "text/plain": [
       "  CustomerName  Total_Transaction_value  No_of_holding_prods  No_of_visits  \\\n",
       "0         Alex                    19159                    3             3   \n",
       "1          Tom                    10461                    2             7   \n",
       "2       Michel                    19961                    4             8   \n",
       "3         Hans                      821                    1             2   \n",
       "4      Biliana                    13743                    6             9   \n",
       "5       Rajesh                    25000                    2            12   \n",
       "6        Laila                     3000                    1             6   \n",
       "7      Prabhas                     2000                    2             4   \n",
       "8         Ramu                    30000                    6             2   \n",
       "\n",
       "   No_of_channels  \n",
       "0               1  \n",
       "1               2  \n",
       "2               3  \n",
       "3               2  \n",
       "4               3  \n",
       "5               2  \n",
       "6               1  \n",
       "7               2  \n",
       "8               3  "
      ]
     },
     "execution_count": 86,
     "metadata": {},
     "output_type": "execute_result"
    }
   ],
   "source": [
    "txn\n"
   ]
  },
  {
   "cell_type": "code",
   "execution_count": 87,
   "metadata": {
    "collapsed": false
   },
   "outputs": [],
   "source": [
    "InnerJoin = pd.merge(left = txn,right = demographic,left_on = \"CustomerName\",right_on = \"CustName\")"
   ]
  },
  {
   "cell_type": "code",
   "execution_count": 89,
   "metadata": {
    "collapsed": false
   },
   "outputs": [
    {
     "data": {
      "text/html": [
       "<div>\n",
       "<style scoped>\n",
       "    .dataframe tbody tr th:only-of-type {\n",
       "        vertical-align: middle;\n",
       "    }\n",
       "\n",
       "    .dataframe tbody tr th {\n",
       "        vertical-align: top;\n",
       "    }\n",
       "\n",
       "    .dataframe thead th {\n",
       "        text-align: right;\n",
       "    }\n",
       "</style>\n",
       "<table border=\"1\" class=\"dataframe\">\n",
       "  <thead>\n",
       "    <tr style=\"text-align: right;\">\n",
       "      <th></th>\n",
       "      <th>CustomerName</th>\n",
       "      <th>Total_Transaction_value</th>\n",
       "      <th>No_of_holding_prods</th>\n",
       "      <th>No_of_visits</th>\n",
       "      <th>No_of_channels</th>\n",
       "      <th>CustName</th>\n",
       "      <th>Gender</th>\n",
       "      <th>Age</th>\n",
       "      <th>Location</th>\n",
       "      <th>Salary</th>\n",
       "      <th>Education</th>\n",
       "      <th>Mobile</th>\n",
       "    </tr>\n",
       "  </thead>\n",
       "  <tbody>\n",
       "    <tr>\n",
       "      <th>0</th>\n",
       "      <td>Alex</td>\n",
       "      <td>19159</td>\n",
       "      <td>3</td>\n",
       "      <td>3</td>\n",
       "      <td>1</td>\n",
       "      <td>Alex</td>\n",
       "      <td>M</td>\n",
       "      <td>21</td>\n",
       "      <td>UK</td>\n",
       "      <td>19159</td>\n",
       "      <td>PhD</td>\n",
       "      <td>8834777722</td>\n",
       "    </tr>\n",
       "    <tr>\n",
       "      <th>1</th>\n",
       "      <td>Tom</td>\n",
       "      <td>10461</td>\n",
       "      <td>2</td>\n",
       "      <td>7</td>\n",
       "      <td>2</td>\n",
       "      <td>Tom</td>\n",
       "      <td>M</td>\n",
       "      <td>34</td>\n",
       "      <td>USA</td>\n",
       "      <td>10461</td>\n",
       "      <td>X</td>\n",
       "      <td>8812237772</td>\n",
       "    </tr>\n",
       "    <tr>\n",
       "      <th>2</th>\n",
       "      <td>Michel</td>\n",
       "      <td>19961</td>\n",
       "      <td>4</td>\n",
       "      <td>8</td>\n",
       "      <td>3</td>\n",
       "      <td>Michel</td>\n",
       "      <td>M</td>\n",
       "      <td>25</td>\n",
       "      <td>India</td>\n",
       "      <td>19961</td>\n",
       "      <td>XII</td>\n",
       "      <td>8834777232</td>\n",
       "    </tr>\n",
       "    <tr>\n",
       "      <th>3</th>\n",
       "      <td>Hans</td>\n",
       "      <td>821</td>\n",
       "      <td>1</td>\n",
       "      <td>2</td>\n",
       "      <td>2</td>\n",
       "      <td>Hans</td>\n",
       "      <td>M</td>\n",
       "      <td>34</td>\n",
       "      <td>Japan</td>\n",
       "      <td>25000</td>\n",
       "      <td>MS</td>\n",
       "      <td>8834772342</td>\n",
       "    </tr>\n",
       "    <tr>\n",
       "      <th>4</th>\n",
       "      <td>Biliana</td>\n",
       "      <td>13743</td>\n",
       "      <td>6</td>\n",
       "      <td>9</td>\n",
       "      <td>3</td>\n",
       "      <td>Biliana</td>\n",
       "      <td>F</td>\n",
       "      <td>26</td>\n",
       "      <td>Russia</td>\n",
       "      <td>3000</td>\n",
       "      <td>MS</td>\n",
       "      <td>8837427722</td>\n",
       "    </tr>\n",
       "    <tr>\n",
       "      <th>5</th>\n",
       "      <td>Laila</td>\n",
       "      <td>3000</td>\n",
       "      <td>1</td>\n",
       "      <td>6</td>\n",
       "      <td>1</td>\n",
       "      <td>Laila</td>\n",
       "      <td>F</td>\n",
       "      <td>26</td>\n",
       "      <td>India</td>\n",
       "      <td>4000</td>\n",
       "      <td>MBA</td>\n",
       "      <td>7867277722</td>\n",
       "    </tr>\n",
       "    <tr>\n",
       "      <th>6</th>\n",
       "      <td>Prabhas</td>\n",
       "      <td>2000</td>\n",
       "      <td>2</td>\n",
       "      <td>4</td>\n",
       "      <td>2</td>\n",
       "      <td>Prabhas</td>\n",
       "      <td>F</td>\n",
       "      <td>35</td>\n",
       "      <td>India</td>\n",
       "      <td>20000</td>\n",
       "      <td>MBA</td>\n",
       "      <td>8834772321</td>\n",
       "    </tr>\n",
       "  </tbody>\n",
       "</table>\n",
       "</div>"
      ],
      "text/plain": [
       "  CustomerName  Total_Transaction_value  No_of_holding_prods  No_of_visits  \\\n",
       "0         Alex                    19159                    3             3   \n",
       "1          Tom                    10461                    2             7   \n",
       "2       Michel                    19961                    4             8   \n",
       "3         Hans                      821                    1             2   \n",
       "4      Biliana                    13743                    6             9   \n",
       "5        Laila                     3000                    1             6   \n",
       "6      Prabhas                     2000                    2             4   \n",
       "\n",
       "   No_of_channels CustName Gender  Age Location  Salary Education      Mobile  \n",
       "0               1     Alex      M   21       UK   19159       PhD  8834777722  \n",
       "1               2      Tom      M   34      USA   10461         X  8812237772  \n",
       "2               3   Michel      M   25    India   19961       XII  8834777232  \n",
       "3               2     Hans      M   34    Japan   25000        MS  8834772342  \n",
       "4               3  Biliana      F   26   Russia    3000        MS  8837427722  \n",
       "5               1    Laila      F   26    India    4000       MBA  7867277722  \n",
       "6               2  Prabhas      F   35    India   20000       MBA  8834772321  "
      ]
     },
     "execution_count": 89,
     "metadata": {},
     "output_type": "execute_result"
    }
   ],
   "source": [
    "InnerJoin"
   ]
  },
  {
   "cell_type": "code",
   "execution_count": null,
   "metadata": {
    "collapsed": false
   },
   "outputs": [],
   "source": [
    "RightJoin = pd.merge(left = txn,right = demographic,right_on = \"CustName\", left_on = \"CustomerName\",how = \"right\")"
   ]
  },
  {
   "cell_type": "code",
   "execution_count": null,
   "metadata": {
    "collapsed": false
   },
   "outputs": [],
   "source": [
    "RightJoin"
   ]
  },
  {
   "cell_type": "code",
   "execution_count": 90,
   "metadata": {
    "collapsed": false
   },
   "outputs": [
    {
     "data": {
      "text/html": [
       "<div>\n",
       "<style scoped>\n",
       "    .dataframe tbody tr th:only-of-type {\n",
       "        vertical-align: middle;\n",
       "    }\n",
       "\n",
       "    .dataframe tbody tr th {\n",
       "        vertical-align: top;\n",
       "    }\n",
       "\n",
       "    .dataframe thead th {\n",
       "        text-align: right;\n",
       "    }\n",
       "</style>\n",
       "<table border=\"1\" class=\"dataframe\">\n",
       "  <thead>\n",
       "    <tr style=\"text-align: right;\">\n",
       "      <th></th>\n",
       "      <th>CustomerName</th>\n",
       "      <th>Total_Transaction_value</th>\n",
       "      <th>No_of_holding_prods</th>\n",
       "      <th>No_of_visits</th>\n",
       "      <th>No_of_channels</th>\n",
       "      <th>CustName</th>\n",
       "      <th>Gender</th>\n",
       "      <th>Age</th>\n",
       "      <th>Location</th>\n",
       "      <th>Salary</th>\n",
       "      <th>Education</th>\n",
       "      <th>Mobile</th>\n",
       "      <th>_merge</th>\n",
       "    </tr>\n",
       "  </thead>\n",
       "  <tbody>\n",
       "    <tr>\n",
       "      <th>0</th>\n",
       "      <td>Alex</td>\n",
       "      <td>19159</td>\n",
       "      <td>3</td>\n",
       "      <td>3</td>\n",
       "      <td>1</td>\n",
       "      <td>Alex</td>\n",
       "      <td>M</td>\n",
       "      <td>21.0</td>\n",
       "      <td>UK</td>\n",
       "      <td>19159.0</td>\n",
       "      <td>PhD</td>\n",
       "      <td>8.834778e+09</td>\n",
       "      <td>both</td>\n",
       "    </tr>\n",
       "    <tr>\n",
       "      <th>1</th>\n",
       "      <td>Tom</td>\n",
       "      <td>10461</td>\n",
       "      <td>2</td>\n",
       "      <td>7</td>\n",
       "      <td>2</td>\n",
       "      <td>Tom</td>\n",
       "      <td>M</td>\n",
       "      <td>34.0</td>\n",
       "      <td>USA</td>\n",
       "      <td>10461.0</td>\n",
       "      <td>X</td>\n",
       "      <td>8.812238e+09</td>\n",
       "      <td>both</td>\n",
       "    </tr>\n",
       "    <tr>\n",
       "      <th>2</th>\n",
       "      <td>Michel</td>\n",
       "      <td>19961</td>\n",
       "      <td>4</td>\n",
       "      <td>8</td>\n",
       "      <td>3</td>\n",
       "      <td>Michel</td>\n",
       "      <td>M</td>\n",
       "      <td>25.0</td>\n",
       "      <td>India</td>\n",
       "      <td>19961.0</td>\n",
       "      <td>XII</td>\n",
       "      <td>8.834777e+09</td>\n",
       "      <td>both</td>\n",
       "    </tr>\n",
       "    <tr>\n",
       "      <th>3</th>\n",
       "      <td>Hans</td>\n",
       "      <td>821</td>\n",
       "      <td>1</td>\n",
       "      <td>2</td>\n",
       "      <td>2</td>\n",
       "      <td>Hans</td>\n",
       "      <td>M</td>\n",
       "      <td>34.0</td>\n",
       "      <td>Japan</td>\n",
       "      <td>25000.0</td>\n",
       "      <td>MS</td>\n",
       "      <td>8.834772e+09</td>\n",
       "      <td>both</td>\n",
       "    </tr>\n",
       "    <tr>\n",
       "      <th>4</th>\n",
       "      <td>Biliana</td>\n",
       "      <td>13743</td>\n",
       "      <td>6</td>\n",
       "      <td>9</td>\n",
       "      <td>3</td>\n",
       "      <td>Biliana</td>\n",
       "      <td>F</td>\n",
       "      <td>26.0</td>\n",
       "      <td>Russia</td>\n",
       "      <td>3000.0</td>\n",
       "      <td>MS</td>\n",
       "      <td>8.837428e+09</td>\n",
       "      <td>both</td>\n",
       "    </tr>\n",
       "    <tr>\n",
       "      <th>5</th>\n",
       "      <td>Rajesh</td>\n",
       "      <td>25000</td>\n",
       "      <td>2</td>\n",
       "      <td>12</td>\n",
       "      <td>2</td>\n",
       "      <td>NaN</td>\n",
       "      <td>NaN</td>\n",
       "      <td>NaN</td>\n",
       "      <td>NaN</td>\n",
       "      <td>NaN</td>\n",
       "      <td>NaN</td>\n",
       "      <td>NaN</td>\n",
       "      <td>left_only</td>\n",
       "    </tr>\n",
       "    <tr>\n",
       "      <th>6</th>\n",
       "      <td>Laila</td>\n",
       "      <td>3000</td>\n",
       "      <td>1</td>\n",
       "      <td>6</td>\n",
       "      <td>1</td>\n",
       "      <td>Laila</td>\n",
       "      <td>F</td>\n",
       "      <td>26.0</td>\n",
       "      <td>India</td>\n",
       "      <td>4000.0</td>\n",
       "      <td>MBA</td>\n",
       "      <td>7.867278e+09</td>\n",
       "      <td>both</td>\n",
       "    </tr>\n",
       "    <tr>\n",
       "      <th>7</th>\n",
       "      <td>Prabhas</td>\n",
       "      <td>2000</td>\n",
       "      <td>2</td>\n",
       "      <td>4</td>\n",
       "      <td>2</td>\n",
       "      <td>Prabhas</td>\n",
       "      <td>F</td>\n",
       "      <td>35.0</td>\n",
       "      <td>India</td>\n",
       "      <td>20000.0</td>\n",
       "      <td>MBA</td>\n",
       "      <td>8.834772e+09</td>\n",
       "      <td>both</td>\n",
       "    </tr>\n",
       "    <tr>\n",
       "      <th>8</th>\n",
       "      <td>Ramu</td>\n",
       "      <td>30000</td>\n",
       "      <td>6</td>\n",
       "      <td>2</td>\n",
       "      <td>3</td>\n",
       "      <td>NaN</td>\n",
       "      <td>NaN</td>\n",
       "      <td>NaN</td>\n",
       "      <td>NaN</td>\n",
       "      <td>NaN</td>\n",
       "      <td>NaN</td>\n",
       "      <td>NaN</td>\n",
       "      <td>left_only</td>\n",
       "    </tr>\n",
       "  </tbody>\n",
       "</table>\n",
       "</div>"
      ],
      "text/plain": [
       "  CustomerName  Total_Transaction_value  No_of_holding_prods  No_of_visits  \\\n",
       "0         Alex                    19159                    3             3   \n",
       "1          Tom                    10461                    2             7   \n",
       "2       Michel                    19961                    4             8   \n",
       "3         Hans                      821                    1             2   \n",
       "4      Biliana                    13743                    6             9   \n",
       "5       Rajesh                    25000                    2            12   \n",
       "6        Laila                     3000                    1             6   \n",
       "7      Prabhas                     2000                    2             4   \n",
       "8         Ramu                    30000                    6             2   \n",
       "\n",
       "   No_of_channels CustName Gender   Age Location   Salary Education  \\\n",
       "0               1     Alex      M  21.0       UK  19159.0       PhD   \n",
       "1               2      Tom      M  34.0      USA  10461.0         X   \n",
       "2               3   Michel      M  25.0    India  19961.0       XII   \n",
       "3               2     Hans      M  34.0    Japan  25000.0        MS   \n",
       "4               3  Biliana      F  26.0   Russia   3000.0        MS   \n",
       "5               2      NaN    NaN   NaN      NaN      NaN       NaN   \n",
       "6               1    Laila      F  26.0    India   4000.0       MBA   \n",
       "7               2  Prabhas      F  35.0    India  20000.0       MBA   \n",
       "8               3      NaN    NaN   NaN      NaN      NaN       NaN   \n",
       "\n",
       "         Mobile     _merge  \n",
       "0  8.834778e+09       both  \n",
       "1  8.812238e+09       both  \n",
       "2  8.834777e+09       both  \n",
       "3  8.834772e+09       both  \n",
       "4  8.837428e+09       both  \n",
       "5           NaN  left_only  \n",
       "6  7.867278e+09       both  \n",
       "7  8.834772e+09       both  \n",
       "8           NaN  left_only  "
      ]
     },
     "execution_count": 90,
     "metadata": {},
     "output_type": "execute_result"
    }
   ],
   "source": [
    "LeftJoin = pd.merge(left = txn,right = demographic,right_on = [\"CustName\"], left_on = \"CustomerName\",how = \"left\",indicator=True)\n",
    "LeftJoin"
   ]
  },
  {
   "cell_type": "code",
   "execution_count": null,
   "metadata": {
    "collapsed": true
   },
   "outputs": [],
   "source": []
  },
  {
   "cell_type": "code",
   "execution_count": null,
   "metadata": {
    "collapsed": false
   },
   "outputs": [],
   "source": [
    "OuterJoin = pd.merge(left = txn,right = demographic,right_on = \"CustName\", left_on = \"CustomerName\",how = \"outer\")\n",
    "OuterJoin"
   ]
  },
  {
   "cell_type": "code",
   "execution_count": null,
   "metadata": {
    "collapsed": true
   },
   "outputs": [],
   "source": [
    "# Set indicator option to True\n",
    "OuterJoin = pd.merge(left = txn,right = demograhics,right_on = \"CustName\", left_on = \"CustomerName\",how = \"outer\", indicator=True)"
   ]
  },
  {
   "cell_type": "code",
   "execution_count": null,
   "metadata": {
    "collapsed": true
   },
   "outputs": [],
   "source": [
    "OuterJoin"
   ]
  },
  {
   "cell_type": "code",
   "execution_count": null,
   "metadata": {
    "collapsed": true
   },
   "outputs": [],
   "source": [
    "# Group By in pandas"
   ]
  },
  {
   "cell_type": "code",
   "execution_count": 78,
   "metadata": {
    "collapsed": false
   },
   "outputs": [
    {
     "data": {
      "text/plain": [
       "Location\n",
       "Chennai    279.4250\n",
       "Delhi      222.2125\n",
       "Kolkata    201.5500\n",
       "Mumbai     219.7000\n",
       "Name: TotalSales, dtype: float64"
      ]
     },
     "execution_count": 78,
     "metadata": {},
     "output_type": "execute_result"
    }
   ],
   "source": [
    "# SELECT Location, avg(TotalSales) FROM stores GROUP BY Location\n",
    "\n",
    "temp = stores.groupby([\"Location\"])\n",
    "temp.TotalSales.mean()"
   ]
  },
  {
   "cell_type": "code",
   "execution_count": null,
   "metadata": {
    "collapsed": false
   },
   "outputs": [],
   "source": [
    "temp"
   ]
  },
  {
   "cell_type": "code",
   "execution_count": 80,
   "metadata": {
    "collapsed": false
   },
   "outputs": [
    {
     "name": "stderr",
     "output_type": "stream",
     "text": [
      "C:\\Users\\admin\\Anaconda2\\lib\\site-packages\\ipykernel\\__main__.py:15: FutureWarning: using a dict on a Series for aggregation\n",
      "is deprecated and will be removed in a future version\n"
     ]
    },
    {
     "data": {
      "text/html": [
       "<div>\n",
       "<style scoped>\n",
       "    .dataframe tbody tr th:only-of-type {\n",
       "        vertical-align: middle;\n",
       "    }\n",
       "\n",
       "    .dataframe tbody tr th {\n",
       "        vertical-align: top;\n",
       "    }\n",
       "\n",
       "    .dataframe thead th {\n",
       "        text-align: right;\n",
       "    }\n",
       "</style>\n",
       "<table border=\"1\" class=\"dataframe\">\n",
       "  <thead>\n",
       "    <tr style=\"text-align: right;\">\n",
       "      <th></th>\n",
       "      <th>Location</th>\n",
       "      <th>AverageOfTotalSales</th>\n",
       "    </tr>\n",
       "  </thead>\n",
       "  <tbody>\n",
       "    <tr>\n",
       "      <th>0</th>\n",
       "      <td>Chennai</td>\n",
       "      <td>279.4250</td>\n",
       "    </tr>\n",
       "    <tr>\n",
       "      <th>1</th>\n",
       "      <td>Delhi</td>\n",
       "      <td>222.2125</td>\n",
       "    </tr>\n",
       "    <tr>\n",
       "      <th>2</th>\n",
       "      <td>Kolkata</td>\n",
       "      <td>201.5500</td>\n",
       "    </tr>\n",
       "    <tr>\n",
       "      <th>3</th>\n",
       "      <td>Mumbai</td>\n",
       "      <td>219.7000</td>\n",
       "    </tr>\n",
       "  </tbody>\n",
       "</table>\n",
       "</div>"
      ],
      "text/plain": [
       "  Location  AverageOfTotalSales\n",
       "0  Chennai             279.4250\n",
       "1    Delhi             222.2125\n",
       "2  Kolkata             201.5500\n",
       "3   Mumbai             219.7000"
      ]
     },
     "execution_count": 80,
     "metadata": {},
     "output_type": "execute_result"
    }
   ],
   "source": [
    "#temp.TotalSales.agg({\"SumOfTotalSales\" : sum})\n",
    "# key -> the name of the coulumn SumOfTotalSales\n",
    "# value -> the aggragation - sum, \"mean\", \"median\", len, \"std\", \"var\"\n",
    "\n",
    "#SELECT Location, sum(TotalSales) as 'SumOfTotalSales' FROM stores GROUP BY Location\n",
    "\n",
    "\n",
    "# mean, median, std, len, count, var\n",
    "\n",
    "# use agg option to create a dict of various options\n",
    "# use reset_index() to get a proper dataframe\n",
    "#temp['TotalSales'].agg(sum)\n",
    "\n",
    "temp = stores.groupby(\"Location\")\n",
    "Result1 = temp[\"TotalSales\"].agg({\"AverageOfTotalSales\":\"mean\"})\n",
    "Result1 = Result1.reset_index()\n",
    "Result1"
   ]
  },
  {
   "cell_type": "code",
   "execution_count": null,
   "metadata": {
    "collapsed": false
   },
   "outputs": [],
   "source": [
    "temp = stores.groupby(\"Location\")\n",
    "Result = temp.TotalSales.agg({\"Avg of TotalSales\":\"mean\"})\n",
    "Result.reset_index()\n",
    "\n"
   ]
  },
  {
   "cell_type": "code",
   "execution_count": 81,
   "metadata": {
    "collapsed": false
   },
   "outputs": [
    {
     "name": "stderr",
     "output_type": "stream",
     "text": [
      "C:\\Users\\admin\\Anaconda2\\lib\\site-packages\\ipykernel\\__main__.py:2: FutureWarning: using a dict on a Series for aggregation\n",
      "is deprecated and will be removed in a future version\n",
      "  from ipykernel import kernelapp as app\n"
     ]
    },
    {
     "data": {
      "text/html": [
       "<div>\n",
       "<style scoped>\n",
       "    .dataframe tbody tr th:only-of-type {\n",
       "        vertical-align: middle;\n",
       "    }\n",
       "\n",
       "    .dataframe tbody tr th {\n",
       "        vertical-align: top;\n",
       "    }\n",
       "\n",
       "    .dataframe thead th {\n",
       "        text-align: right;\n",
       "    }\n",
       "</style>\n",
       "<table border=\"1\" class=\"dataframe\">\n",
       "  <thead>\n",
       "    <tr style=\"text-align: right;\">\n",
       "      <th></th>\n",
       "      <th>Location</th>\n",
       "      <th>StoreType</th>\n",
       "      <th>CountOfValues</th>\n",
       "      <th>AvgofTotalSales</th>\n",
       "      <th>SumOfTotalSales</th>\n",
       "    </tr>\n",
       "  </thead>\n",
       "  <tbody>\n",
       "    <tr>\n",
       "      <th>0</th>\n",
       "      <td>Chennai</td>\n",
       "      <td>Apparel</td>\n",
       "      <td>3.0</td>\n",
       "      <td>305.133333</td>\n",
       "      <td>915.4</td>\n",
       "    </tr>\n",
       "    <tr>\n",
       "      <th>1</th>\n",
       "      <td>Chennai</td>\n",
       "      <td>Electronincs</td>\n",
       "      <td>2.0</td>\n",
       "      <td>300.400000</td>\n",
       "      <td>600.8</td>\n",
       "    </tr>\n",
       "    <tr>\n",
       "      <th>2</th>\n",
       "      <td>Chennai</td>\n",
       "      <td>Super Market</td>\n",
       "      <td>3.0</td>\n",
       "      <td>239.733333</td>\n",
       "      <td>719.2</td>\n",
       "    </tr>\n",
       "    <tr>\n",
       "      <th>3</th>\n",
       "      <td>Delhi</td>\n",
       "      <td>Apparel</td>\n",
       "      <td>3.0</td>\n",
       "      <td>248.333333</td>\n",
       "      <td>745.0</td>\n",
       "    </tr>\n",
       "    <tr>\n",
       "      <th>4</th>\n",
       "      <td>Delhi</td>\n",
       "      <td>Electronincs</td>\n",
       "      <td>2.0</td>\n",
       "      <td>153.350000</td>\n",
       "      <td>306.7</td>\n",
       "    </tr>\n",
       "    <tr>\n",
       "      <th>5</th>\n",
       "      <td>Delhi</td>\n",
       "      <td>Super Market</td>\n",
       "      <td>3.0</td>\n",
       "      <td>242.000000</td>\n",
       "      <td>726.0</td>\n",
       "    </tr>\n",
       "    <tr>\n",
       "      <th>6</th>\n",
       "      <td>Kolkata</td>\n",
       "      <td>Apparel</td>\n",
       "      <td>3.0</td>\n",
       "      <td>175.000000</td>\n",
       "      <td>525.0</td>\n",
       "    </tr>\n",
       "    <tr>\n",
       "      <th>7</th>\n",
       "      <td>Kolkata</td>\n",
       "      <td>Electronincs</td>\n",
       "      <td>2.0</td>\n",
       "      <td>260.500000</td>\n",
       "      <td>521.0</td>\n",
       "    </tr>\n",
       "    <tr>\n",
       "      <th>8</th>\n",
       "      <td>Kolkata</td>\n",
       "      <td>Super Market</td>\n",
       "      <td>3.0</td>\n",
       "      <td>188.800000</td>\n",
       "      <td>566.4</td>\n",
       "    </tr>\n",
       "    <tr>\n",
       "      <th>9</th>\n",
       "      <td>Mumbai</td>\n",
       "      <td>Apparel</td>\n",
       "      <td>3.0</td>\n",
       "      <td>233.566667</td>\n",
       "      <td>700.7</td>\n",
       "    </tr>\n",
       "    <tr>\n",
       "      <th>10</th>\n",
       "      <td>Mumbai</td>\n",
       "      <td>Electronincs</td>\n",
       "      <td>2.0</td>\n",
       "      <td>395.000000</td>\n",
       "      <td>790.0</td>\n",
       "    </tr>\n",
       "    <tr>\n",
       "      <th>11</th>\n",
       "      <td>Mumbai</td>\n",
       "      <td>Super Market</td>\n",
       "      <td>3.0</td>\n",
       "      <td>88.966667</td>\n",
       "      <td>266.9</td>\n",
       "    </tr>\n",
       "  </tbody>\n",
       "</table>\n",
       "</div>"
      ],
      "text/plain": [
       "   Location     StoreType  CountOfValues  AvgofTotalSales  SumOfTotalSales\n",
       "0   Chennai       Apparel            3.0       305.133333            915.4\n",
       "1   Chennai  Electronincs            2.0       300.400000            600.8\n",
       "2   Chennai  Super Market            3.0       239.733333            719.2\n",
       "3     Delhi       Apparel            3.0       248.333333            745.0\n",
       "4     Delhi  Electronincs            2.0       153.350000            306.7\n",
       "5     Delhi  Super Market            3.0       242.000000            726.0\n",
       "6   Kolkata       Apparel            3.0       175.000000            525.0\n",
       "7   Kolkata  Electronincs            2.0       260.500000            521.0\n",
       "8   Kolkata  Super Market            3.0       188.800000            566.4\n",
       "9    Mumbai       Apparel            3.0       233.566667            700.7\n",
       "10   Mumbai  Electronincs            2.0       395.000000            790.0\n",
       "11   Mumbai  Super Market            3.0        88.966667            266.9"
      ]
     },
     "execution_count": 81,
     "metadata": {},
     "output_type": "execute_result"
    }
   ],
   "source": [
    "temp = stores.groupby([\"Location\",\"StoreType\"])\n",
    "Result2 = temp['TotalSales'].agg({\"SumOfTotalSales\":sum,\"CountOfValues\":len,\"AvgofTotalSales\":\"mean\"})\n",
    "Result2 = Result2.reset_index()\n",
    "Result2"
   ]
  },
  {
   "cell_type": "code",
   "execution_count": null,
   "metadata": {
    "collapsed": false
   },
   "outputs": [],
   "source": [
    "#a = stores.groupby(\"Location\")[\"TotalSales\",\"OperatingCost\"].agg({\"Count\":len,\n",
    "                                                                 #\"Mean\":'mean',\n",
    "                                                                  # \"Sum\" :sum })\n",
    "temp = stores.groupby(\"Location\")\n",
    "temp[\"TotalSales\",\"OperatingCost\"].agg({\"Sum_Col\":sum}).reset_index()\n",
    "                                                                 "
   ]
  },
  {
   "cell_type": "code",
   "execution_count": null,
   "metadata": {
    "collapsed": false
   },
   "outputs": [],
   "source": [
    "temp = stores.groupby(\"Location\")\n",
    "a = temp[\"TotalSales\",\"OperatingCost\"].agg({\"Size\":len,\"Sum\":sum,\"Mean\":\"mean\"})\n",
    "a.reset_index()"
   ]
  },
  {
   "cell_type": "code",
   "execution_count": null,
   "metadata": {
    "collapsed": true
   },
   "outputs": [],
   "source": [
    "a.Count;a.Mean;a.Sum"
   ]
  },
  {
   "cell_type": "code",
   "execution_count": null,
   "metadata": {
    "collapsed": true
   },
   "outputs": [],
   "source": [
    "# Sum and Count on TotalSales and only average on OperatingCost\n",
    "\n",
    "b = stores.groupby([\"Location\",\"StoreType\"])[\"TotalSales\",\"OperatingCost\"].agg({\"TotalSales\":[len,sum],\"OperatingCost\":\"mean\"}).reset_index()\n",
    "\n"
   ]
  },
  {
   "cell_type": "code",
   "execution_count": null,
   "metadata": {
    "collapsed": false
   },
   "outputs": [],
   "source": [
    "temp = stores.groupby([\"Location\",\"StoreType\"])\n",
    "temp[[\"TotalSales\",\"OperatingCost\"]].agg({\"Sum\":sum}).reset_index()"
   ]
  },
  {
   "cell_type": "code",
   "execution_count": null,
   "metadata": {
    "collapsed": true
   },
   "outputs": [],
   "source": [
    "cust = pd.read_csv(\"Customers.csv\")\n",
    "import datetime as dt # dt is a package\n",
    "# datetime here is a module from package datetime or dt\n"
   ]
  },
  {
   "cell_type": "code",
   "execution_count": null,
   "metadata": {
    "collapsed": false
   },
   "outputs": [],
   "source": [
    "d1 = cust[\"recent date\"][1]"
   ]
  },
  {
   "cell_type": "code",
   "execution_count": null,
   "metadata": {
    "collapsed": true
   },
   "outputs": [],
   "source": [
    "d1_date = pd.to_datetime(d1,format = \"%Y%m%d\")"
   ]
  },
  {
   "cell_type": "code",
   "execution_count": null,
   "metadata": {
    "collapsed": false
   },
   "outputs": [],
   "source": [
    "d1_date"
   ]
  },
  {
   "cell_type": "code",
   "execution_count": null,
   "metadata": {
    "collapsed": false
   },
   "outputs": [],
   "source": [
    "d1"
   ]
  },
  {
   "cell_type": "code",
   "execution_count": null,
   "metadata": {
    "collapsed": false
   },
   "outputs": [],
   "source": [
    "pd.Series(d1_date)"
   ]
  },
  {
   "cell_type": "code",
   "execution_count": null,
   "metadata": {
    "collapsed": true
   },
   "outputs": [],
   "source": [
    "cust[\"recent date\"] = pd.to_datetime(cust[\"recent date\"],format = \"%Y%m%d\")"
   ]
  },
  {
   "cell_type": "code",
   "execution_count": null,
   "metadata": {
    "collapsed": false
   },
   "outputs": [],
   "source": [
    "recdt = cust[\"recent date\"][1:10]"
   ]
  },
  {
   "cell_type": "code",
   "execution_count": null,
   "metadata": {
    "collapsed": false
   },
   "outputs": [],
   "source": [
    "# Time differnece\n",
    "\n",
    "td = dt.datetime.today() - recdt\n",
    "td = td/np.timedelta64(1, 'D')\n",
    "td/365.25"
   ]
  },
  {
   "cell_type": "code",
   "execution_count": null,
   "metadata": {
    "collapsed": false
   },
   "outputs": [],
   "source": [
    "from __future__ import division\n",
    "((len(stores.AcqCostPercust)-stores.AcqCostPercust.count())/len(stores.AcqCostPercust)) * 100"
   ]
  },
  {
   "cell_type": "code",
   "execution_count": null,
   "metadata": {
    "collapsed": true
   },
   "outputs": [],
   "source": [
    "import seaborn as sb"
   ]
  },
  {
   "cell_type": "code",
   "execution_count": null,
   "metadata": {
    "collapsed": true
   },
   "outputs": [],
   "source": []
  },
  {
   "cell_type": "code",
   "execution_count": null,
   "metadata": {
    "collapsed": true
   },
   "outputs": [],
   "source": [
    "def functionName(arg1,arg2....):\n",
    "    ...\n",
    "    ...\n",
    "    ...\n",
    "    ...\n",
    "    \n",
    "    return(val)\n"
   ]
  },
  {
   "cell_type": "code",
   "execution_count": null,
   "metadata": {
    "collapsed": true
   },
   "outputs": [],
   "source": [
    "def AddNum(x,y):\n",
    "    if (type(x) == str) | (type(y) == str):\n",
    "        return \"You have entered strings\"\n",
    "    else:\n",
    "        return(x + y)"
   ]
  },
  {
   "cell_type": "code",
   "execution_count": null,
   "metadata": {
    "collapsed": false
   },
   "outputs": [],
   "source": [
    "AddNum(x = 12, y = 4)"
   ]
  },
  {
   "cell_type": "code",
   "execution_count": null,
   "metadata": {
    "collapsed": false
   },
   "outputs": [],
   "source": [
    "AddNum(x = 12, y = \"s\")"
   ]
  },
  {
   "cell_type": "code",
   "execution_count": null,
   "metadata": {
    "collapsed": false
   },
   "outputs": [],
   "source": [
    "a = raw_input(\"Enter a number\")\n",
    "print a\n",
    "\n",
    "# the object that is passed in raw_input is always a string\n",
    "\n",
    "a = int(a)\n",
    "print a * 1000"
   ]
  },
  {
   "cell_type": "code",
   "execution_count": null,
   "metadata": {
    "collapsed": false
   },
   "outputs": [],
   "source": [
    "AddNum()"
   ]
  },
  {
   "cell_type": "code",
   "execution_count": null,
   "metadata": {
    "collapsed": true
   },
   "outputs": [],
   "source": [
    "# args\n",
    "# kwargs\n",
    "\n",
    "MyFunc(*arguments)\n",
    "MyFunc(**arguments)\n",
    "\n",
    "\n",
    "\n",
    "\n",
    "    "
   ]
  },
  {
   "cell_type": "code",
   "execution_count": null,
   "metadata": {
    "collapsed": true
   },
   "outputs": [],
   "source": [
    "def AddNum1(*args):\n",
    "    print args"
   ]
  },
  {
   "cell_type": "code",
   "execution_count": null,
   "metadata": {
    "collapsed": true
   },
   "outputs": [],
   "source": [
    "def AddNum2(**kwargs):\n",
    "    print kwargs"
   ]
  },
  {
   "cell_type": "code",
   "execution_count": null,
   "metadata": {
    "collapsed": false
   },
   "outputs": [],
   "source": [
    "AddNum1(10,50,14,26,78)"
   ]
  },
  {
   "cell_type": "code",
   "execution_count": null,
   "metadata": {
    "collapsed": false
   },
   "outputs": [],
   "source": [
    "AddNum2(first = 21,sec = 52,third = 100,fourth = 300)"
   ]
  },
  {
   "cell_type": "code",
   "execution_count": null,
   "metadata": {
    "collapsed": false
   },
   "outputs": [],
   "source": [
    "def AddNum(x,y,*args,**kwargs):\n",
    "    print x\n",
    "    print y\n",
    "    print args\n",
    "    print kwargs"
   ]
  },
  {
   "cell_type": "code",
   "execution_count": null,
   "metadata": {
    "collapsed": false
   },
   "outputs": [],
   "source": [
    "AddNum(x=12,y = 20)"
   ]
  },
  {
   "cell_type": "code",
   "execution_count": null,
   "metadata": {
    "collapsed": true
   },
   "outputs": [],
   "source": [
    "stores.to_csv()\n",
    "\n",
    "stores.to_excel()\n",
    "\n",
    "stores.to_html()"
   ]
  },
  {
   "cell_type": "code",
   "execution_count": null,
   "metadata": {
    "collapsed": false
   },
   "outputs": [],
   "source": []
  },
  {
   "cell_type": "code",
   "execution_count": null,
   "metadata": {
    "collapsed": false
   },
   "outputs": [],
   "source": [
    "from __future__ import print_function"
   ]
  },
  {
   "cell_type": "code",
   "execution_count": null,
   "metadata": {
    "collapsed": false
   },
   "outputs": [],
   "source": [
    "# The print statements\n",
    "my_name = 'Zed A. Shaw'\n",
    "my_age = 35 # not a lie\n",
    "my_height = 74 # inches\n",
    "my_weight = 180 # lbs\n",
    "my_eyes = 'Blue'\n",
    "my_teeth = 'White'\n",
    "my_hair = 'Brown'\n",
    "\n",
    "print(\"Let's talk about %s.\" % my_name)"
   ]
  },
  {
   "cell_type": "code",
   "execution_count": null,
   "metadata": {
    "collapsed": false
   },
   "outputs": [],
   "source": [
    "l1 = [10, 14, 9, 666, 34, 58, 23, 32, 100, 5]\n",
    "ListLen = len(l1)\n",
    "for i in range(0,ListLen):\n",
    "    print(l1[i],end = \" \")"
   ]
  },
  {
   "cell_type": "code",
   "execution_count": 36,
   "metadata": {
    "collapsed": false
   },
   "outputs": [],
   "source": [
    "import pymysql as sql"
   ]
  },
  {
   "cell_type": "code",
   "execution_count": 37,
   "metadata": {
    "collapsed": false
   },
   "outputs": [
    {
     "ename": "OperationalError",
     "evalue": "(2003, \"Can't connect to MySQL server on 'localhost' ([Errno 10061] No connection could be made because the target machine actively refused it)\")",
     "output_type": "error",
     "traceback": [
      "\u001b[0;31m---------------------------------------------------------------------------\u001b[0m",
      "\u001b[0;31mOperationalError\u001b[0m                          Traceback (most recent call last)",
      "\u001b[0;32m<ipython-input-37-f16a67be24c8>\u001b[0m in \u001b[0;36m<module>\u001b[0;34m()\u001b[0m\n\u001b[1;32m      6\u001b[0m \u001b[1;31m# Establish a connection with DBMS\u001b[0m\u001b[1;33m\u001b[0m\u001b[1;33m\u001b[0m\u001b[0m\n\u001b[1;32m      7\u001b[0m \u001b[1;31m# Either specify a DSN or the user credentials\u001b[0m\u001b[1;33m\u001b[0m\u001b[1;33m\u001b[0m\u001b[0m\n\u001b[0;32m----> 8\u001b[0;31m \u001b[0mdb\u001b[0m \u001b[1;33m=\u001b[0m \u001b[0msql\u001b[0m\u001b[1;33m.\u001b[0m\u001b[0mconnect\u001b[0m\u001b[1;33m(\u001b[0m\u001b[1;34m\"localhost\"\u001b[0m\u001b[1;33m,\u001b[0m\u001b[1;34m\"testuser\"\u001b[0m\u001b[1;33m,\u001b[0m\u001b[1;34m\"password\"\u001b[0m\u001b[1;33m,\u001b[0m\u001b[1;34m\"regrecords\"\u001b[0m\u001b[1;33m)\u001b[0m\u001b[1;33m\u001b[0m\u001b[0m\n\u001b[0m\u001b[1;32m      9\u001b[0m \u001b[1;33m\u001b[0m\u001b[0m\n\u001b[1;32m     10\u001b[0m \u001b[1;33m\u001b[0m\u001b[0m\n",
      "\u001b[0;32mC:\\Users\\admin\\Anaconda2\\lib\\site-packages\\pymysql\\__init__.pyc\u001b[0m in \u001b[0;36mConnect\u001b[0;34m(*args, **kwargs)\u001b[0m\n\u001b[1;32m     88\u001b[0m     \"\"\"\n\u001b[1;32m     89\u001b[0m     \u001b[1;32mfrom\u001b[0m \u001b[1;33m.\u001b[0m\u001b[0mconnections\u001b[0m \u001b[1;32mimport\u001b[0m \u001b[0mConnection\u001b[0m\u001b[1;33m\u001b[0m\u001b[0m\n\u001b[0;32m---> 90\u001b[0;31m     \u001b[1;32mreturn\u001b[0m \u001b[0mConnection\u001b[0m\u001b[1;33m(\u001b[0m\u001b[1;33m*\u001b[0m\u001b[0margs\u001b[0m\u001b[1;33m,\u001b[0m \u001b[1;33m**\u001b[0m\u001b[0mkwargs\u001b[0m\u001b[1;33m)\u001b[0m\u001b[1;33m\u001b[0m\u001b[0m\n\u001b[0m\u001b[1;32m     91\u001b[0m \u001b[1;33m\u001b[0m\u001b[0m\n\u001b[1;32m     92\u001b[0m \u001b[1;32mfrom\u001b[0m \u001b[0mpymysql\u001b[0m \u001b[1;32mimport\u001b[0m \u001b[0mconnections\u001b[0m \u001b[1;32mas\u001b[0m \u001b[0m_orig_conn\u001b[0m\u001b[1;33m\u001b[0m\u001b[0m\n",
      "\u001b[0;32mC:\\Users\\admin\\Anaconda2\\lib\\site-packages\\pymysql\\connections.pyc\u001b[0m in \u001b[0;36m__init__\u001b[0;34m(self, host, user, password, database, port, unix_socket, charset, sql_mode, read_default_file, conv, use_unicode, client_flag, cursorclass, init_command, connect_timeout, ssl, read_default_group, compress, named_pipe, no_delay, autocommit, db, passwd, local_infile, max_allowed_packet, defer_connect, auth_plugin_map, read_timeout, write_timeout)\u001b[0m\n\u001b[1;32m    686\u001b[0m             \u001b[0mself\u001b[0m\u001b[1;33m.\u001b[0m\u001b[0m_sock\u001b[0m \u001b[1;33m=\u001b[0m \u001b[0mNone\u001b[0m\u001b[1;33m\u001b[0m\u001b[0m\n\u001b[1;32m    687\u001b[0m         \u001b[1;32melse\u001b[0m\u001b[1;33m:\u001b[0m\u001b[1;33m\u001b[0m\u001b[0m\n\u001b[0;32m--> 688\u001b[0;31m             \u001b[0mself\u001b[0m\u001b[1;33m.\u001b[0m\u001b[0mconnect\u001b[0m\u001b[1;33m(\u001b[0m\u001b[1;33m)\u001b[0m\u001b[1;33m\u001b[0m\u001b[0m\n\u001b[0m\u001b[1;32m    689\u001b[0m \u001b[1;33m\u001b[0m\u001b[0m\n\u001b[1;32m    690\u001b[0m     \u001b[1;32mdef\u001b[0m \u001b[0m_create_ssl_ctx\u001b[0m\u001b[1;33m(\u001b[0m\u001b[0mself\u001b[0m\u001b[1;33m,\u001b[0m \u001b[0msslp\u001b[0m\u001b[1;33m)\u001b[0m\u001b[1;33m:\u001b[0m\u001b[1;33m\u001b[0m\u001b[0m\n",
      "\u001b[0;32mC:\\Users\\admin\\Anaconda2\\lib\\site-packages\\pymysql\\connections.pyc\u001b[0m in \u001b[0;36mconnect\u001b[0;34m(self, sock)\u001b[0m\n\u001b[1;32m    935\u001b[0m                 \u001b[0mexc\u001b[0m\u001b[1;33m.\u001b[0m\u001b[0mtraceback\u001b[0m \u001b[1;33m=\u001b[0m \u001b[0mtraceback\u001b[0m\u001b[1;33m.\u001b[0m\u001b[0mformat_exc\u001b[0m\u001b[1;33m(\u001b[0m\u001b[1;33m)\u001b[0m\u001b[1;33m\u001b[0m\u001b[0m\n\u001b[1;32m    936\u001b[0m                 \u001b[1;32mif\u001b[0m \u001b[0mDEBUG\u001b[0m\u001b[1;33m:\u001b[0m \u001b[1;32mprint\u001b[0m\u001b[1;33m(\u001b[0m\u001b[0mexc\u001b[0m\u001b[1;33m.\u001b[0m\u001b[0mtraceback\u001b[0m\u001b[1;33m)\u001b[0m\u001b[1;33m\u001b[0m\u001b[0m\n\u001b[0;32m--> 937\u001b[0;31m                 \u001b[1;32mraise\u001b[0m \u001b[0mexc\u001b[0m\u001b[1;33m\u001b[0m\u001b[0m\n\u001b[0m\u001b[1;32m    938\u001b[0m \u001b[1;33m\u001b[0m\u001b[0m\n\u001b[1;32m    939\u001b[0m             \u001b[1;31m# If e is neither DatabaseError or IOError, It's a bug.\u001b[0m\u001b[1;33m\u001b[0m\u001b[1;33m\u001b[0m\u001b[0m\n",
      "\u001b[0;31mOperationalError\u001b[0m: (2003, \"Can't connect to MySQL server on 'localhost' ([Errno 10061] No connection could be made because the target machine actively refused it)\")"
     ]
    }
   ],
   "source": [
    "\n",
    "\n",
    "\n",
    "# In[2]:\n",
    "\n",
    "# Establish a connection with DBMS\n",
    "# Either specify a DSN or the user credentials\n",
    "db = sql.connect(\"localhost\",\"testuser\",\"password\",\"regrecords\")\n",
    "\n",
    "\n",
    "# In[3]:\n",
    "\n",
    "db\n",
    "\n",
    "\n",
    "# In[4]:\n",
    "\n",
    "import pandas as pd\n",
    "\n",
    "\n",
    "# In[5]:\n",
    "\n",
    "CarsData_df = pd.read_sql(\"SELECT * FROM cars_data\",con = db)\n",
    "\n",
    "\n",
    "# In[6]:\n",
    "\n",
    "CarsData_df.head(3)\n",
    "CarsData_df.tail(3)"
   ]
  },
  {
   "cell_type": "code",
   "execution_count": null,
   "metadata": {
    "collapsed": true
   },
   "outputs": [],
   "source": []
  },
  {
   "cell_type": "code",
   "execution_count": null,
   "metadata": {
    "collapsed": true
   },
   "outputs": [],
   "source": []
  },
  {
   "cell_type": "code",
   "execution_count": null,
   "metadata": {
    "collapsed": true
   },
   "outputs": [],
   "source": [
    "b = stores.groupby([\"Location\",\"StoreType\"])[\"TotalSales\",\"OperatingCost\"].agg({\"TotalSales\":[len,sum],\"OperatingCost\":\"mean\"}).reset_index()\n"
   ]
  },
  {
   "cell_type": "code",
   "execution_count": null,
   "metadata": {
    "collapsed": false
   },
   "outputs": [],
   "source": [
    "temp = stores.groupby([\"Location\",\"StoreType\"])\n",
    "\n",
    "Res = temp[[\"TotalSales\",\"OperatingCost\"]].agg({\"TotalSales\":sum,\"OperatingCost\":\"mean\"}).reset_index()\n",
    "Res = Res.rename(columns={\"TotalSales\":\"SumOfTotalSales\",\"OperatingCost\":\"AvgOfOperatingCost\"})"
   ]
  },
  {
   "cell_type": "code",
   "execution_count": null,
   "metadata": {
    "collapsed": false
   },
   "outputs": [],
   "source": [
    "Res"
   ]
  },
  {
   "cell_type": "code",
   "execution_count": 42,
   "metadata": {
    "collapsed": false,
    "scrolled": true
   },
   "outputs": [
    {
     "data": {
      "text/html": [
       "<div>\n",
       "<style>\n",
       "    .dataframe thead tr:only-child th {\n",
       "        text-align: right;\n",
       "    }\n",
       "\n",
       "    .dataframe thead th {\n",
       "        text-align: left;\n",
       "    }\n",
       "\n",
       "    .dataframe tbody tr th {\n",
       "        vertical-align: top;\n",
       "    }\n",
       "</style>\n",
       "<table border=\"1\" class=\"dataframe\">\n",
       "  <thead>\n",
       "    <tr style=\"text-align: right;\">\n",
       "      <th></th>\n",
       "      <th>CustomerName</th>\n",
       "      <th>Total_Transaction_value</th>\n",
       "      <th>No_of_holding_prods</th>\n",
       "      <th>No_of_visits</th>\n",
       "      <th>No_of_channels</th>\n",
       "      <th>CustName</th>\n",
       "      <th>Gender</th>\n",
       "      <th>Age</th>\n",
       "      <th>Location</th>\n",
       "      <th>Salary</th>\n",
       "      <th>Education</th>\n",
       "      <th>Mobile</th>\n",
       "      <th>_merge</th>\n",
       "    </tr>\n",
       "  </thead>\n",
       "  <tbody>\n",
       "    <tr>\n",
       "      <th>0</th>\n",
       "      <td>Alex</td>\n",
       "      <td>19159</td>\n",
       "      <td>3</td>\n",
       "      <td>3</td>\n",
       "      <td>1</td>\n",
       "      <td>Alex</td>\n",
       "      <td>M</td>\n",
       "      <td>21.0</td>\n",
       "      <td>UK</td>\n",
       "      <td>19159.0</td>\n",
       "      <td>PhD</td>\n",
       "      <td>8.834778e+09</td>\n",
       "      <td>both</td>\n",
       "    </tr>\n",
       "    <tr>\n",
       "      <th>1</th>\n",
       "      <td>Tom</td>\n",
       "      <td>10461</td>\n",
       "      <td>2</td>\n",
       "      <td>7</td>\n",
       "      <td>2</td>\n",
       "      <td>Tom</td>\n",
       "      <td>M</td>\n",
       "      <td>34.0</td>\n",
       "      <td>USA</td>\n",
       "      <td>10461.0</td>\n",
       "      <td>X</td>\n",
       "      <td>8.812238e+09</td>\n",
       "      <td>both</td>\n",
       "    </tr>\n",
       "    <tr>\n",
       "      <th>2</th>\n",
       "      <td>Michel</td>\n",
       "      <td>19961</td>\n",
       "      <td>4</td>\n",
       "      <td>8</td>\n",
       "      <td>3</td>\n",
       "      <td>Michel</td>\n",
       "      <td>M</td>\n",
       "      <td>25.0</td>\n",
       "      <td>India</td>\n",
       "      <td>19961.0</td>\n",
       "      <td>XII</td>\n",
       "      <td>8.834777e+09</td>\n",
       "      <td>both</td>\n",
       "    </tr>\n",
       "    <tr>\n",
       "      <th>3</th>\n",
       "      <td>Hans</td>\n",
       "      <td>821</td>\n",
       "      <td>1</td>\n",
       "      <td>2</td>\n",
       "      <td>2</td>\n",
       "      <td>Hans</td>\n",
       "      <td>M</td>\n",
       "      <td>34.0</td>\n",
       "      <td>Japan</td>\n",
       "      <td>25000.0</td>\n",
       "      <td>MS</td>\n",
       "      <td>8.834772e+09</td>\n",
       "      <td>both</td>\n",
       "    </tr>\n",
       "    <tr>\n",
       "      <th>4</th>\n",
       "      <td>Biliana</td>\n",
       "      <td>13743</td>\n",
       "      <td>6</td>\n",
       "      <td>9</td>\n",
       "      <td>3</td>\n",
       "      <td>Biliana</td>\n",
       "      <td>F</td>\n",
       "      <td>26.0</td>\n",
       "      <td>Russia</td>\n",
       "      <td>3000.0</td>\n",
       "      <td>MS</td>\n",
       "      <td>8.837428e+09</td>\n",
       "      <td>both</td>\n",
       "    </tr>\n",
       "    <tr>\n",
       "      <th>5</th>\n",
       "      <td>Rajesh</td>\n",
       "      <td>25000</td>\n",
       "      <td>2</td>\n",
       "      <td>12</td>\n",
       "      <td>2</td>\n",
       "      <td>NaN</td>\n",
       "      <td>NaN</td>\n",
       "      <td>NaN</td>\n",
       "      <td>NaN</td>\n",
       "      <td>NaN</td>\n",
       "      <td>NaN</td>\n",
       "      <td>NaN</td>\n",
       "      <td>left_only</td>\n",
       "    </tr>\n",
       "    <tr>\n",
       "      <th>6</th>\n",
       "      <td>Laila</td>\n",
       "      <td>3000</td>\n",
       "      <td>1</td>\n",
       "      <td>6</td>\n",
       "      <td>1</td>\n",
       "      <td>Laila</td>\n",
       "      <td>F</td>\n",
       "      <td>26.0</td>\n",
       "      <td>India</td>\n",
       "      <td>4000.0</td>\n",
       "      <td>MBA</td>\n",
       "      <td>7.867278e+09</td>\n",
       "      <td>both</td>\n",
       "    </tr>\n",
       "    <tr>\n",
       "      <th>7</th>\n",
       "      <td>Prabhas</td>\n",
       "      <td>2000</td>\n",
       "      <td>2</td>\n",
       "      <td>4</td>\n",
       "      <td>2</td>\n",
       "      <td>Prabhas</td>\n",
       "      <td>F</td>\n",
       "      <td>35.0</td>\n",
       "      <td>India</td>\n",
       "      <td>20000.0</td>\n",
       "      <td>MBA</td>\n",
       "      <td>8.834772e+09</td>\n",
       "      <td>both</td>\n",
       "    </tr>\n",
       "    <tr>\n",
       "      <th>8</th>\n",
       "      <td>Ramu</td>\n",
       "      <td>30000</td>\n",
       "      <td>6</td>\n",
       "      <td>2</td>\n",
       "      <td>3</td>\n",
       "      <td>NaN</td>\n",
       "      <td>NaN</td>\n",
       "      <td>NaN</td>\n",
       "      <td>NaN</td>\n",
       "      <td>NaN</td>\n",
       "      <td>NaN</td>\n",
       "      <td>NaN</td>\n",
       "      <td>left_only</td>\n",
       "    </tr>\n",
       "  </tbody>\n",
       "</table>\n",
       "</div>"
      ],
      "text/plain": [
       "  CustomerName  Total_Transaction_value  No_of_holding_prods  No_of_visits  \\\n",
       "0         Alex                    19159                    3             3   \n",
       "1          Tom                    10461                    2             7   \n",
       "2       Michel                    19961                    4             8   \n",
       "3         Hans                      821                    1             2   \n",
       "4      Biliana                    13743                    6             9   \n",
       "5       Rajesh                    25000                    2            12   \n",
       "6        Laila                     3000                    1             6   \n",
       "7      Prabhas                     2000                    2             4   \n",
       "8         Ramu                    30000                    6             2   \n",
       "\n",
       "   No_of_channels CustName Gender   Age Location   Salary Education  \\\n",
       "0               1     Alex      M  21.0       UK  19159.0       PhD   \n",
       "1               2      Tom      M  34.0      USA  10461.0         X   \n",
       "2               3   Michel      M  25.0    India  19961.0       XII   \n",
       "3               2     Hans      M  34.0    Japan  25000.0        MS   \n",
       "4               3  Biliana      F  26.0   Russia   3000.0        MS   \n",
       "5               2      NaN    NaN   NaN      NaN      NaN       NaN   \n",
       "6               1    Laila      F  26.0    India   4000.0       MBA   \n",
       "7               2  Prabhas      F  35.0    India  20000.0       MBA   \n",
       "8               3      NaN    NaN   NaN      NaN      NaN       NaN   \n",
       "\n",
       "         Mobile     _merge  \n",
       "0  8.834778e+09       both  \n",
       "1  8.812238e+09       both  \n",
       "2  8.834777e+09       both  \n",
       "3  8.834772e+09       both  \n",
       "4  8.837428e+09       both  \n",
       "5           NaN  left_only  \n",
       "6  7.867278e+09       both  \n",
       "7  8.834772e+09       both  \n",
       "8           NaN  left_only  "
      ]
     },
     "execution_count": 42,
     "metadata": {},
     "output_type": "execute_result"
    }
   ],
   "source": [
    "pd.merge(left=txn,right=demographic,left_on=\"CustomerName\",right_on=\"CustName\",how = \"left\",indicator=True)"
   ]
  },
  {
   "cell_type": "raw",
   "metadata": {
    "collapsed": true
   },
   "source": [
    "SELECT Location, sum(TotalSales) as 'SumOfTotalSales' from stores GROUP BY Location"
   ]
  },
  {
   "cell_type": "code",
   "execution_count": 50,
   "metadata": {
    "collapsed": false
   },
   "outputs": [
    {
     "name": "stderr",
     "output_type": "stream",
     "text": [
      "C:\\Users\\admin\\Anaconda2\\lib\\site-packages\\ipykernel\\__main__.py:19: FutureWarning: using a dict on a Series for aggregation\n",
      "is deprecated and will be removed in a future version\n"
     ]
    },
    {
     "data": {
      "text/html": [
       "<div>\n",
       "<style>\n",
       "    .dataframe thead tr:only-child th {\n",
       "        text-align: right;\n",
       "    }\n",
       "\n",
       "    .dataframe thead th {\n",
       "        text-align: left;\n",
       "    }\n",
       "\n",
       "    .dataframe tbody tr th {\n",
       "        vertical-align: top;\n",
       "    }\n",
       "</style>\n",
       "<table border=\"1\" class=\"dataframe\">\n",
       "  <thead>\n",
       "    <tr style=\"text-align: right;\">\n",
       "      <th></th>\n",
       "      <th>Location</th>\n",
       "      <th>SumOfTotalSales</th>\n",
       "    </tr>\n",
       "  </thead>\n",
       "  <tbody>\n",
       "    <tr>\n",
       "      <th>0</th>\n",
       "      <td>Chennai</td>\n",
       "      <td>2235.4</td>\n",
       "    </tr>\n",
       "    <tr>\n",
       "      <th>1</th>\n",
       "      <td>Delhi</td>\n",
       "      <td>1777.7</td>\n",
       "    </tr>\n",
       "    <tr>\n",
       "      <th>2</th>\n",
       "      <td>Kolkata</td>\n",
       "      <td>1612.4</td>\n",
       "    </tr>\n",
       "    <tr>\n",
       "      <th>3</th>\n",
       "      <td>Mumbai</td>\n",
       "      <td>1757.6</td>\n",
       "    </tr>\n",
       "  </tbody>\n",
       "</table>\n",
       "</div>"
      ],
      "text/plain": [
       "  Location  SumOfTotalSales\n",
       "0  Chennai           2235.4\n",
       "1    Delhi           1777.7\n",
       "2  Kolkata           1612.4\n",
       "3   Mumbai           1757.6"
      ]
     },
     "execution_count": 50,
     "metadata": {},
     "output_type": "execute_result"
    }
   ],
   "source": [
    "# step 1\n",
    "# getting a grouped object\n",
    "\n",
    "t = stores.groupby([\"Location\"])\n",
    "t\n",
    "\n",
    "# an exact copy of the DF - data and column names\n",
    "\n",
    "# Step 2\n",
    "# aggregations\n",
    "# Specify the continious var TotalSales \n",
    "# adn specify what calculations \n",
    "# mean\n",
    "# sum\n",
    "# std\n",
    "# var\n",
    "# len\n",
    "# median\n",
    "Result1 = t.TotalSales.agg({\"SumOfTotalSales\" : sum })\n",
    "# I'll pass a dictionary\n",
    "# {key : value } \n",
    "\n",
    "#{\"SumOfTotalSales\" : sum } # sum, mean, var, len, std, median\n",
    "# when typing in the function name -> font color = green but if font color = black\n",
    "\n",
    "Result1.reset_index()\n"
   ]
  },
  {
   "cell_type": "code",
   "execution_count": 51,
   "metadata": {
    "collapsed": true
   },
   "outputs": [],
   "source": [
    "Cust_demo = pd.read_csv(\"Cust_demo.csv\")"
   ]
  },
  {
   "cell_type": "code",
   "execution_count": null,
   "metadata": {
    "collapsed": true
   },
   "outputs": [],
   "source": [
    "\"SELECT Martial_Status, count(*) as 'Freq' FROM Cust_demo GROUP BY Martial_Status\""
   ]
  },
  {
   "cell_type": "code",
   "execution_count": 54,
   "metadata": {
    "collapsed": false
   },
   "outputs": [
    {
     "data": {
      "text/plain": [
       "<pandas.core.groupby.DataFrameGroupBy object at 0x000000000954CB00>"
      ]
     },
     "execution_count": 54,
     "metadata": {},
     "output_type": "execute_result"
    }
   ],
   "source": [
    "t = Cust_demo.groupby([\"Martial_Status\"])\n",
    "t"
   ]
  },
  {
   "cell_type": "code",
   "execution_count": 53,
   "metadata": {
    "collapsed": false
   },
   "outputs": [
    {
     "name": "stderr",
     "output_type": "stream",
     "text": [
      "C:\\Users\\admin\\Anaconda2\\lib\\site-packages\\ipykernel\\__main__.py:1: FutureWarning: using a dict on a Series for aggregation\n",
      "is deprecated and will be removed in a future version\n",
      "  if __name__ == '__main__':\n"
     ]
    },
    {
     "data": {
      "text/html": [
       "<div>\n",
       "<style>\n",
       "    .dataframe thead tr:only-child th {\n",
       "        text-align: right;\n",
       "    }\n",
       "\n",
       "    .dataframe thead th {\n",
       "        text-align: left;\n",
       "    }\n",
       "\n",
       "    .dataframe tbody tr th {\n",
       "        vertical-align: top;\n",
       "    }\n",
       "</style>\n",
       "<table border=\"1\" class=\"dataframe\">\n",
       "  <thead>\n",
       "    <tr style=\"text-align: right;\">\n",
       "      <th></th>\n",
       "      <th>Martial_Status</th>\n",
       "      <th>CountOfMartialSatus</th>\n",
       "    </tr>\n",
       "  </thead>\n",
       "  <tbody>\n",
       "    <tr>\n",
       "      <th>0</th>\n",
       "      <td>Married</td>\n",
       "      <td>42845</td>\n",
       "    </tr>\n",
       "    <tr>\n",
       "      <th>1</th>\n",
       "      <td>Single</td>\n",
       "      <td>107111</td>\n",
       "    </tr>\n",
       "  </tbody>\n",
       "</table>\n",
       "</div>"
      ],
      "text/plain": [
       "  Martial_Status  CountOfMartialSatus\n",
       "0        Married                42845\n",
       "1         Single               107111"
      ]
     },
     "execution_count": 53,
     "metadata": {},
     "output_type": "execute_result"
    }
   ],
   "source": [
    "Res = t.Martial_Status.agg({\"CountOfMartialSatus\":len})\n",
    "Res = Res.reset_index()\n",
    "Res"
   ]
  },
  {
   "cell_type": "code",
   "execution_count": 55,
   "metadata": {
    "collapsed": true
   },
   "outputs": [],
   "source": [
    "t = stores.groupby([\"Location\",\"StoreType\"])"
   ]
  },
  {
   "cell_type": "code",
   "execution_count": 59,
   "metadata": {
    "collapsed": false
   },
   "outputs": [
    {
     "name": "stderr",
     "output_type": "stream",
     "text": [
      "C:\\Users\\admin\\Anaconda2\\lib\\site-packages\\ipykernel\\__main__.py:1: FutureWarning: using a dict on a Series for aggregation\n",
      "is deprecated and will be removed in a future version\n",
      "  if __name__ == '__main__':\n"
     ]
    }
   ],
   "source": [
    "Result = t[[\"TotalSales\",\"OperatingCost\"]].agg({\"AvgOfTotalSales\":\"mean\",\"SumOfTotalSales\":sum})"
   ]
  },
  {
   "cell_type": "code",
   "execution_count": 60,
   "metadata": {
    "collapsed": false,
    "scrolled": true
   },
   "outputs": [
    {
     "data": {
      "text/html": [
       "<div>\n",
       "<style>\n",
       "    .dataframe thead tr:only-child th {\n",
       "        text-align: right;\n",
       "    }\n",
       "\n",
       "    .dataframe thead th {\n",
       "        text-align: left;\n",
       "    }\n",
       "\n",
       "    .dataframe tbody tr th {\n",
       "        vertical-align: top;\n",
       "    }\n",
       "</style>\n",
       "<table border=\"1\" class=\"dataframe\">\n",
       "  <thead>\n",
       "    <tr style=\"text-align: right;\">\n",
       "      <th></th>\n",
       "      <th>Location</th>\n",
       "      <th>StoreType</th>\n",
       "      <th>AvgOfTotalSales</th>\n",
       "      <th>SumOfTotalSales</th>\n",
       "    </tr>\n",
       "  </thead>\n",
       "  <tbody>\n",
       "    <tr>\n",
       "      <th>0</th>\n",
       "      <td>Chennai</td>\n",
       "      <td>Apparel</td>\n",
       "      <td>305.133333</td>\n",
       "      <td>915.4</td>\n",
       "    </tr>\n",
       "    <tr>\n",
       "      <th>1</th>\n",
       "      <td>Chennai</td>\n",
       "      <td>Electronincs</td>\n",
       "      <td>300.400000</td>\n",
       "      <td>600.8</td>\n",
       "    </tr>\n",
       "    <tr>\n",
       "      <th>2</th>\n",
       "      <td>Chennai</td>\n",
       "      <td>Super Market</td>\n",
       "      <td>239.733333</td>\n",
       "      <td>719.2</td>\n",
       "    </tr>\n",
       "    <tr>\n",
       "      <th>3</th>\n",
       "      <td>Delhi</td>\n",
       "      <td>Apparel</td>\n",
       "      <td>248.333333</td>\n",
       "      <td>745.0</td>\n",
       "    </tr>\n",
       "    <tr>\n",
       "      <th>4</th>\n",
       "      <td>Delhi</td>\n",
       "      <td>Electronincs</td>\n",
       "      <td>153.350000</td>\n",
       "      <td>306.7</td>\n",
       "    </tr>\n",
       "    <tr>\n",
       "      <th>5</th>\n",
       "      <td>Delhi</td>\n",
       "      <td>Super Market</td>\n",
       "      <td>242.000000</td>\n",
       "      <td>726.0</td>\n",
       "    </tr>\n",
       "    <tr>\n",
       "      <th>6</th>\n",
       "      <td>Kolkata</td>\n",
       "      <td>Apparel</td>\n",
       "      <td>175.000000</td>\n",
       "      <td>525.0</td>\n",
       "    </tr>\n",
       "    <tr>\n",
       "      <th>7</th>\n",
       "      <td>Kolkata</td>\n",
       "      <td>Electronincs</td>\n",
       "      <td>260.500000</td>\n",
       "      <td>521.0</td>\n",
       "    </tr>\n",
       "    <tr>\n",
       "      <th>8</th>\n",
       "      <td>Kolkata</td>\n",
       "      <td>Super Market</td>\n",
       "      <td>188.800000</td>\n",
       "      <td>566.4</td>\n",
       "    </tr>\n",
       "    <tr>\n",
       "      <th>9</th>\n",
       "      <td>Mumbai</td>\n",
       "      <td>Apparel</td>\n",
       "      <td>233.566667</td>\n",
       "      <td>700.7</td>\n",
       "    </tr>\n",
       "    <tr>\n",
       "      <th>10</th>\n",
       "      <td>Mumbai</td>\n",
       "      <td>Electronincs</td>\n",
       "      <td>395.000000</td>\n",
       "      <td>790.0</td>\n",
       "    </tr>\n",
       "    <tr>\n",
       "      <th>11</th>\n",
       "      <td>Mumbai</td>\n",
       "      <td>Super Market</td>\n",
       "      <td>88.966667</td>\n",
       "      <td>266.9</td>\n",
       "    </tr>\n",
       "  </tbody>\n",
       "</table>\n",
       "</div>"
      ],
      "text/plain": [
       "   Location     StoreType  AvgOfTotalSales  SumOfTotalSales\n",
       "0   Chennai       Apparel       305.133333            915.4\n",
       "1   Chennai  Electronincs       300.400000            600.8\n",
       "2   Chennai  Super Market       239.733333            719.2\n",
       "3     Delhi       Apparel       248.333333            745.0\n",
       "4     Delhi  Electronincs       153.350000            306.7\n",
       "5     Delhi  Super Market       242.000000            726.0\n",
       "6   Kolkata       Apparel       175.000000            525.0\n",
       "7   Kolkata  Electronincs       260.500000            521.0\n",
       "8   Kolkata  Super Market       188.800000            566.4\n",
       "9    Mumbai       Apparel       233.566667            700.7\n",
       "10   Mumbai  Electronincs       395.000000            790.0\n",
       "11   Mumbai  Super Market        88.966667            266.9"
      ]
     },
     "execution_count": 60,
     "metadata": {},
     "output_type": "execute_result"
    }
   ],
   "source": [
    "Result.reset_index()"
   ]
  },
  {
   "cell_type": "code",
   "execution_count": null,
   "metadata": {
    "collapsed": true
   },
   "outputs": [],
   "source": []
  }
 ],
 "metadata": {
  "kernelspec": {
   "display_name": "Python 2",
   "language": "python",
   "name": "python2"
  },
  "language_info": {
   "codemirror_mode": {
    "name": "ipython",
    "version": 2
   },
   "file_extension": ".py",
   "mimetype": "text/x-python",
   "name": "python",
   "nbconvert_exporter": "python",
   "pygments_lexer": "ipython2",
   "version": "2.7.13"
  }
 },
 "nbformat": 4,
 "nbformat_minor": 2
}
